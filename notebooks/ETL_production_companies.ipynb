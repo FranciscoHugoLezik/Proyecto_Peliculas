{
 "cells": [
  {
   "cell_type": "code",
   "execution_count": 1,
   "metadata": {},
   "outputs": [],
   "source": [
    "import pandas as pd\n",
    "import ast"
   ]
  },
  {
   "cell_type": "code",
   "execution_count": 2,
   "metadata": {},
   "outputs": [],
   "source": [
    "movies_dataset_df = pd.read_parquet('../data/movies_data/movies_dataset.parquet')"
   ]
  },
  {
   "cell_type": "code",
   "execution_count": 3,
   "metadata": {},
   "outputs": [
    {
     "data": {
      "text/plain": [
       "adult                                                                False\n",
       "belongs_to_collection    {'id': 10194, 'name': 'Toy Story Collection', ...\n",
       "budget                                                            30000000\n",
       "genres                   [{'id': 16, 'name': 'Animation'}, {'id': 35, '...\n",
       "homepage                              http://toystory.disney.com/toy-story\n",
       "id                                                                     862\n",
       "imdb_id                                                          tt0114709\n",
       "original_language                                                       en\n",
       "original_title                                                   Toy Story\n",
       "overview                 Led by Woody, Andy's toys live happily in his ...\n",
       "popularity                                                       21.946943\n",
       "poster_path                               /rhIRbceoE9lR4veEXuwCC2wARtG.jpg\n",
       "production_companies        [{'name': 'Pixar Animation Studios', 'id': 3}]\n",
       "production_countries     [{'iso_3166_1': 'US', 'name': 'United States o...\n",
       "release_date                                                    1995-10-30\n",
       "revenue                                                          373554033\n",
       "runtime                                                               81.0\n",
       "spoken_languages                  [{'iso_639_1': 'en', 'name': 'English'}]\n",
       "status                                                            Released\n",
       "tagline                                                               None\n",
       "title                                                            Toy Story\n",
       "video                                                                False\n",
       "vote_average                                                           7.7\n",
       "vote_count                                                            5415\n",
       "Name: 0, dtype: object"
      ]
     },
     "execution_count": 3,
     "metadata": {},
     "output_type": "execute_result"
    }
   ],
   "source": [
    "movies_dataset_df.iloc[0]"
   ]
  },
  {
   "cell_type": "code",
   "execution_count": 4,
   "metadata": {},
   "outputs": [
    {
     "name": "stdout",
     "output_type": "stream",
     "text": [
      "<class 'pandas.core.frame.DataFrame'>\n",
      "RangeIndex: 45466 entries, 0 to 45465\n",
      "Data columns (total 24 columns):\n",
      " #   Column                 Non-Null Count  Dtype \n",
      "---  ------                 --------------  ----- \n",
      " 0   adult                  45466 non-null  object\n",
      " 1   belongs_to_collection  4494 non-null   object\n",
      " 2   budget                 45466 non-null  object\n",
      " 3   genres                 45466 non-null  object\n",
      " 4   homepage               7782 non-null   object\n",
      " 5   id                     45466 non-null  object\n",
      " 6   imdb_id                45449 non-null  object\n",
      " 7   original_language      45455 non-null  object\n",
      " 8   original_title         45466 non-null  object\n",
      " 9   overview               44512 non-null  object\n",
      " 10  popularity             45461 non-null  object\n",
      " 11  poster_path            45080 non-null  object\n",
      " 12  production_companies   45463 non-null  object\n",
      " 13  production_countries   45463 non-null  object\n",
      " 14  release_date           45379 non-null  object\n",
      " 15  revenue                45460 non-null  object\n",
      " 16  runtime                45203 non-null  object\n",
      " 17  spoken_languages       45460 non-null  object\n",
      " 18  status                 45379 non-null  object\n",
      " 19  tagline                20412 non-null  object\n",
      " 20  title                  45460 non-null  object\n",
      " 21  video                  45460 non-null  object\n",
      " 22  vote_average           45460 non-null  object\n",
      " 23  vote_count             45460 non-null  object\n",
      "dtypes: object(24)\n",
      "memory usage: 8.3+ MB\n"
     ]
    }
   ],
   "source": [
    "movies_dataset_df.info()"
   ]
  },
  {
   "cell_type": "code",
   "execution_count": 6,
   "metadata": {},
   "outputs": [],
   "source": [
    "production_companies = movies_dataset_df[['production_companies','id']]"
   ]
  },
  {
   "cell_type": "code",
   "execution_count": 17,
   "metadata": {},
   "outputs": [
    {
     "data": {
      "text/html": [
       "<div>\n",
       "<style scoped>\n",
       "    .dataframe tbody tr th:only-of-type {\n",
       "        vertical-align: middle;\n",
       "    }\n",
       "\n",
       "    .dataframe tbody tr th {\n",
       "        vertical-align: top;\n",
       "    }\n",
       "\n",
       "    .dataframe thead th {\n",
       "        text-align: right;\n",
       "    }\n",
       "</style>\n",
       "<table border=\"1\" class=\"dataframe\">\n",
       "  <thead>\n",
       "    <tr style=\"text-align: right;\">\n",
       "      <th></th>\n",
       "      <th>production_companies</th>\n",
       "      <th>movie_id</th>\n",
       "    </tr>\n",
       "  </thead>\n",
       "  <tbody>\n",
       "    <tr>\n",
       "      <th>0</th>\n",
       "      <td>[{'name': 'Pixar Animation Studios', 'id': 3}]</td>\n",
       "      <td>862</td>\n",
       "    </tr>\n",
       "    <tr>\n",
       "      <th>1</th>\n",
       "      <td>[{'name': 'TriStar Pictures', 'id': 559}, {'na...</td>\n",
       "      <td>8844</td>\n",
       "    </tr>\n",
       "    <tr>\n",
       "      <th>2</th>\n",
       "      <td>[{'name': 'Warner Bros.', 'id': 6194}, {'name'...</td>\n",
       "      <td>15602</td>\n",
       "    </tr>\n",
       "    <tr>\n",
       "      <th>3</th>\n",
       "      <td>[{'name': 'Twentieth Century Fox Film Corporat...</td>\n",
       "      <td>31357</td>\n",
       "    </tr>\n",
       "    <tr>\n",
       "      <th>4</th>\n",
       "      <td>[{'name': 'Sandollar Productions', 'id': 5842}...</td>\n",
       "      <td>11862</td>\n",
       "    </tr>\n",
       "    <tr>\n",
       "      <th>...</th>\n",
       "      <td>...</td>\n",
       "      <td>...</td>\n",
       "    </tr>\n",
       "    <tr>\n",
       "      <th>45461</th>\n",
       "      <td>[]</td>\n",
       "      <td>439050</td>\n",
       "    </tr>\n",
       "    <tr>\n",
       "      <th>45462</th>\n",
       "      <td>[{'name': 'Sine Olivia', 'id': 19653}]</td>\n",
       "      <td>111109</td>\n",
       "    </tr>\n",
       "    <tr>\n",
       "      <th>45463</th>\n",
       "      <td>[{'name': 'American World Pictures', 'id': 6165}]</td>\n",
       "      <td>67758</td>\n",
       "    </tr>\n",
       "    <tr>\n",
       "      <th>45464</th>\n",
       "      <td>[{'name': 'Yermoliev', 'id': 88753}]</td>\n",
       "      <td>227506</td>\n",
       "    </tr>\n",
       "    <tr>\n",
       "      <th>45465</th>\n",
       "      <td>[]</td>\n",
       "      <td>461257</td>\n",
       "    </tr>\n",
       "  </tbody>\n",
       "</table>\n",
       "<p>45463 rows × 2 columns</p>\n",
       "</div>"
      ],
      "text/plain": [
       "                                    production_companies movie_id\n",
       "0         [{'name': 'Pixar Animation Studios', 'id': 3}]      862\n",
       "1      [{'name': 'TriStar Pictures', 'id': 559}, {'na...     8844\n",
       "2      [{'name': 'Warner Bros.', 'id': 6194}, {'name'...    15602\n",
       "3      [{'name': 'Twentieth Century Fox Film Corporat...    31357\n",
       "4      [{'name': 'Sandollar Productions', 'id': 5842}...    11862\n",
       "...                                                  ...      ...\n",
       "45461                                                 []   439050\n",
       "45462             [{'name': 'Sine Olivia', 'id': 19653}]   111109\n",
       "45463  [{'name': 'American World Pictures', 'id': 6165}]    67758\n",
       "45464               [{'name': 'Yermoliev', 'id': 88753}]   227506\n",
       "45465                                                 []   461257\n",
       "\n",
       "[45463 rows x 2 columns]"
      ]
     },
     "execution_count": 17,
     "metadata": {},
     "output_type": "execute_result"
    }
   ],
   "source": [
    "production_companies"
   ]
  },
  {
   "cell_type": "code",
   "execution_count": 9,
   "metadata": {},
   "outputs": [
    {
     "data": {
      "text/plain": [
       "production_companies    [{'name': 'Columbia Pictures', 'id': 5}, {'nam...\n",
       "movie_id                                                             9087\n",
       "Name: 10, dtype: object"
      ]
     },
     "execution_count": 9,
     "metadata": {},
     "output_type": "execute_result"
    }
   ],
   "source": [
    "production_companies.iloc[10]"
   ]
  },
  {
   "cell_type": "code",
   "execution_count": 10,
   "metadata": {},
   "outputs": [
    {
     "data": {
      "text/plain": [
       "\"[{'name': 'Columbia Pictures', 'id': 5}, {'name': 'Castle Rock Entertainment', 'id': 97}]\""
      ]
     },
     "execution_count": 10,
     "metadata": {},
     "output_type": "execute_result"
    }
   ],
   "source": [
    "production_companies['production_companies'][10]"
   ]
  },
  {
   "cell_type": "code",
   "execution_count": 11,
   "metadata": {},
   "outputs": [],
   "source": [
    "production_companies = production_companies.rename(columns={'id': 'movie_id'})"
   ]
  },
  {
   "cell_type": "code",
   "execution_count": 12,
   "metadata": {},
   "outputs": [
    {
     "name": "stdout",
     "output_type": "stream",
     "text": [
      "<class 'pandas.core.frame.DataFrame'>\n",
      "RangeIndex: 45466 entries, 0 to 45465\n",
      "Data columns (total 2 columns):\n",
      " #   Column                Non-Null Count  Dtype \n",
      "---  ------                --------------  ----- \n",
      " 0   production_companies  45463 non-null  object\n",
      " 1   movie_id              45466 non-null  object\n",
      "dtypes: object(2)\n",
      "memory usage: 710.5+ KB\n"
     ]
    }
   ],
   "source": [
    "production_companies.info()"
   ]
  },
  {
   "cell_type": "code",
   "execution_count": 13,
   "metadata": {},
   "outputs": [],
   "source": [
    "production_companies = production_companies.dropna(subset=['production_companies'])"
   ]
  },
  {
   "cell_type": "code",
   "execution_count": 37,
   "metadata": {},
   "outputs": [
    {
     "name": "stdout",
     "output_type": "stream",
     "text": [
      "<class 'pandas.core.frame.DataFrame'>\n",
      "Index: 45463 entries, 0 to 45465\n",
      "Data columns (total 2 columns):\n",
      " #   Column                Non-Null Count  Dtype \n",
      "---  ------                --------------  ----- \n",
      " 0   production_companies  45463 non-null  object\n",
      " 1   movie_id              45463 non-null  object\n",
      "dtypes: object(2)\n",
      "memory usage: 1.0+ MB\n"
     ]
    }
   ],
   "source": [
    "production_companies.info()"
   ]
  },
  {
   "cell_type": "code",
   "execution_count": 32,
   "metadata": {},
   "outputs": [],
   "source": [
    "production_companies = production_companies.dropna(subset=['movie_id'])"
   ]
  },
  {
   "cell_type": "code",
   "execution_count": 64,
   "metadata": {},
   "outputs": [],
   "source": [
    "production_companies = production_companies.reset_index(drop=True)"
   ]
  },
  {
   "cell_type": "code",
   "execution_count": 38,
   "metadata": {},
   "outputs": [],
   "source": [
    "production_companies['production_companies'] = production_companies['production_companies'].astype('str')\n",
    "production_companies['movie_id'] = production_companies['movie_id'].astype('str')"
   ]
  },
  {
   "cell_type": "code",
   "execution_count": 41,
   "metadata": {},
   "outputs": [],
   "source": [
    "production_companies = production_companies[production_companies['production_companies'] != '[]']"
   ]
  },
  {
   "cell_type": "code",
   "execution_count": 42,
   "metadata": {},
   "outputs": [
    {
     "name": "stdout",
     "output_type": "stream",
     "text": [
      "<class 'pandas.core.frame.DataFrame'>\n",
      "Index: 33588 entries, 0 to 45464\n",
      "Data columns (total 2 columns):\n",
      " #   Column                Non-Null Count  Dtype \n",
      "---  ------                --------------  ----- \n",
      " 0   production_companies  33588 non-null  object\n",
      " 1   movie_id              33588 non-null  object\n",
      "dtypes: object(2)\n",
      "memory usage: 787.2+ KB\n"
     ]
    }
   ],
   "source": [
    "production_companies.info()"
   ]
  },
  {
   "cell_type": "code",
   "execution_count": 65,
   "metadata": {},
   "outputs": [],
   "source": [
    "production_companies_list_dict = []\n",
    "\n",
    "for idx, row in production_companies.iterrows():\n",
    "    try:\n",
    "        if isinstance(row['production_companies'], str) and row['production_companies']:\n",
    "            production_companies_dicts = ast.literal_eval(row['production_companies'])\n",
    "            for production_companies_dict in production_companies_dicts:\n",
    "                production_companies_list_dict.append({**production_companies_dict, 'movie_id': row['movie_id']})\n",
    "    except Exception as e:\n",
    "        print(f\"Error en el índice {idx}: {e}\")"
   ]
  },
  {
   "cell_type": "code",
   "execution_count": 66,
   "metadata": {},
   "outputs": [],
   "source": [
    "production_companies_df = pd.DataFrame(production_companies_list_dict)"
   ]
  },
  {
   "cell_type": "code",
   "execution_count": 67,
   "metadata": {},
   "outputs": [
    {
     "data": {
      "text/html": [
       "<div>\n",
       "<style scoped>\n",
       "    .dataframe tbody tr th:only-of-type {\n",
       "        vertical-align: middle;\n",
       "    }\n",
       "\n",
       "    .dataframe tbody tr th {\n",
       "        vertical-align: top;\n",
       "    }\n",
       "\n",
       "    .dataframe thead th {\n",
       "        text-align: right;\n",
       "    }\n",
       "</style>\n",
       "<table border=\"1\" class=\"dataframe\">\n",
       "  <thead>\n",
       "    <tr style=\"text-align: right;\">\n",
       "      <th></th>\n",
       "      <th>name</th>\n",
       "      <th>id</th>\n",
       "      <th>movie_id</th>\n",
       "    </tr>\n",
       "  </thead>\n",
       "  <tbody>\n",
       "    <tr>\n",
       "      <th>0</th>\n",
       "      <td>Pixar Animation Studios</td>\n",
       "      <td>3</td>\n",
       "      <td>862</td>\n",
       "    </tr>\n",
       "    <tr>\n",
       "      <th>1</th>\n",
       "      <td>TriStar Pictures</td>\n",
       "      <td>559</td>\n",
       "      <td>8844</td>\n",
       "    </tr>\n",
       "    <tr>\n",
       "      <th>2</th>\n",
       "      <td>Teitler Film</td>\n",
       "      <td>2550</td>\n",
       "      <td>8844</td>\n",
       "    </tr>\n",
       "    <tr>\n",
       "      <th>3</th>\n",
       "      <td>Interscope Communications</td>\n",
       "      <td>10201</td>\n",
       "      <td>8844</td>\n",
       "    </tr>\n",
       "    <tr>\n",
       "      <th>4</th>\n",
       "      <td>Warner Bros.</td>\n",
       "      <td>6194</td>\n",
       "      <td>15602</td>\n",
       "    </tr>\n",
       "    <tr>\n",
       "      <th>...</th>\n",
       "      <td>...</td>\n",
       "      <td>...</td>\n",
       "      <td>...</td>\n",
       "    </tr>\n",
       "    <tr>\n",
       "      <th>70540</th>\n",
       "      <td>20th Century Fox Television</td>\n",
       "      <td>16323</td>\n",
       "      <td>30840</td>\n",
       "    </tr>\n",
       "    <tr>\n",
       "      <th>70541</th>\n",
       "      <td>CanWest Global Communications</td>\n",
       "      <td>38978</td>\n",
       "      <td>30840</td>\n",
       "    </tr>\n",
       "    <tr>\n",
       "      <th>70542</th>\n",
       "      <td>Sine Olivia</td>\n",
       "      <td>19653</td>\n",
       "      <td>111109</td>\n",
       "    </tr>\n",
       "    <tr>\n",
       "      <th>70543</th>\n",
       "      <td>American World Pictures</td>\n",
       "      <td>6165</td>\n",
       "      <td>67758</td>\n",
       "    </tr>\n",
       "    <tr>\n",
       "      <th>70544</th>\n",
       "      <td>Yermoliev</td>\n",
       "      <td>88753</td>\n",
       "      <td>227506</td>\n",
       "    </tr>\n",
       "  </tbody>\n",
       "</table>\n",
       "<p>70545 rows × 3 columns</p>\n",
       "</div>"
      ],
      "text/plain": [
       "                                name     id movie_id\n",
       "0            Pixar Animation Studios      3      862\n",
       "1                   TriStar Pictures    559     8844\n",
       "2                       Teitler Film   2550     8844\n",
       "3          Interscope Communications  10201     8844\n",
       "4                       Warner Bros.   6194    15602\n",
       "...                              ...    ...      ...\n",
       "70540    20th Century Fox Television  16323    30840\n",
       "70541  CanWest Global Communications  38978    30840\n",
       "70542                    Sine Olivia  19653   111109\n",
       "70543        American World Pictures   6165    67758\n",
       "70544                      Yermoliev  88753   227506\n",
       "\n",
       "[70545 rows x 3 columns]"
      ]
     },
     "execution_count": 67,
     "metadata": {},
     "output_type": "execute_result"
    }
   ],
   "source": [
    "production_companies_df"
   ]
  },
  {
   "cell_type": "code",
   "execution_count": 68,
   "metadata": {},
   "outputs": [
    {
     "name": "stdout",
     "output_type": "stream",
     "text": [
      "<class 'pandas.core.frame.DataFrame'>\n",
      "RangeIndex: 70545 entries, 0 to 70544\n",
      "Data columns (total 3 columns):\n",
      " #   Column    Non-Null Count  Dtype \n",
      "---  ------    --------------  ----- \n",
      " 0   name      70545 non-null  object\n",
      " 1   id        70545 non-null  int64 \n",
      " 2   movie_id  70545 non-null  object\n",
      "dtypes: int64(1), object(2)\n",
      "memory usage: 1.6+ MB\n"
     ]
    }
   ],
   "source": [
    "production_companies_df.info()"
   ]
  },
  {
   "cell_type": "code",
   "execution_count": 69,
   "metadata": {},
   "outputs": [],
   "source": [
    "production_companies_df['name'] = production_companies_df['name'].astype('str')\n",
    "production_companies_df['id'] = production_companies_df['id'].astype('str')\n",
    "production_companies_df['movie_id'] = production_companies_df['movie_id'].astype('str')"
   ]
  },
  {
   "cell_type": "code",
   "execution_count": 70,
   "metadata": {},
   "outputs": [
    {
     "name": "stdout",
     "output_type": "stream",
     "text": [
      "<class 'pandas.core.frame.DataFrame'>\n",
      "RangeIndex: 70545 entries, 0 to 70544\n",
      "Data columns (total 3 columns):\n",
      " #   Column    Non-Null Count  Dtype \n",
      "---  ------    --------------  ----- \n",
      " 0   name      70545 non-null  object\n",
      " 1   id        70545 non-null  object\n",
      " 2   movie_id  70545 non-null  object\n",
      "dtypes: object(3)\n",
      "memory usage: 1.6+ MB\n"
     ]
    }
   ],
   "source": [
    "production_companies_df.info()"
   ]
  },
  {
   "cell_type": "code",
   "execution_count": 63,
   "metadata": {},
   "outputs": [
    {
     "name": "stdout",
     "output_type": "stream",
     "text": [
      "                                    production_companies movie_id\n",
      "0         [{'name': 'Pixar Animation Studios', 'id': 3}]      862\n",
      "1      [{'name': 'TriStar Pictures', 'id': 559}, {'na...     8844\n",
      "2      [{'name': 'Warner Bros.', 'id': 6194}, {'name'...    15602\n",
      "3      [{'name': 'Twentieth Century Fox Film Corporat...    31357\n",
      "4      [{'name': 'Sandollar Productions', 'id': 5842}...    11862\n",
      "...                                                  ...      ...\n",
      "33583    [{'name': 'Concorde-New Horizons', 'id': 4688}]   222848\n",
      "33584  [{'name': 'Westdeutscher Rundfunk (WDR)', 'id'...    30840\n",
      "33585             [{'name': 'Sine Olivia', 'id': 19653}]   111109\n",
      "33586  [{'name': 'American World Pictures', 'id': 6165}]    67758\n",
      "33587               [{'name': 'Yermoliev', 'id': 88753}]   227506\n",
      "\n",
      "[33585 rows x 2 columns]\n"
     ]
    }
   ],
   "source": [
    "# Filtrar las filas donde la columna 'A' no contiene los strings 'True' o 'False'\n",
    "production_companies = production_companies[~production_companies['production_companies'].isin(['True', 'False'])]\n",
    "\n",
    "print(production_companies)"
   ]
  },
  {
   "cell_type": "code",
   "execution_count": 71,
   "metadata": {},
   "outputs": [],
   "source": [
    "production_companies.to_parquet('../data/data_processed/production_companies_ETL.parquet')"
   ]
  }
 ],
 "metadata": {
  "kernelspec": {
   "display_name": "venv",
   "language": "python",
   "name": "python3"
  },
  "language_info": {
   "codemirror_mode": {
    "name": "ipython",
    "version": 3
   },
   "file_extension": ".py",
   "mimetype": "text/x-python",
   "name": "python",
   "nbconvert_exporter": "python",
   "pygments_lexer": "ipython3",
   "version": "3.11.9"
  }
 },
 "nbformat": 4,
 "nbformat_minor": 2
}
