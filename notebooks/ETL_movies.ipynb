{
 "cells": [
  {
   "cell_type": "code",
   "execution_count": 27,
   "metadata": {},
   "outputs": [],
   "source": [
    "import pandas as pd\n",
    "import numpy as np"
   ]
  },
  {
   "cell_type": "code",
   "execution_count": 3,
   "metadata": {},
   "outputs": [],
   "source": [
    "movies_dataset_df = pd.read_parquet('../data/movies_data/movies_dataset.parquet')"
   ]
  },
  {
   "cell_type": "code",
   "execution_count": 4,
   "metadata": {},
   "outputs": [
    {
     "name": "stdout",
     "output_type": "stream",
     "text": [
      "<class 'pandas.core.frame.DataFrame'>\n",
      "RangeIndex: 45466 entries, 0 to 45465\n",
      "Data columns (total 24 columns):\n",
      " #   Column                 Non-Null Count  Dtype \n",
      "---  ------                 --------------  ----- \n",
      " 0   adult                  45466 non-null  object\n",
      " 1   belongs_to_collection  4494 non-null   object\n",
      " 2   budget                 45466 non-null  object\n",
      " 3   genres                 45466 non-null  object\n",
      " 4   homepage               7782 non-null   object\n",
      " 5   id                     45466 non-null  object\n",
      " 6   imdb_id                45449 non-null  object\n",
      " 7   original_language      45455 non-null  object\n",
      " 8   original_title         45466 non-null  object\n",
      " 9   overview               44512 non-null  object\n",
      " 10  popularity             45461 non-null  object\n",
      " 11  poster_path            45080 non-null  object\n",
      " 12  production_companies   45463 non-null  object\n",
      " 13  production_countries   45463 non-null  object\n",
      " 14  release_date           45379 non-null  object\n",
      " 15  revenue                45460 non-null  object\n",
      " 16  runtime                45203 non-null  object\n",
      " 17  spoken_languages       45460 non-null  object\n",
      " 18  status                 45379 non-null  object\n",
      " 19  tagline                20412 non-null  object\n",
      " 20  title                  45460 non-null  object\n",
      " 21  video                  45460 non-null  object\n",
      " 22  vote_average           45460 non-null  object\n",
      " 23  vote_count             45460 non-null  object\n",
      "dtypes: object(24)\n",
      "memory usage: 8.3+ MB\n"
     ]
    }
   ],
   "source": [
    "movies_dataset_df.info()"
   ]
  },
  {
   "cell_type": "code",
   "execution_count": 5,
   "metadata": {},
   "outputs": [
    {
     "data": {
      "text/plain": [
       "adult                                                                False\n",
       "belongs_to_collection    {'id': 91698, 'name': 'Chili Palmer Collection...\n",
       "budget                                                            30250000\n",
       "genres                   [{'id': 35, 'name': 'Comedy'}, {'id': 53, 'nam...\n",
       "homepage                                                              None\n",
       "id                                                                    8012\n",
       "imdb_id                                                          tt0113161\n",
       "original_language                                                       en\n",
       "original_title                                                  Get Shorty\n",
       "overview                 Chili Palmer is a Miami mobster who gets sent ...\n",
       "popularity                                                       12.669608\n",
       "poster_path                               /vWtDUUgQAsVyvRW4mE75LBgVm2e.jpg\n",
       "production_companies     [{'name': 'Jersey Films', 'id': 216}, {'name':...\n",
       "production_countries     [{'iso_3166_1': 'US', 'name': 'United States o...\n",
       "release_date                                                    1995-10-20\n",
       "revenue                                                          115101622\n",
       "runtime                                                              105.0\n",
       "spoken_languages                  [{'iso_639_1': 'en', 'name': 'English'}]\n",
       "status                                                            Released\n",
       "tagline                  The mob is tough, but it’s nothing like show b...\n",
       "title                                                           Get Shorty\n",
       "video                                                                False\n",
       "vote_average                                                           6.4\n",
       "vote_count                                                             305\n",
       "Name: 20, dtype: object"
      ]
     },
     "execution_count": 5,
     "metadata": {},
     "output_type": "execute_result"
    }
   ],
   "source": [
    "movies_dataset_df.iloc[20]"
   ]
  },
  {
   "cell_type": "code",
   "execution_count": 6,
   "metadata": {},
   "outputs": [
    {
     "data": {
      "text/plain": [
       "['video', 'imdb_id', 'adult', 'original_title', 'poster_path', 'homepage']"
      ]
     },
     "execution_count": 6,
     "metadata": {},
     "output_type": "execute_result"
    }
   ],
   "source": [
    "unnecessary = \"video,imdb_id,adult,original_title,poster_path,homepage\"\n",
    "unnecessary = unnecessary.split(',')\n",
    "unnecessary"
   ]
  },
  {
   "cell_type": "code",
   "execution_count": 7,
   "metadata": {},
   "outputs": [],
   "source": [
    "movies_dataset_df = movies_dataset_df.drop(columns=unnecessary)"
   ]
  },
  {
   "cell_type": "code",
   "execution_count": 8,
   "metadata": {},
   "outputs": [
    {
     "data": {
      "text/plain": [
       "(45466, 18)"
      ]
     },
     "execution_count": 8,
     "metadata": {},
     "output_type": "execute_result"
    }
   ],
   "source": [
    "movies_dataset_df.shape"
   ]
  },
  {
   "cell_type": "code",
   "execution_count": 9,
   "metadata": {},
   "outputs": [
    {
     "name": "stdout",
     "output_type": "stream",
     "text": [
      "<class 'pandas.core.frame.DataFrame'>\n",
      "RangeIndex: 45466 entries, 0 to 45465\n",
      "Data columns (total 18 columns):\n",
      " #   Column                 Non-Null Count  Dtype \n",
      "---  ------                 --------------  ----- \n",
      " 0   belongs_to_collection  4494 non-null   object\n",
      " 1   budget                 45466 non-null  object\n",
      " 2   genres                 45466 non-null  object\n",
      " 3   id                     45466 non-null  object\n",
      " 4   original_language      45455 non-null  object\n",
      " 5   overview               44512 non-null  object\n",
      " 6   popularity             45461 non-null  object\n",
      " 7   production_companies   45463 non-null  object\n",
      " 8   production_countries   45463 non-null  object\n",
      " 9   release_date           45379 non-null  object\n",
      " 10  revenue                45460 non-null  object\n",
      " 11  runtime                45203 non-null  object\n",
      " 12  spoken_languages       45460 non-null  object\n",
      " 13  status                 45379 non-null  object\n",
      " 14  tagline                20412 non-null  object\n",
      " 15  title                  45460 non-null  object\n",
      " 16  vote_average           45460 non-null  object\n",
      " 17  vote_count             45460 non-null  object\n",
      "dtypes: object(18)\n",
      "memory usage: 6.2+ MB\n"
     ]
    }
   ],
   "source": [
    "movies_dataset_df.info()"
   ]
  },
  {
   "cell_type": "code",
   "execution_count": 10,
   "metadata": {},
   "outputs": [],
   "source": [
    "movies_only_df = movies_dataset_df.drop(columns=['belongs_to_collection', \n",
    "                                                 'genres', 'production_companies', \n",
    "                                                 'production_countries', 'spoken_languages'])"
   ]
  },
  {
   "cell_type": "code",
   "execution_count": 11,
   "metadata": {},
   "outputs": [
    {
     "data": {
      "text/plain": [
       "(45466, 13)"
      ]
     },
     "execution_count": 11,
     "metadata": {},
     "output_type": "execute_result"
    }
   ],
   "source": [
    "movies_only_df.shape"
   ]
  },
  {
   "cell_type": "code",
   "execution_count": 12,
   "metadata": {},
   "outputs": [
    {
     "name": "stdout",
     "output_type": "stream",
     "text": [
      "<class 'pandas.core.frame.DataFrame'>\n",
      "RangeIndex: 45466 entries, 0 to 45465\n",
      "Data columns (total 13 columns):\n",
      " #   Column             Non-Null Count  Dtype \n",
      "---  ------             --------------  ----- \n",
      " 0   budget             45466 non-null  object\n",
      " 1   id                 45466 non-null  object\n",
      " 2   original_language  45455 non-null  object\n",
      " 3   overview           44512 non-null  object\n",
      " 4   popularity         45461 non-null  object\n",
      " 5   release_date       45379 non-null  object\n",
      " 6   revenue            45460 non-null  object\n",
      " 7   runtime            45203 non-null  object\n",
      " 8   status             45379 non-null  object\n",
      " 9   tagline            20412 non-null  object\n",
      " 10  title              45460 non-null  object\n",
      " 11  vote_average       45460 non-null  object\n",
      " 12  vote_count         45460 non-null  object\n",
      "dtypes: object(13)\n",
      "memory usage: 4.5+ MB\n"
     ]
    }
   ],
   "source": [
    "movies_only_df.info()"
   ]
  },
  {
   "cell_type": "code",
   "execution_count": 13,
   "metadata": {},
   "outputs": [],
   "source": [
    "movies_only_df = movies_only_df.dropna(subset='title')"
   ]
  },
  {
   "cell_type": "code",
   "execution_count": 14,
   "metadata": {},
   "outputs": [
    {
     "data": {
      "text/plain": [
       "budget               object\n",
       "id                   object\n",
       "original_language    object\n",
       "overview             object\n",
       "popularity           object\n",
       "release_date         object\n",
       "revenue              object\n",
       "runtime              object\n",
       "status               object\n",
       "tagline              object\n",
       "title                object\n",
       "vote_average         object\n",
       "vote_count           object\n",
       "dtype: object"
      ]
     },
     "execution_count": 14,
     "metadata": {},
     "output_type": "execute_result"
    }
   ],
   "source": [
    "movies_only_df.dtypes"
   ]
  },
  {
   "cell_type": "code",
   "execution_count": 15,
   "metadata": {},
   "outputs": [],
   "source": [
    "movies_only_df['budget'] = movies_only_df['budget'].astype('int')\n",
    "movies_only_df['id'] = movies_only_df['id'].astype('str')\n",
    "movies_only_df['original_language'] = movies_only_df['original_language'].astype('str')\n",
    "movies_only_df['overview'] = movies_only_df['overview'].astype('str')\n",
    "movies_only_df['popularity'] = movies_only_df['popularity'].astype('float')\n",
    "movies_only_df['release_date'] = movies_only_df['release_date'].astype('datetime64[ns]')\n",
    "movies_only_df['revenue'] = movies_only_df['revenue'].astype('int')\n",
    "movies_only_df['runtime'] = movies_only_df['runtime'].astype('float')\n",
    "movies_only_df['status'] = movies_only_df['status'].astype('str')\n",
    "movies_only_df['tagline'] = movies_only_df['tagline'].astype('str')\n",
    "movies_only_df['title'] = movies_only_df['title'].astype('str')\n",
    "movies_only_df['vote_average'] = movies_only_df['vote_average'].astype('float')\n",
    "movies_only_df['vote_count'] = movies_only_df['vote_count'].astype('int')"
   ]
  },
  {
   "cell_type": "code",
   "execution_count": 16,
   "metadata": {},
   "outputs": [
    {
     "data": {
      "text/plain": [
       "budget                        int64\n",
       "id                           object\n",
       "original_language            object\n",
       "overview                     object\n",
       "popularity                  float64\n",
       "release_date         datetime64[ns]\n",
       "revenue                       int64\n",
       "runtime                     float64\n",
       "status                       object\n",
       "tagline                      object\n",
       "title                        object\n",
       "vote_average                float64\n",
       "vote_count                    int64\n",
       "dtype: object"
      ]
     },
     "execution_count": 16,
     "metadata": {},
     "output_type": "execute_result"
    }
   ],
   "source": [
    "movies_only_df.dtypes"
   ]
  },
  {
   "cell_type": "code",
   "execution_count": 17,
   "metadata": {},
   "outputs": [
    {
     "name": "stdout",
     "output_type": "stream",
     "text": [
      "<class 'pandas.core.frame.DataFrame'>\n",
      "Index: 45460 entries, 0 to 45465\n",
      "Data columns (total 13 columns):\n",
      " #   Column             Non-Null Count  Dtype         \n",
      "---  ------             --------------  -----         \n",
      " 0   budget             45460 non-null  int64         \n",
      " 1   id                 45460 non-null  object        \n",
      " 2   original_language  45460 non-null  object        \n",
      " 3   overview           45460 non-null  object        \n",
      " 4   popularity         45460 non-null  float64       \n",
      " 5   release_date       45376 non-null  datetime64[ns]\n",
      " 6   revenue            45460 non-null  int64         \n",
      " 7   runtime            45203 non-null  float64       \n",
      " 8   status             45460 non-null  object        \n",
      " 9   tagline            45460 non-null  object        \n",
      " 10  title              45460 non-null  object        \n",
      " 11  vote_average       45460 non-null  float64       \n",
      " 12  vote_count         45460 non-null  int64         \n",
      "dtypes: datetime64[ns](1), float64(3), int64(3), object(6)\n",
      "memory usage: 4.9+ MB\n"
     ]
    }
   ],
   "source": [
    "movies_only_df.info()"
   ]
  },
  {
   "cell_type": "code",
   "execution_count": 18,
   "metadata": {},
   "outputs": [],
   "source": [
    "movies_only_df = movies_only_df.dropna(subset=['release_date'])"
   ]
  },
  {
   "cell_type": "code",
   "execution_count": 19,
   "metadata": {},
   "outputs": [
    {
     "name": "stdout",
     "output_type": "stream",
     "text": [
      "<class 'pandas.core.frame.DataFrame'>\n",
      "Index: 45376 entries, 0 to 45465\n",
      "Data columns (total 13 columns):\n",
      " #   Column             Non-Null Count  Dtype         \n",
      "---  ------             --------------  -----         \n",
      " 0   budget             45376 non-null  int64         \n",
      " 1   id                 45376 non-null  object        \n",
      " 2   original_language  45376 non-null  object        \n",
      " 3   overview           45376 non-null  object        \n",
      " 4   popularity         45376 non-null  float64       \n",
      " 5   release_date       45376 non-null  datetime64[ns]\n",
      " 6   revenue            45376 non-null  int64         \n",
      " 7   runtime            45130 non-null  float64       \n",
      " 8   status             45376 non-null  object        \n",
      " 9   tagline            45376 non-null  object        \n",
      " 10  title              45376 non-null  object        \n",
      " 11  vote_average       45376 non-null  float64       \n",
      " 12  vote_count         45376 non-null  int64         \n",
      "dtypes: datetime64[ns](1), float64(3), int64(3), object(6)\n",
      "memory usage: 4.8+ MB\n"
     ]
    }
   ],
   "source": [
    "movies_only_df.info()"
   ]
  },
  {
   "cell_type": "code",
   "execution_count": 20,
   "metadata": {},
   "outputs": [],
   "source": [
    "movies_only_df['revenue'] = movies_only_df['revenue'].fillna(0)\n",
    "movies_only_df['budget'] = movies_only_df['budget'].fillna(0)"
   ]
  },
  {
   "cell_type": "code",
   "execution_count": 21,
   "metadata": {},
   "outputs": [],
   "source": [
    "movies_only_df['release_year'] = movies_only_df['release_date'].dt.year"
   ]
  },
  {
   "cell_type": "code",
   "execution_count": 22,
   "metadata": {},
   "outputs": [
    {
     "name": "stdout",
     "output_type": "stream",
     "text": [
      "<class 'pandas.core.frame.DataFrame'>\n",
      "Index: 45376 entries, 0 to 45465\n",
      "Data columns (total 14 columns):\n",
      " #   Column             Non-Null Count  Dtype         \n",
      "---  ------             --------------  -----         \n",
      " 0   budget             45376 non-null  int64         \n",
      " 1   id                 45376 non-null  object        \n",
      " 2   original_language  45376 non-null  object        \n",
      " 3   overview           45376 non-null  object        \n",
      " 4   popularity         45376 non-null  float64       \n",
      " 5   release_date       45376 non-null  datetime64[ns]\n",
      " 6   revenue            45376 non-null  int64         \n",
      " 7   runtime            45130 non-null  float64       \n",
      " 8   status             45376 non-null  object        \n",
      " 9   tagline            45376 non-null  object        \n",
      " 10  title              45376 non-null  object        \n",
      " 11  vote_average       45376 non-null  float64       \n",
      " 12  vote_count         45376 non-null  int64         \n",
      " 13  release_year       45376 non-null  int32         \n",
      "dtypes: datetime64[ns](1), float64(3), int32(1), int64(3), object(6)\n",
      "memory usage: 5.0+ MB\n"
     ]
    }
   ],
   "source": [
    "movies_only_df.info()"
   ]
  },
  {
   "cell_type": "code",
   "execution_count": 23,
   "metadata": {},
   "outputs": [],
   "source": [
    "movies_only_df['return'] = np.where((movies_only_df['revenue'] == 0) | \n",
    "                                    (movies_only_df['budget'] == 0), \n",
    "                                    0, movies_only_df['revenue'] / movies_only_df['budget'])"
   ]
  },
  {
   "cell_type": "code",
   "execution_count": 24,
   "metadata": {},
   "outputs": [
    {
     "name": "stdout",
     "output_type": "stream",
     "text": [
      "<class 'pandas.core.frame.DataFrame'>\n",
      "Index: 45376 entries, 0 to 45465\n",
      "Data columns (total 15 columns):\n",
      " #   Column             Non-Null Count  Dtype         \n",
      "---  ------             --------------  -----         \n",
      " 0   budget             45376 non-null  int64         \n",
      " 1   id                 45376 non-null  object        \n",
      " 2   original_language  45376 non-null  object        \n",
      " 3   overview           45376 non-null  object        \n",
      " 4   popularity         45376 non-null  float64       \n",
      " 5   release_date       45376 non-null  datetime64[ns]\n",
      " 6   revenue            45376 non-null  int64         \n",
      " 7   runtime            45130 non-null  float64       \n",
      " 8   status             45376 non-null  object        \n",
      " 9   tagline            45376 non-null  object        \n",
      " 10  title              45376 non-null  object        \n",
      " 11  vote_average       45376 non-null  float64       \n",
      " 12  vote_count         45376 non-null  int64         \n",
      " 13  release_year       45376 non-null  int32         \n",
      " 14  return             45376 non-null  float64       \n",
      "dtypes: datetime64[ns](1), float64(4), int32(1), int64(3), object(6)\n",
      "memory usage: 5.4+ MB\n"
     ]
    }
   ],
   "source": [
    "movies_only_df.info()"
   ]
  },
  {
   "cell_type": "code",
   "execution_count": 28,
   "metadata": {},
   "outputs": [],
   "source": [
    "movies_only_df = movies_only_df.reset_index(drop=True)"
   ]
  },
  {
   "cell_type": "code",
   "execution_count": null,
   "metadata": {},
   "outputs": [],
   "source": [
    "movies_only_df.info()"
   ]
  },
  {
   "cell_type": "code",
   "execution_count": 25,
   "metadata": {},
   "outputs": [],
   "source": [
    "movies_only_df.to_parquet('../data/data_processed/movies_ETL.parquet')"
   ]
  }
 ],
 "metadata": {
  "kernelspec": {
   "display_name": "venv",
   "language": "python",
   "name": "python3"
  },
  "language_info": {
   "codemirror_mode": {
    "name": "ipython",
    "version": 3
   },
   "file_extension": ".py",
   "mimetype": "text/x-python",
   "name": "python",
   "nbconvert_exporter": "python",
   "pygments_lexer": "ipython3",
   "version": "3.11.9"
  }
 },
 "nbformat": 4,
 "nbformat_minor": 2
}
