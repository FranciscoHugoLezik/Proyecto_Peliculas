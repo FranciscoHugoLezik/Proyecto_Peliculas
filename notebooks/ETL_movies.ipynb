{
 "cells": [
  {
   "cell_type": "code",
   "execution_count": 1,
   "metadata": {},
   "outputs": [],
   "source": [
    "import pandas as pd"
   ]
  },
  {
   "cell_type": "code",
   "execution_count": 2,
   "metadata": {},
   "outputs": [],
   "source": [
    "url = \"https://github.com/FranciscoHugoLezik/Movies_data/blob/main/movies_dataset.parquet?raw=true\"\n",
    "movies_dataset_df = pd.read_parquet(url, engine=\"fastparquet\")"
   ]
  },
  {
   "cell_type": "code",
   "execution_count": 3,
   "metadata": {},
   "outputs": [
    {
     "data": {
      "text/plain": [
       "adult                                                                False\n",
       "belongs_to_collection    {'id': 10194, 'name': 'Toy Story Collection', ...\n",
       "budget                                                            30000000\n",
       "genres                   [{'id': 16, 'name': 'Animation'}, {'id': 35, '...\n",
       "homepage                              http://toystory.disney.com/toy-story\n",
       "id                                                                     862\n",
       "imdb_id                                                          tt0114709\n",
       "original_language                                                       en\n",
       "original_title                                                   Toy Story\n",
       "overview                 Led by Woody, Andy's toys live happily in his ...\n",
       "popularity                                                       21.946943\n",
       "poster_path                               /rhIRbceoE9lR4veEXuwCC2wARtG.jpg\n",
       "production_companies        [{'name': 'Pixar Animation Studios', 'id': 3}]\n",
       "production_countries     [{'iso_3166_1': 'US', 'name': 'United States o...\n",
       "release_date                                                    1995-10-30\n",
       "revenue                                                          373554033\n",
       "runtime                                                               81.0\n",
       "spoken_languages                  [{'iso_639_1': 'en', 'name': 'English'}]\n",
       "status                                                            Released\n",
       "tagline                                                               None\n",
       "title                                                            Toy Story\n",
       "video                                                                False\n",
       "vote_average                                                           7.7\n",
       "vote_count                                                            5415\n",
       "Name: 0, dtype: object"
      ]
     },
     "execution_count": 3,
     "metadata": {},
     "output_type": "execute_result"
    }
   ],
   "source": [
    "movies_dataset_df.iloc[0]"
   ]
  },
  {
   "cell_type": "code",
   "execution_count": 4,
   "metadata": {},
   "outputs": [
    {
     "data": {
      "text/plain": [
       "['video', 'imdb_id', 'adult', 'original_title', 'poster_path', 'homepage']"
      ]
     },
     "execution_count": 4,
     "metadata": {},
     "output_type": "execute_result"
    }
   ],
   "source": [
    "unnecessary = \"video,imdb_id,adult,original_title,poster_path,homepage\"\n",
    "unnecessary = unnecessary.split(',')\n",
    "unnecessary"
   ]
  },
  {
   "cell_type": "code",
   "execution_count": 5,
   "metadata": {},
   "outputs": [],
   "source": [
    "movies_df = movies_dataset_df.drop(columns=unnecessary)"
   ]
  },
  {
   "cell_type": "code",
   "execution_count": 6,
   "metadata": {},
   "outputs": [
    {
     "data": {
      "text/plain": [
       "belongs_to_collection    {'id': 10194, 'name': 'Toy Story Collection', ...\n",
       "budget                                                            30000000\n",
       "genres                   [{'id': 16, 'name': 'Animation'}, {'id': 35, '...\n",
       "id                                                                     862\n",
       "original_language                                                       en\n",
       "overview                 Led by Woody, Andy's toys live happily in his ...\n",
       "popularity                                                       21.946943\n",
       "production_companies        [{'name': 'Pixar Animation Studios', 'id': 3}]\n",
       "production_countries     [{'iso_3166_1': 'US', 'name': 'United States o...\n",
       "release_date                                                    1995-10-30\n",
       "revenue                                                          373554033\n",
       "runtime                                                               81.0\n",
       "spoken_languages                  [{'iso_639_1': 'en', 'name': 'English'}]\n",
       "status                                                            Released\n",
       "tagline                                                               None\n",
       "title                                                            Toy Story\n",
       "vote_average                                                           7.7\n",
       "vote_count                                                            5415\n",
       "Name: 0, dtype: object"
      ]
     },
     "execution_count": 6,
     "metadata": {},
     "output_type": "execute_result"
    }
   ],
   "source": [
    "movies_df.iloc[0]"
   ]
  },
  {
   "cell_type": "code",
   "execution_count": 9,
   "metadata": {},
   "outputs": [
    {
     "data": {
      "text/plain": [
       "['belongs_to_collection',\n",
       " 'genres',\n",
       " 'production_companies',\n",
       " 'production_countries',\n",
       " 'spoken_languages']"
      ]
     },
     "execution_count": 9,
     "metadata": {},
     "output_type": "execute_result"
    }
   ],
   "source": [
    "other_tables = \"belongs_to_collection,genres,production_companies,production_countries,spoken_languages\"\n",
    "other_tables = other_tables.split(',')\n",
    "other_tables"
   ]
  },
  {
   "cell_type": "code",
   "execution_count": 10,
   "metadata": {},
   "outputs": [],
   "source": [
    "movies_df = movies_df.drop(columns=other_tables)"
   ]
  },
  {
   "cell_type": "code",
   "execution_count": 11,
   "metadata": {},
   "outputs": [
    {
     "data": {
      "text/plain": [
       "budget                                                        30000000\n",
       "id                                                                 862\n",
       "original_language                                                   en\n",
       "overview             Led by Woody, Andy's toys live happily in his ...\n",
       "popularity                                                   21.946943\n",
       "release_date                                                1995-10-30\n",
       "revenue                                                      373554033\n",
       "runtime                                                           81.0\n",
       "status                                                        Released\n",
       "tagline                                                           None\n",
       "title                                                        Toy Story\n",
       "vote_average                                                       7.7\n",
       "vote_count                                                        5415\n",
       "Name: 0, dtype: object"
      ]
     },
     "execution_count": 11,
     "metadata": {},
     "output_type": "execute_result"
    }
   ],
   "source": [
    "movies_df.iloc[0]"
   ]
  },
  {
   "cell_type": "code",
   "execution_count": 12,
   "metadata": {},
   "outputs": [
    {
     "name": "stdout",
     "output_type": "stream",
     "text": [
      "<class 'pandas.core.frame.DataFrame'>\n",
      "RangeIndex: 45466 entries, 0 to 45465\n",
      "Data columns (total 13 columns):\n",
      " #   Column             Non-Null Count  Dtype \n",
      "---  ------             --------------  ----- \n",
      " 0   budget             45466 non-null  object\n",
      " 1   id                 45466 non-null  object\n",
      " 2   original_language  45455 non-null  object\n",
      " 3   overview           44512 non-null  object\n",
      " 4   popularity         45461 non-null  object\n",
      " 5   release_date       45379 non-null  object\n",
      " 6   revenue            45460 non-null  object\n",
      " 7   runtime            45203 non-null  object\n",
      " 8   status             45379 non-null  object\n",
      " 9   tagline            20412 non-null  object\n",
      " 10  title              45460 non-null  object\n",
      " 11  vote_average       45460 non-null  object\n",
      " 12  vote_count         45460 non-null  object\n",
      "dtypes: object(13)\n",
      "memory usage: 4.5+ MB\n"
     ]
    }
   ],
   "source": [
    "movies_df.info()"
   ]
  },
  {
   "cell_type": "code",
   "execution_count": 13,
   "metadata": {},
   "outputs": [],
   "source": [
    "movies_df = movies_df.dropna(subset='title')"
   ]
  },
  {
   "cell_type": "code",
   "execution_count": 14,
   "metadata": {},
   "outputs": [
    {
     "name": "stdout",
     "output_type": "stream",
     "text": [
      "<class 'pandas.core.frame.DataFrame'>\n",
      "Index: 45460 entries, 0 to 45465\n",
      "Data columns (total 13 columns):\n",
      " #   Column             Non-Null Count  Dtype \n",
      "---  ------             --------------  ----- \n",
      " 0   budget             45460 non-null  object\n",
      " 1   id                 45460 non-null  object\n",
      " 2   original_language  45449 non-null  object\n",
      " 3   overview           44506 non-null  object\n",
      " 4   popularity         45460 non-null  object\n",
      " 5   release_date       45376 non-null  object\n",
      " 6   revenue            45460 non-null  object\n",
      " 7   runtime            45203 non-null  object\n",
      " 8   status             45379 non-null  object\n",
      " 9   tagline            20412 non-null  object\n",
      " 10  title              45460 non-null  object\n",
      " 11  vote_average       45460 non-null  object\n",
      " 12  vote_count         45460 non-null  object\n",
      "dtypes: object(13)\n",
      "memory usage: 4.9+ MB\n"
     ]
    }
   ],
   "source": [
    "movies_df.info()"
   ]
  },
  {
   "cell_type": "code",
   "execution_count": 18,
   "metadata": {},
   "outputs": [],
   "source": [
    "movies_df['budget'] = movies_df['budget'].astype('int64')\n",
    "movies_df['popularity'] = movies_df['popularity'].astype('float')\n",
    "movies_df['release_date'] = movies_df['release_date'].astype('datetime64[ns]')\n",
    "movies_df['revenue'] = movies_df['revenue'].astype('int64')\n",
    "movies_df['runtime'] = movies_df['runtime'].astype('float')\n",
    "movies_df['vote_average'] = movies_df['vote_average'].astype('float')\n",
    "movies_df['vote_count'] = movies_df['vote_count'].astype('int')"
   ]
  },
  {
   "cell_type": "code",
   "execution_count": 19,
   "metadata": {},
   "outputs": [
    {
     "data": {
      "text/plain": [
       "budget                        int64\n",
       "id                           object\n",
       "original_language            object\n",
       "overview                     object\n",
       "popularity                  float64\n",
       "release_date         datetime64[ns]\n",
       "revenue                       int64\n",
       "runtime                     float64\n",
       "status                       object\n",
       "tagline                      object\n",
       "title                        object\n",
       "vote_average                float64\n",
       "vote_count                    int32\n",
       "dtype: object"
      ]
     },
     "execution_count": 19,
     "metadata": {},
     "output_type": "execute_result"
    }
   ],
   "source": [
    "movies_df.dtypes"
   ]
  },
  {
   "cell_type": "code",
   "execution_count": 20,
   "metadata": {},
   "outputs": [],
   "source": [
    "movies_df = movies_df.dropna(subset=['release_date'])"
   ]
  },
  {
   "cell_type": "code",
   "execution_count": 21,
   "metadata": {},
   "outputs": [
    {
     "name": "stdout",
     "output_type": "stream",
     "text": [
      "<class 'pandas.core.frame.DataFrame'>\n",
      "Index: 45376 entries, 0 to 45465\n",
      "Data columns (total 13 columns):\n",
      " #   Column             Non-Null Count  Dtype         \n",
      "---  ------             --------------  -----         \n",
      " 0   budget             45376 non-null  int64         \n",
      " 1   id                 45376 non-null  object        \n",
      " 2   original_language  45365 non-null  object        \n",
      " 3   overview           44435 non-null  object        \n",
      " 4   popularity         45376 non-null  float64       \n",
      " 5   release_date       45376 non-null  datetime64[ns]\n",
      " 6   revenue            45376 non-null  int64         \n",
      " 7   runtime            45130 non-null  float64       \n",
      " 8   status             45296 non-null  object        \n",
      " 9   tagline            20398 non-null  object        \n",
      " 10  title              45376 non-null  object        \n",
      " 11  vote_average       45376 non-null  float64       \n",
      " 12  vote_count         45376 non-null  int32         \n",
      "dtypes: datetime64[ns](1), float64(3), int32(1), int64(2), object(6)\n",
      "memory usage: 4.7+ MB\n"
     ]
    }
   ],
   "source": [
    "movies_df.info()"
   ]
  },
  {
   "cell_type": "code",
   "execution_count": 22,
   "metadata": {},
   "outputs": [],
   "source": [
    "movies_df['revenue'] = movies_df['revenue'].fillna(0)\n",
    "movies_df['budget'] = movies_df['budget'].fillna(0)"
   ]
  },
  {
   "cell_type": "code",
   "execution_count": 23,
   "metadata": {},
   "outputs": [
    {
     "name": "stdout",
     "output_type": "stream",
     "text": [
      "<class 'pandas.core.frame.DataFrame'>\n",
      "Index: 45376 entries, 0 to 45465\n",
      "Data columns (total 13 columns):\n",
      " #   Column             Non-Null Count  Dtype         \n",
      "---  ------             --------------  -----         \n",
      " 0   budget             45376 non-null  int64         \n",
      " 1   id                 45376 non-null  object        \n",
      " 2   original_language  45365 non-null  object        \n",
      " 3   overview           44435 non-null  object        \n",
      " 4   popularity         45376 non-null  float64       \n",
      " 5   release_date       45376 non-null  datetime64[ns]\n",
      " 6   revenue            45376 non-null  int64         \n",
      " 7   runtime            45130 non-null  float64       \n",
      " 8   status             45296 non-null  object        \n",
      " 9   tagline            20398 non-null  object        \n",
      " 10  title              45376 non-null  object        \n",
      " 11  vote_average       45376 non-null  float64       \n",
      " 12  vote_count         45376 non-null  int32         \n",
      "dtypes: datetime64[ns](1), float64(3), int32(1), int64(2), object(6)\n",
      "memory usage: 4.7+ MB\n"
     ]
    }
   ],
   "source": [
    "movies_df.info()"
   ]
  },
  {
   "cell_type": "code",
   "execution_count": 24,
   "metadata": {},
   "outputs": [],
   "source": [
    "movies_df['release_year'] = movies_df['release_date'].dt.year"
   ]
  },
  {
   "cell_type": "code",
   "execution_count": 25,
   "metadata": {},
   "outputs": [
    {
     "name": "stdout",
     "output_type": "stream",
     "text": [
      "<class 'pandas.core.frame.DataFrame'>\n",
      "Index: 45376 entries, 0 to 45465\n",
      "Data columns (total 14 columns):\n",
      " #   Column             Non-Null Count  Dtype         \n",
      "---  ------             --------------  -----         \n",
      " 0   budget             45376 non-null  int64         \n",
      " 1   id                 45376 non-null  object        \n",
      " 2   original_language  45365 non-null  object        \n",
      " 3   overview           44435 non-null  object        \n",
      " 4   popularity         45376 non-null  float64       \n",
      " 5   release_date       45376 non-null  datetime64[ns]\n",
      " 6   revenue            45376 non-null  int64         \n",
      " 7   runtime            45130 non-null  float64       \n",
      " 8   status             45296 non-null  object        \n",
      " 9   tagline            20398 non-null  object        \n",
      " 10  title              45376 non-null  object        \n",
      " 11  vote_average       45376 non-null  float64       \n",
      " 12  vote_count         45376 non-null  int32         \n",
      " 13  release_year       45376 non-null  int32         \n",
      "dtypes: datetime64[ns](1), float64(3), int32(2), int64(2), object(6)\n",
      "memory usage: 4.8+ MB\n"
     ]
    }
   ],
   "source": [
    "movies_df.info()"
   ]
  },
  {
   "cell_type": "code",
   "execution_count": 27,
   "metadata": {},
   "outputs": [],
   "source": [
    "return_movie = (\n",
    "    lambda row: row['revenue'] / row['budget'] \n",
    "    if row['revenue'] > 0 and row['budget'] > 0 \n",
    "    else 0\n",
    ")\n",
    "\n",
    "movies_df['return'] = movies_df.apply(return_movie, axis=1)"
   ]
  },
  {
   "cell_type": "code",
   "execution_count": 28,
   "metadata": {},
   "outputs": [
    {
     "name": "stdout",
     "output_type": "stream",
     "text": [
      "<class 'pandas.core.frame.DataFrame'>\n",
      "Index: 45376 entries, 0 to 45465\n",
      "Data columns (total 15 columns):\n",
      " #   Column             Non-Null Count  Dtype         \n",
      "---  ------             --------------  -----         \n",
      " 0   budget             45376 non-null  int64         \n",
      " 1   id                 45376 non-null  object        \n",
      " 2   original_language  45365 non-null  object        \n",
      " 3   overview           44435 non-null  object        \n",
      " 4   popularity         45376 non-null  float64       \n",
      " 5   release_date       45376 non-null  datetime64[ns]\n",
      " 6   revenue            45376 non-null  int64         \n",
      " 7   runtime            45130 non-null  float64       \n",
      " 8   status             45296 non-null  object        \n",
      " 9   tagline            20398 non-null  object        \n",
      " 10  title              45376 non-null  object        \n",
      " 11  vote_average       45376 non-null  float64       \n",
      " 12  vote_count         45376 non-null  int32         \n",
      " 13  release_year       45376 non-null  int32         \n",
      " 14  return             45376 non-null  float64       \n",
      "dtypes: datetime64[ns](1), float64(4), int32(2), int64(2), object(6)\n",
      "memory usage: 5.2+ MB\n"
     ]
    }
   ],
   "source": [
    "movies_df.info()"
   ]
  },
  {
   "cell_type": "code",
   "execution_count": 29,
   "metadata": {},
   "outputs": [],
   "source": [
    "movies_df = movies_df.reset_index(drop=True)"
   ]
  },
  {
   "cell_type": "code",
   "execution_count": 30,
   "metadata": {},
   "outputs": [
    {
     "name": "stdout",
     "output_type": "stream",
     "text": [
      "<class 'pandas.core.frame.DataFrame'>\n",
      "RangeIndex: 45376 entries, 0 to 45375\n",
      "Data columns (total 15 columns):\n",
      " #   Column             Non-Null Count  Dtype         \n",
      "---  ------             --------------  -----         \n",
      " 0   budget             45376 non-null  int64         \n",
      " 1   id                 45376 non-null  object        \n",
      " 2   original_language  45365 non-null  object        \n",
      " 3   overview           44435 non-null  object        \n",
      " 4   popularity         45376 non-null  float64       \n",
      " 5   release_date       45376 non-null  datetime64[ns]\n",
      " 6   revenue            45376 non-null  int64         \n",
      " 7   runtime            45130 non-null  float64       \n",
      " 8   status             45296 non-null  object        \n",
      " 9   tagline            20398 non-null  object        \n",
      " 10  title              45376 non-null  object        \n",
      " 11  vote_average       45376 non-null  float64       \n",
      " 12  vote_count         45376 non-null  int32         \n",
      " 13  release_year       45376 non-null  int32         \n",
      " 14  return             45376 non-null  float64       \n",
      "dtypes: datetime64[ns](1), float64(4), int32(2), int64(2), object(6)\n",
      "memory usage: 4.8+ MB\n"
     ]
    }
   ],
   "source": [
    "movies_df.info()"
   ]
  },
  {
   "cell_type": "code",
   "execution_count": 31,
   "metadata": {},
   "outputs": [],
   "source": [
    "movies_df.to_parquet('../data/movies_ETL.parquet')"
   ]
  }
 ],
 "metadata": {
  "kernelspec": {
   "display_name": "venv",
   "language": "python",
   "name": "python3"
  },
  "language_info": {
   "codemirror_mode": {
    "name": "ipython",
    "version": 3
   },
   "file_extension": ".py",
   "mimetype": "text/x-python",
   "name": "python",
   "nbconvert_exporter": "python",
   "pygments_lexer": "ipython3",
   "version": "3.8.10"
  }
 },
 "nbformat": 4,
 "nbformat_minor": 2
}
