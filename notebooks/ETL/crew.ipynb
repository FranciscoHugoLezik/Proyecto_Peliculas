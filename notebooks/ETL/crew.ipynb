{
 "cells": [
  {
   "cell_type": "markdown",
   "metadata": {},
   "source": [
    "### ETL del archivo en crudo `crew.parquet`"
   ]
  },
  {
   "cell_type": "code",
   "execution_count": 4,
   "metadata": {},
   "outputs": [],
   "source": [
    "import pandas as pd\n",
    "import ast\n",
    "import os\n",
    "import gc"
   ]
  },
  {
   "cell_type": "code",
   "execution_count": 5,
   "metadata": {},
   "outputs": [],
   "source": [
    "url = \"https://github.com/FranciscoHugoLezik/Movies_data/blob/main/credits/crew.parquet?raw=true\"\n",
    "\n",
    "crew = (\n",
    "    pd.read_parquet(\n",
    "        url, \n",
    "        engine='fastparquet'))"
   ]
  },
  {
   "cell_type": "code",
   "execution_count": 6,
   "metadata": {},
   "outputs": [
    {
     "data": {
      "text/plain": [
       "crew    [{'credit_id': '52fe4284c3a36847f8024f49', 'de...\n",
       "id                                                    862\n",
       "Name: 0, dtype: object"
      ]
     },
     "execution_count": 6,
     "metadata": {},
     "output_type": "execute_result"
    }
   ],
   "source": [
    "crew.iloc[0]"
   ]
  },
  {
   "cell_type": "code",
   "execution_count": 7,
   "metadata": {},
   "outputs": [],
   "source": [
    "crew.rename(\n",
    "    columns={'id': 'movie_id'}, \n",
    "    inplace=True)"
   ]
  },
  {
   "cell_type": "code",
   "execution_count": 8,
   "metadata": {},
   "outputs": [
    {
     "data": {
      "text/plain": [
       "crew        [{'credit_id': '52fe4284c3a36847f8024f49', 'de...\n",
       "movie_id                                                  862\n",
       "Name: 0, dtype: object"
      ]
     },
     "execution_count": 8,
     "metadata": {},
     "output_type": "execute_result"
    }
   ],
   "source": [
    "crew.iloc[0]"
   ]
  },
  {
   "cell_type": "code",
   "execution_count": 9,
   "metadata": {},
   "outputs": [
    {
     "name": "stdout",
     "output_type": "stream",
     "text": [
      "<class 'pandas.core.frame.DataFrame'>\n",
      "RangeIndex: 45476 entries, 0 to 45475\n",
      "Data columns (total 2 columns):\n",
      " #   Column    Non-Null Count  Dtype \n",
      "---  ------    --------------  ----- \n",
      " 0   crew      45476 non-null  object\n",
      " 1   movie_id  45476 non-null  int64 \n",
      "dtypes: int64(1), object(1)\n",
      "memory usage: 710.7+ KB\n"
     ]
    }
   ],
   "source": [
    "crew.info()"
   ]
  },
  {
   "cell_type": "code",
   "execution_count": 10,
   "metadata": {},
   "outputs": [],
   "source": [
    "reparto_por_pelicula = [\n",
    "    {**reparto, 'movie_id': row['movie_id']}\n",
    "    for _, row in crew.iterrows()\n",
    "    for reparto in ast.literal_eval(row['crew'])\n",
    "]\n",
    "\n",
    "crew = pd.DataFrame(reparto_por_pelicula)"
   ]
  },
  {
   "cell_type": "code",
   "execution_count": 11,
   "metadata": {},
   "outputs": [
    {
     "data": {
      "text/plain": [
       "440"
      ]
     },
     "execution_count": 11,
     "metadata": {},
     "output_type": "execute_result"
    }
   ],
   "source": [
    "del reparto_por_pelicula\n",
    "gc.collect()"
   ]
  },
  {
   "cell_type": "code",
   "execution_count": 12,
   "metadata": {},
   "outputs": [
    {
     "data": {
      "text/plain": [
       "credit_id               52fe4284c3a36847f8024f49\n",
       "department                             Directing\n",
       "gender                                         2\n",
       "id                                          7879\n",
       "job                                     Director\n",
       "name                               John Lasseter\n",
       "profile_path    /7EdqiNbr4FRjIhKHyPPdFfEEEFG.jpg\n",
       "movie_id                                     862\n",
       "Name: 0, dtype: object"
      ]
     },
     "execution_count": 12,
     "metadata": {},
     "output_type": "execute_result"
    }
   ],
   "source": [
    "crew.iloc[0]"
   ]
  },
  {
   "cell_type": "code",
   "execution_count": 13,
   "metadata": {},
   "outputs": [],
   "source": [
    "crew.drop(\n",
    "    columns='profile_path', \n",
    "    inplace=True)"
   ]
  },
  {
   "cell_type": "code",
   "execution_count": 14,
   "metadata": {},
   "outputs": [
    {
     "data": {
      "text/plain": [
       "True"
      ]
     },
     "execution_count": 14,
     "metadata": {},
     "output_type": "execute_result"
    }
   ],
   "source": [
    "'profile_path' not in crew.columns"
   ]
  },
  {
   "cell_type": "code",
   "execution_count": 15,
   "metadata": {},
   "outputs": [],
   "source": [
    "crew.rename(\n",
    "    columns={'id': 'person_id'}, \n",
    "    inplace=True)"
   ]
  },
  {
   "cell_type": "code",
   "execution_count": 16,
   "metadata": {},
   "outputs": [
    {
     "data": {
      "text/plain": [
       "True"
      ]
     },
     "execution_count": 16,
     "metadata": {},
     "output_type": "execute_result"
    }
   ],
   "source": [
    "('person_id' in crew.columns \n",
    " and 'id' not in crew.columns)"
   ]
  },
  {
   "cell_type": "code",
   "execution_count": 17,
   "metadata": {},
   "outputs": [
    {
     "name": "stdout",
     "output_type": "stream",
     "text": [
      "<class 'pandas.core.frame.DataFrame'>\n",
      "RangeIndex: 464314 entries, 0 to 464313\n",
      "Data columns (total 7 columns):\n",
      " #   Column      Non-Null Count   Dtype \n",
      "---  ------      --------------   ----- \n",
      " 0   credit_id   464314 non-null  object\n",
      " 1   department  464314 non-null  object\n",
      " 2   gender      464314 non-null  int64 \n",
      " 3   person_id   464314 non-null  int64 \n",
      " 4   job         464314 non-null  object\n",
      " 5   name        464314 non-null  object\n",
      " 6   movie_id    464314 non-null  int64 \n",
      "dtypes: int64(3), object(4)\n",
      "memory usage: 24.8+ MB\n"
     ]
    }
   ],
   "source": [
    "crew.info()"
   ]
  },
  {
   "cell_type": "code",
   "execution_count": 18,
   "metadata": {},
   "outputs": [],
   "source": [
    "crew['gender'] = (\n",
    "    crew['gender'].astype(str))\n",
    "\n",
    "crew['person_id'] = (\n",
    "    crew['person_id'].astype(str))\n",
    "\n",
    "crew['movie_id'] = (\n",
    "    crew['movie_id'].astype(str))"
   ]
  },
  {
   "cell_type": "code",
   "execution_count": 19,
   "metadata": {},
   "outputs": [
    {
     "name": "stdout",
     "output_type": "stream",
     "text": [
      "<class 'pandas.core.frame.DataFrame'>\n",
      "RangeIndex: 464314 entries, 0 to 464313\n",
      "Data columns (total 7 columns):\n",
      " #   Column      Non-Null Count   Dtype \n",
      "---  ------      --------------   ----- \n",
      " 0   credit_id   464314 non-null  object\n",
      " 1   department  464314 non-null  object\n",
      " 2   gender      464314 non-null  object\n",
      " 3   person_id   464314 non-null  object\n",
      " 4   job         464314 non-null  object\n",
      " 5   name        464314 non-null  object\n",
      " 6   movie_id    464314 non-null  object\n",
      "dtypes: object(7)\n",
      "memory usage: 24.8+ MB\n"
     ]
    }
   ],
   "source": [
    "crew.info()"
   ]
  },
  {
   "cell_type": "code",
   "execution_count": 20,
   "metadata": {},
   "outputs": [
    {
     "data": {
      "text/plain": [
       "'c:\\\\Users\\\\franc\\\\Desktop\\\\Proyecto_Peliculas\\\\notebooks\\\\ETL'"
      ]
     },
     "execution_count": 20,
     "metadata": {},
     "output_type": "execute_result"
    }
   ],
   "source": [
    "current_dir = os.getcwd()\n",
    "\n",
    "current_dir"
   ]
  },
  {
   "cell_type": "code",
   "execution_count": 21,
   "metadata": {},
   "outputs": [
    {
     "data": {
      "text/plain": [
       "'c:\\\\Users\\\\franc\\\\Desktop\\\\Proyecto_Peliculas'"
      ]
     },
     "execution_count": 21,
     "metadata": {},
     "output_type": "execute_result"
    }
   ],
   "source": [
    "base_dir = (\n",
    "    os.path.dirname(\n",
    "        os.path.dirname(\n",
    "            current_dir)))\n",
    "\n",
    "base_dir"
   ]
  },
  {
   "cell_type": "code",
   "execution_count": 22,
   "metadata": {},
   "outputs": [
    {
     "data": {
      "text/plain": [
       "'c:\\\\Users\\\\franc\\\\Desktop\\\\Proyecto_Peliculas\\\\data\\\\ETL\\\\crew.parquet'"
      ]
     },
     "execution_count": 22,
     "metadata": {},
     "output_type": "execute_result"
    }
   ],
   "source": [
    "file_path = (\n",
    "    os.path.join(\n",
    "        base_dir, \n",
    "        'data', \n",
    "        'ETL', \n",
    "        'crew.parquet'))\n",
    "\n",
    "file_path"
   ]
  },
  {
   "cell_type": "code",
   "execution_count": 23,
   "metadata": {},
   "outputs": [],
   "source": [
    "crew.to_parquet(file_path)"
   ]
  },
  {
   "cell_type": "code",
   "execution_count": 24,
   "metadata": {},
   "outputs": [
    {
     "data": {
      "text/plain": [
       "15"
      ]
     },
     "execution_count": 24,
     "metadata": {},
     "output_type": "execute_result"
    }
   ],
   "source": [
    "del crew\n",
    "gc.collect()"
   ]
  }
 ],
 "metadata": {
  "kernelspec": {
   "display_name": "venv",
   "language": "python",
   "name": "python3"
  },
  "language_info": {
   "codemirror_mode": {
    "name": "ipython",
    "version": 3
   },
   "file_extension": ".py",
   "mimetype": "text/x-python",
   "name": "python",
   "nbconvert_exporter": "python",
   "pygments_lexer": "ipython3",
   "version": "3.11.9"
  }
 },
 "nbformat": 4,
 "nbformat_minor": 2
}
