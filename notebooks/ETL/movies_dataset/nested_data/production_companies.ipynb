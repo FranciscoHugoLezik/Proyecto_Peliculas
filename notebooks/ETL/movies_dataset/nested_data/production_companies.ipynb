{
 "cells": [
  {
   "cell_type": "markdown",
   "metadata": {},
   "source": [
    "### ETL del archivo en crudo `movies_dataset.parquet` de la columna `production_companies`"
   ]
  },
  {
   "cell_type": "code",
   "execution_count": 1,
   "metadata": {},
   "outputs": [],
   "source": [
    "import pandas as pd\n",
    "import ast\n",
    "import os"
   ]
  },
  {
   "cell_type": "code",
   "execution_count": 2,
   "metadata": {},
   "outputs": [
    {
     "data": {
      "text/plain": [
       "adult                                                                False\n",
       "belongs_to_collection    {'id': 10194, 'name': 'Toy Story Collection', ...\n",
       "budget                                                            30000000\n",
       "genres                   [{'id': 16, 'name': 'Animation'}, {'id': 35, '...\n",
       "homepage                              http://toystory.disney.com/toy-story\n",
       "id                                                                     862\n",
       "imdb_id                                                          tt0114709\n",
       "original_language                                                       en\n",
       "original_title                                                   Toy Story\n",
       "overview                 Led by Woody, Andy's toys live happily in his ...\n",
       "popularity                                                       21.946943\n",
       "poster_path                               /rhIRbceoE9lR4veEXuwCC2wARtG.jpg\n",
       "production_companies        [{'name': 'Pixar Animation Studios', 'id': 3}]\n",
       "production_countries     [{'iso_3166_1': 'US', 'name': 'United States o...\n",
       "release_date                                                    1995-10-30\n",
       "revenue                                                          373554033\n",
       "runtime                                                               81.0\n",
       "spoken_languages                  [{'iso_639_1': 'en', 'name': 'English'}]\n",
       "status                                                            Released\n",
       "tagline                                                               None\n",
       "title                                                            Toy Story\n",
       "video                                                                False\n",
       "vote_average                                                           7.7\n",
       "vote_count                                                            5415\n",
       "Name: 0, dtype: object"
      ]
     },
     "execution_count": 2,
     "metadata": {},
     "output_type": "execute_result"
    }
   ],
   "source": [
    "url = \"https://github.com/FranciscoHugoLezik/Movies_data/blob/main/movies_dataset.parquet?raw=true\"\n",
    "\n",
    "movies_dataset = pd.read_parquet(url, \n",
    "                                 engine=\"fastparquet\")\n",
    "\n",
    "movies_dataset.iloc[0]"
   ]
  },
  {
   "cell_type": "code",
   "execution_count": 3,
   "metadata": {},
   "outputs": [
    {
     "data": {
      "text/plain": [
       "production_companies    [{'name': 'Pixar Animation Studios', 'id': 3}]\n",
       "id                                                                 862\n",
       "Name: 0, dtype: object"
      ]
     },
     "execution_count": 3,
     "metadata": {},
     "output_type": "execute_result"
    }
   ],
   "source": [
    "production_companies = movies_dataset[['production_companies', \n",
    "                                       'id']].copy()\n",
    "\n",
    "production_companies.iloc[0]"
   ]
  },
  {
   "cell_type": "code",
   "execution_count": 4,
   "metadata": {},
   "outputs": [
    {
     "data": {
      "text/plain": [
       "production_companies    [{'name': 'Pixar Animation Studios', 'id': 3}]\n",
       "movie_id                                                           862\n",
       "Name: 0, dtype: object"
      ]
     },
     "execution_count": 4,
     "metadata": {},
     "output_type": "execute_result"
    }
   ],
   "source": [
    "production_companies.rename(columns={'id': 'movie_id'}, \n",
    "                            inplace=True)\n",
    "\n",
    "production_companies.iloc[0]"
   ]
  },
  {
   "cell_type": "code",
   "execution_count": 5,
   "metadata": {},
   "outputs": [
    {
     "data": {
      "text/plain": [
       "\"[{'name': 'Pixar Animation Studios', 'id': 3}]\""
      ]
     },
     "execution_count": 5,
     "metadata": {},
     "output_type": "execute_result"
    }
   ],
   "source": [
    "production_companies.iloc[0]['production_companies']"
   ]
  },
  {
   "cell_type": "code",
   "execution_count": 6,
   "metadata": {},
   "outputs": [
    {
     "name": "stdout",
     "output_type": "stream",
     "text": [
      "<class 'pandas.core.frame.DataFrame'>\n",
      "RangeIndex: 45466 entries, 0 to 45465\n",
      "Data columns (total 2 columns):\n",
      " #   Column                Non-Null Count  Dtype \n",
      "---  ------                --------------  ----- \n",
      " 0   production_companies  45463 non-null  object\n",
      " 1   movie_id              45466 non-null  object\n",
      "dtypes: object(2)\n",
      "memory usage: 710.5+ KB\n"
     ]
    }
   ],
   "source": [
    "production_companies.info()"
   ]
  },
  {
   "cell_type": "code",
   "execution_count": 7,
   "metadata": {},
   "outputs": [
    {
     "name": "stdout",
     "output_type": "stream",
     "text": [
      "<class 'pandas.core.frame.DataFrame'>\n",
      "Int64Index: 45463 entries, 0 to 45465\n",
      "Data columns (total 2 columns):\n",
      " #   Column                Non-Null Count  Dtype \n",
      "---  ------                --------------  ----- \n",
      " 0   production_companies  45463 non-null  object\n",
      " 1   movie_id              45463 non-null  object\n",
      "dtypes: object(2)\n",
      "memory usage: 1.0+ MB\n"
     ]
    }
   ],
   "source": [
    "production_companies.dropna(subset='production_companies', \n",
    "                            inplace=True)\n",
    "\n",
    "production_companies.info()"
   ]
  },
  {
   "cell_type": "code",
   "execution_count": 8,
   "metadata": {},
   "outputs": [
    {
     "name": "stdout",
     "output_type": "stream",
     "text": [
      "Ha habido una excepción <class 'TypeError'>\n"
     ]
    }
   ],
   "source": [
    "try:\n",
    "    \n",
    "    list_dict = [\n",
    "        {**company, 'movie_id': row['movie_id']}\n",
    "        for _, row in production_companies.iterrows()\n",
    "        for company in ast.literal_eval(row['production_companies'])\n",
    "    ]\n",
    "    \n",
    "except Exception as ex:\n",
    "    \n",
    "    print(\"Ha habido una excepción\", type(ex))"
   ]
  },
  {
   "cell_type": "code",
   "execution_count": 9,
   "metadata": {},
   "outputs": [
    {
     "name": "stdout",
     "output_type": "stream",
     "text": [
      "<class 'pandas.core.frame.DataFrame'>\n",
      "Int64Index: 45460 entries, 0 to 45465\n",
      "Data columns (total 2 columns):\n",
      " #   Column                Non-Null Count  Dtype \n",
      "---  ------                --------------  ----- \n",
      " 0   production_companies  45460 non-null  object\n",
      " 1   movie_id              45460 non-null  object\n",
      "dtypes: object(2)\n",
      "memory usage: 1.0+ MB\n"
     ]
    }
   ],
   "source": [
    "production_companies = production_companies[~production_companies['production_companies'].isin(['True', \n",
    "                                                                                                'False'])]\n",
    "\n",
    "production_companies.info()"
   ]
  },
  {
   "cell_type": "code",
   "execution_count": 10,
   "metadata": {},
   "outputs": [],
   "source": [
    "try:\n",
    "    \n",
    "    list_dict = [\n",
    "        {**company, 'movie_id': row['movie_id']}\n",
    "        for _, row in production_companies.iterrows()\n",
    "        for company in ast.literal_eval(row['production_companies'])\n",
    "    ]\n",
    "    \n",
    "except Exception as ex:\n",
    "    \n",
    "    print(\"Ha habido una excepción\", type(ex))"
   ]
  },
  {
   "cell_type": "code",
   "execution_count": 11,
   "metadata": {},
   "outputs": [
    {
     "data": {
      "text/plain": [
       "name        Pixar Animation Studios\n",
       "id                                3\n",
       "movie_id                        862\n",
       "Name: 0, dtype: object"
      ]
     },
     "execution_count": 11,
     "metadata": {},
     "output_type": "execute_result"
    }
   ],
   "source": [
    "production_companies = pd.DataFrame(list_dict)\n",
    "\n",
    "production_companies.iloc[0]"
   ]
  },
  {
   "cell_type": "code",
   "execution_count": 12,
   "metadata": {},
   "outputs": [
    {
     "data": {
      "text/plain": [
       "company_name    Pixar Animation Studios\n",
       "company_id                            3\n",
       "movie_id                            862\n",
       "Name: 0, dtype: object"
      ]
     },
     "execution_count": 12,
     "metadata": {},
     "output_type": "execute_result"
    }
   ],
   "source": [
    "production_companies.rename(columns={'name': 'company_name', \n",
    "                                     'id': 'company_id'}, \n",
    "                                     inplace=True)\n",
    "\n",
    "production_companies.iloc[0]"
   ]
  },
  {
   "cell_type": "code",
   "execution_count": 13,
   "metadata": {},
   "outputs": [
    {
     "name": "stdout",
     "output_type": "stream",
     "text": [
      "<class 'pandas.core.frame.DataFrame'>\n",
      "RangeIndex: 70545 entries, 0 to 70544\n",
      "Data columns (total 3 columns):\n",
      " #   Column        Non-Null Count  Dtype \n",
      "---  ------        --------------  ----- \n",
      " 0   company_name  70545 non-null  object\n",
      " 1   company_id    70545 non-null  int64 \n",
      " 2   movie_id      70545 non-null  object\n",
      "dtypes: int64(1), object(2)\n",
      "memory usage: 1.6+ MB\n"
     ]
    }
   ],
   "source": [
    "production_companies.info()"
   ]
  },
  {
   "cell_type": "code",
   "execution_count": 14,
   "metadata": {},
   "outputs": [
    {
     "name": "stdout",
     "output_type": "stream",
     "text": [
      "<class 'pandas.core.frame.DataFrame'>\n",
      "RangeIndex: 70545 entries, 0 to 70544\n",
      "Data columns (total 3 columns):\n",
      " #   Column        Non-Null Count  Dtype \n",
      "---  ------        --------------  ----- \n",
      " 0   company_name  70545 non-null  object\n",
      " 1   company_id    70545 non-null  object\n",
      " 2   movie_id      70545 non-null  object\n",
      "dtypes: object(3)\n",
      "memory usage: 1.6+ MB\n"
     ]
    }
   ],
   "source": [
    "production_companies['company_id'] = (production_companies['company_id']\n",
    "                                      .astype('str'))\n",
    "\n",
    "production_companies.info()"
   ]
  },
  {
   "cell_type": "code",
   "execution_count": 15,
   "metadata": {},
   "outputs": [
    {
     "data": {
      "text/plain": [
       "'c:\\\\Users\\\\franc\\\\Desktop\\\\Proyecto_Peliculas\\\\notebooks\\\\ETL\\\\movies_dataset\\\\nested_data'"
      ]
     },
     "execution_count": 15,
     "metadata": {},
     "output_type": "execute_result"
    }
   ],
   "source": [
    "current_dir = os.getcwd()\n",
    "\n",
    "current_dir"
   ]
  },
  {
   "cell_type": "code",
   "execution_count": 16,
   "metadata": {},
   "outputs": [
    {
     "data": {
      "text/plain": [
       "'c:\\\\Users\\\\franc\\\\Desktop\\\\Proyecto_Peliculas'"
      ]
     },
     "execution_count": 16,
     "metadata": {},
     "output_type": "execute_result"
    }
   ],
   "source": [
    "base_dir = os.path.dirname(\n",
    "    os.path.dirname(\n",
    "        os.path.dirname(\n",
    "            os.path.dirname(current_dir))))\n",
    "\n",
    "base_dir"
   ]
  },
  {
   "cell_type": "code",
   "execution_count": 17,
   "metadata": {},
   "outputs": [
    {
     "data": {
      "text/plain": [
       "'c:\\\\Users\\\\franc\\\\Desktop\\\\Proyecto_Peliculas\\\\data\\\\ETL_data\\\\movies_dataset\\\\previous_nested_data\\\\production_companies.parquet'"
      ]
     },
     "execution_count": 17,
     "metadata": {},
     "output_type": "execute_result"
    }
   ],
   "source": [
    "file_path = os.path.join(base_dir, \n",
    "                         'data', \n",
    "                         'ETL_data', \n",
    "                         'movies_dataset', \n",
    "                         'previous_nested_data', \n",
    "                         'production_companies.parquet')\n",
    "\n",
    "file_path"
   ]
  },
  {
   "cell_type": "code",
   "execution_count": 18,
   "metadata": {},
   "outputs": [],
   "source": [
    "production_companies.to_parquet(file_path)"
   ]
  }
 ],
 "metadata": {
  "kernelspec": {
   "display_name": "venv",
   "language": "python",
   "name": "python3"
  },
  "language_info": {
   "codemirror_mode": {
    "name": "ipython",
    "version": 3
   },
   "file_extension": ".py",
   "mimetype": "text/x-python",
   "name": "python",
   "nbconvert_exporter": "python",
   "pygments_lexer": "ipython3",
   "version": "3.11.9"
  }
 },
 "nbformat": 4,
 "nbformat_minor": 2
}
