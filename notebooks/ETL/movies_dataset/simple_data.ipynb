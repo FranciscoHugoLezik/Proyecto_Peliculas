{
 "cells": [
  {
   "cell_type": "markdown",
   "metadata": {},
   "source": [
    "### ETL del archivo en crudo `movies_dataset.parquet` con las columnas de datos simples. El nuevo dataset se va a llamar `movies`"
   ]
  },
  {
   "cell_type": "code",
   "execution_count": 1,
   "metadata": {},
   "outputs": [],
   "source": [
    "import pandas as pd\n",
    "import os"
   ]
  },
  {
   "cell_type": "code",
   "execution_count": 2,
   "metadata": {},
   "outputs": [
    {
     "data": {
      "text/plain": [
       "adult                                                                False\n",
       "belongs_to_collection    {'id': 10194, 'name': 'Toy Story Collection', ...\n",
       "budget                                                            30000000\n",
       "genres                   [{'id': 16, 'name': 'Animation'}, {'id': 35, '...\n",
       "homepage                              http://toystory.disney.com/toy-story\n",
       "id                                                                     862\n",
       "imdb_id                                                          tt0114709\n",
       "original_language                                                       en\n",
       "original_title                                                   Toy Story\n",
       "overview                 Led by Woody, Andy's toys live happily in his ...\n",
       "popularity                                                       21.946943\n",
       "poster_path                               /rhIRbceoE9lR4veEXuwCC2wARtG.jpg\n",
       "production_companies        [{'name': 'Pixar Animation Studios', 'id': 3}]\n",
       "production_countries     [{'iso_3166_1': 'US', 'name': 'United States o...\n",
       "release_date                                                    1995-10-30\n",
       "revenue                                                          373554033\n",
       "runtime                                                               81.0\n",
       "spoken_languages                  [{'iso_639_1': 'en', 'name': 'English'}]\n",
       "status                                                            Released\n",
       "tagline                                                               None\n",
       "title                                                            Toy Story\n",
       "video                                                                False\n",
       "vote_average                                                           7.7\n",
       "vote_count                                                            5415\n",
       "Name: 0, dtype: object"
      ]
     },
     "execution_count": 2,
     "metadata": {},
     "output_type": "execute_result"
    }
   ],
   "source": [
    "url = \"https://github.com/FranciscoHugoLezik/Movies_data/blob/main/movies_dataset.parquet?raw=true\"\n",
    "\n",
    "movies_dataset = pd.read_parquet(url, \n",
    "                                 engine=\"fastparquet\")\n",
    "\n",
    "movies_dataset.iloc[0]"
   ]
  },
  {
   "cell_type": "code",
   "execution_count": 3,
   "metadata": {},
   "outputs": [
    {
     "data": {
      "text/plain": [
       "belongs_to_collection    {'id': 10194, 'name': 'Toy Story Collection', ...\n",
       "budget                                                            30000000\n",
       "genres                   [{'id': 16, 'name': 'Animation'}, {'id': 35, '...\n",
       "id                                                                     862\n",
       "original_language                                                       en\n",
       "overview                 Led by Woody, Andy's toys live happily in his ...\n",
       "popularity                                                       21.946943\n",
       "production_companies        [{'name': 'Pixar Animation Studios', 'id': 3}]\n",
       "production_countries     [{'iso_3166_1': 'US', 'name': 'United States o...\n",
       "release_date                                                    1995-10-30\n",
       "revenue                                                          373554033\n",
       "runtime                                                               81.0\n",
       "spoken_languages                  [{'iso_639_1': 'en', 'name': 'English'}]\n",
       "status                                                            Released\n",
       "tagline                                                               None\n",
       "title                                                            Toy Story\n",
       "vote_average                                                           7.7\n",
       "vote_count                                                            5415\n",
       "Name: 0, dtype: object"
      ]
     },
     "execution_count": 3,
     "metadata": {},
     "output_type": "execute_result"
    }
   ],
   "source": [
    "unnecessary = [\"video\", \n",
    "               \"imdb_id\", \n",
    "               \"adult\", \n",
    "               \"original_title\", \n",
    "               \"poster_path\", \n",
    "               \"homepage\"]\n",
    "\n",
    "movies_dataset = (movies_dataset\n",
    "                  .drop(columns=unnecessary)\n",
    "                  .copy())\n",
    "\n",
    "movies_dataset.iloc[0]"
   ]
  },
  {
   "cell_type": "code",
   "execution_count": 4,
   "metadata": {},
   "outputs": [
    {
     "data": {
      "text/plain": [
       "budget                                                        30000000\n",
       "id                                                                 862\n",
       "original_language                                                   en\n",
       "overview             Led by Woody, Andy's toys live happily in his ...\n",
       "popularity                                                   21.946943\n",
       "release_date                                                1995-10-30\n",
       "revenue                                                      373554033\n",
       "runtime                                                           81.0\n",
       "status                                                        Released\n",
       "tagline                                                           None\n",
       "title                                                        Toy Story\n",
       "vote_average                                                       7.7\n",
       "vote_count                                                        5415\n",
       "Name: 0, dtype: object"
      ]
     },
     "execution_count": 4,
     "metadata": {},
     "output_type": "execute_result"
    }
   ],
   "source": [
    "nested_tables = [\"belongs_to_collection\", \n",
    "                 \"genres\", \n",
    "                 \"production_companies\", \n",
    "                 \"production_countries\", \n",
    "                 \"spoken_languages\"]\n",
    "\n",
    "simple_data = (movies_dataset\n",
    "               .drop(columns=nested_tables))\n",
    "\n",
    "simple_data.iloc[0]"
   ]
  },
  {
   "cell_type": "code",
   "execution_count": 5,
   "metadata": {},
   "outputs": [
    {
     "name": "stdout",
     "output_type": "stream",
     "text": [
      "<class 'pandas.core.frame.DataFrame'>\n",
      "RangeIndex: 45466 entries, 0 to 45465\n",
      "Data columns (total 13 columns):\n",
      " #   Column             Non-Null Count  Dtype \n",
      "---  ------             --------------  ----- \n",
      " 0   budget             45466 non-null  object\n",
      " 1   id                 45466 non-null  object\n",
      " 2   original_language  45455 non-null  object\n",
      " 3   overview           44512 non-null  object\n",
      " 4   popularity         45461 non-null  object\n",
      " 5   release_date       45379 non-null  object\n",
      " 6   revenue            45460 non-null  object\n",
      " 7   runtime            45203 non-null  object\n",
      " 8   status             45379 non-null  object\n",
      " 9   tagline            20412 non-null  object\n",
      " 10  title              45460 non-null  object\n",
      " 11  vote_average       45460 non-null  object\n",
      " 12  vote_count         45460 non-null  object\n",
      "dtypes: object(13)\n",
      "memory usage: 4.5+ MB\n"
     ]
    }
   ],
   "source": [
    "simple_data.info()"
   ]
  },
  {
   "cell_type": "code",
   "execution_count": 6,
   "metadata": {},
   "outputs": [
    {
     "name": "stdout",
     "output_type": "stream",
     "text": [
      "<class 'pandas.core.frame.DataFrame'>\n",
      "Int64Index: 45460 entries, 0 to 45465\n",
      "Data columns (total 13 columns):\n",
      " #   Column             Non-Null Count  Dtype \n",
      "---  ------             --------------  ----- \n",
      " 0   budget             45460 non-null  object\n",
      " 1   id                 45460 non-null  object\n",
      " 2   original_language  45449 non-null  object\n",
      " 3   overview           44506 non-null  object\n",
      " 4   popularity         45460 non-null  object\n",
      " 5   release_date       45376 non-null  object\n",
      " 6   revenue            45460 non-null  object\n",
      " 7   runtime            45203 non-null  object\n",
      " 8   status             45379 non-null  object\n",
      " 9   tagline            20412 non-null  object\n",
      " 10  title              45460 non-null  object\n",
      " 11  vote_average       45460 non-null  object\n",
      " 12  vote_count         45460 non-null  object\n",
      "dtypes: object(13)\n",
      "memory usage: 4.9+ MB\n"
     ]
    }
   ],
   "source": [
    "simple_data.dropna(subset='title', \n",
    "                   inplace=True)\n",
    "\n",
    "simple_data.info()"
   ]
  },
  {
   "cell_type": "code",
   "execution_count": 7,
   "metadata": {},
   "outputs": [],
   "source": [
    "simple_data['budget'] = (simple_data['budget']\n",
    "                         .astype('int64'))\n",
    "\n",
    "simple_data['popularity'] = (simple_data['popularity']\n",
    "                             .astype('float64'))\n",
    "\n",
    "simple_data['release_date'] = (simple_data['release_date']\n",
    "                               .astype('datetime64[ns]'))\n",
    "\n",
    "simple_data['revenue'] = (simple_data['revenue']\n",
    "                          .astype('int64'))\n",
    "\n",
    "simple_data['runtime'] = (simple_data['runtime']\n",
    "                          .astype('float64'))\n",
    "\n",
    "simple_data['vote_average'] = (simple_data['vote_average']\n",
    "                               .astype('float64'))\n",
    "\n",
    "simple_data['vote_count'] = (simple_data['vote_count']\n",
    "                             .astype('int64'))"
   ]
  },
  {
   "cell_type": "code",
   "execution_count": 8,
   "metadata": {},
   "outputs": [
    {
     "name": "stdout",
     "output_type": "stream",
     "text": [
      "<class 'pandas.core.frame.DataFrame'>\n",
      "Int64Index: 45460 entries, 0 to 45465\n",
      "Data columns (total 13 columns):\n",
      " #   Column             Non-Null Count  Dtype         \n",
      "---  ------             --------------  -----         \n",
      " 0   budget             45460 non-null  int64         \n",
      " 1   id                 45460 non-null  object        \n",
      " 2   original_language  45449 non-null  object        \n",
      " 3   overview           44506 non-null  object        \n",
      " 4   popularity         45460 non-null  float64       \n",
      " 5   release_date       45376 non-null  datetime64[ns]\n",
      " 6   revenue            45460 non-null  int64         \n",
      " 7   runtime            45203 non-null  float64       \n",
      " 8   status             45379 non-null  object        \n",
      " 9   tagline            20412 non-null  object        \n",
      " 10  title              45460 non-null  object        \n",
      " 11  vote_average       45460 non-null  float64       \n",
      " 12  vote_count         45460 non-null  int64         \n",
      "dtypes: datetime64[ns](1), float64(3), int64(3), object(6)\n",
      "memory usage: 4.9+ MB\n"
     ]
    }
   ],
   "source": [
    "simple_data.info()"
   ]
  },
  {
   "cell_type": "code",
   "execution_count": 9,
   "metadata": {},
   "outputs": [
    {
     "name": "stdout",
     "output_type": "stream",
     "text": [
      "<class 'pandas.core.frame.DataFrame'>\n",
      "Int64Index: 45376 entries, 0 to 45465\n",
      "Data columns (total 13 columns):\n",
      " #   Column             Non-Null Count  Dtype         \n",
      "---  ------             --------------  -----         \n",
      " 0   budget             45376 non-null  int64         \n",
      " 1   id                 45376 non-null  object        \n",
      " 2   original_language  45365 non-null  object        \n",
      " 3   overview           44435 non-null  object        \n",
      " 4   popularity         45376 non-null  float64       \n",
      " 5   release_date       45376 non-null  datetime64[ns]\n",
      " 6   revenue            45376 non-null  int64         \n",
      " 7   runtime            45130 non-null  float64       \n",
      " 8   status             45296 non-null  object        \n",
      " 9   tagline            20398 non-null  object        \n",
      " 10  title              45376 non-null  object        \n",
      " 11  vote_average       45376 non-null  float64       \n",
      " 12  vote_count         45376 non-null  int64         \n",
      "dtypes: datetime64[ns](1), float64(3), int64(3), object(6)\n",
      "memory usage: 4.8+ MB\n"
     ]
    }
   ],
   "source": [
    "simple_data.dropna(subset=['release_date'], \n",
    "                   inplace=True)\n",
    "\n",
    "simple_data.info()"
   ]
  },
  {
   "cell_type": "code",
   "execution_count": 10,
   "metadata": {},
   "outputs": [
    {
     "name": "stdout",
     "output_type": "stream",
     "text": [
      "<class 'pandas.core.frame.DataFrame'>\n",
      "Int64Index: 45376 entries, 0 to 45465\n",
      "Data columns (total 13 columns):\n",
      " #   Column             Non-Null Count  Dtype         \n",
      "---  ------             --------------  -----         \n",
      " 0   budget             45376 non-null  int64         \n",
      " 1   id                 45376 non-null  object        \n",
      " 2   original_language  45365 non-null  object        \n",
      " 3   overview           44435 non-null  object        \n",
      " 4   popularity         45376 non-null  float64       \n",
      " 5   release_date       45376 non-null  datetime64[ns]\n",
      " 6   revenue            45376 non-null  int64         \n",
      " 7   runtime            45130 non-null  float64       \n",
      " 8   status             45296 non-null  object        \n",
      " 9   tagline            20398 non-null  object        \n",
      " 10  title              45376 non-null  object        \n",
      " 11  vote_average       45376 non-null  float64       \n",
      " 12  vote_count         45376 non-null  int64         \n",
      "dtypes: datetime64[ns](1), float64(3), int64(3), object(6)\n",
      "memory usage: 4.8+ MB\n"
     ]
    }
   ],
   "source": [
    "simple_data['revenue'] = (simple_data['revenue']\n",
    "                          .fillna(0))\n",
    "\n",
    "simple_data['budget'] = (simple_data['budget']\n",
    "                         .fillna(0))\n",
    "\n",
    "simple_data.info()"
   ]
  },
  {
   "cell_type": "code",
   "execution_count": 11,
   "metadata": {},
   "outputs": [
    {
     "name": "stdout",
     "output_type": "stream",
     "text": [
      "<class 'pandas.core.frame.DataFrame'>\n",
      "Int64Index: 45376 entries, 0 to 45465\n",
      "Data columns (total 14 columns):\n",
      " #   Column             Non-Null Count  Dtype         \n",
      "---  ------             --------------  -----         \n",
      " 0   budget             45376 non-null  int64         \n",
      " 1   id                 45376 non-null  object        \n",
      " 2   original_language  45365 non-null  object        \n",
      " 3   overview           44435 non-null  object        \n",
      " 4   popularity         45376 non-null  float64       \n",
      " 5   release_date       45376 non-null  datetime64[ns]\n",
      " 6   revenue            45376 non-null  int64         \n",
      " 7   runtime            45130 non-null  float64       \n",
      " 8   status             45296 non-null  object        \n",
      " 9   tagline            20398 non-null  object        \n",
      " 10  title              45376 non-null  object        \n",
      " 11  vote_average       45376 non-null  float64       \n",
      " 12  vote_count         45376 non-null  int64         \n",
      " 13  release_year       45376 non-null  object        \n",
      "dtypes: datetime64[ns](1), float64(3), int64(3), object(7)\n",
      "memory usage: 5.2+ MB\n"
     ]
    }
   ],
   "source": [
    "simple_data['release_year'] = (simple_data['release_date']\n",
    "                               .dt.year)\n",
    "simple_data['release_year'] = (simple_data['release_year']\n",
    "                               .astype(str))\n",
    "\n",
    "simple_data.info()"
   ]
  },
  {
   "cell_type": "code",
   "execution_count": 12,
   "metadata": {},
   "outputs": [
    {
     "name": "stdout",
     "output_type": "stream",
     "text": [
      "<class 'pandas.core.frame.DataFrame'>\n",
      "Int64Index: 45376 entries, 0 to 45465\n",
      "Data columns (total 15 columns):\n",
      " #   Column             Non-Null Count  Dtype         \n",
      "---  ------             --------------  -----         \n",
      " 0   budget             45376 non-null  int64         \n",
      " 1   id                 45376 non-null  object        \n",
      " 2   original_language  45365 non-null  object        \n",
      " 3   overview           44435 non-null  object        \n",
      " 4   popularity         45376 non-null  float64       \n",
      " 5   release_date       45376 non-null  datetime64[ns]\n",
      " 6   revenue            45376 non-null  int64         \n",
      " 7   runtime            45130 non-null  float64       \n",
      " 8   status             45296 non-null  object        \n",
      " 9   tagline            20398 non-null  object        \n",
      " 10  title              45376 non-null  object        \n",
      " 11  vote_average       45376 non-null  float64       \n",
      " 12  vote_count         45376 non-null  int64         \n",
      " 13  release_year       45376 non-null  object        \n",
      " 14  return             45376 non-null  float64       \n",
      "dtypes: datetime64[ns](1), float64(4), int64(3), object(7)\n",
      "memory usage: 5.5+ MB\n"
     ]
    }
   ],
   "source": [
    "return_movie = (\n",
    "    lambda row: row['revenue'] / row['budget'] \n",
    "    if row['revenue'] > 0 and row['budget'] > 0 \n",
    "    else 0\n",
    ")\n",
    "\n",
    "simple_data['return'] = (simple_data\n",
    "                         .apply(return_movie, \n",
    "                                axis=1))\n",
    "simple_data['return'] = (simple_data['return']\n",
    "                         .round(2))\n",
    "\n",
    "simple_data.info()"
   ]
  },
  {
   "cell_type": "code",
   "execution_count": 13,
   "metadata": {},
   "outputs": [
    {
     "name": "stdout",
     "output_type": "stream",
     "text": [
      "<class 'pandas.core.frame.DataFrame'>\n",
      "RangeIndex: 45376 entries, 0 to 45375\n",
      "Data columns (total 15 columns):\n",
      " #   Column             Non-Null Count  Dtype         \n",
      "---  ------             --------------  -----         \n",
      " 0   budget             45376 non-null  int64         \n",
      " 1   id                 45376 non-null  object        \n",
      " 2   original_language  45365 non-null  object        \n",
      " 3   overview           44435 non-null  object        \n",
      " 4   popularity         45376 non-null  float64       \n",
      " 5   release_date       45376 non-null  datetime64[ns]\n",
      " 6   revenue            45376 non-null  int64         \n",
      " 7   runtime            45130 non-null  float64       \n",
      " 8   status             45296 non-null  object        \n",
      " 9   tagline            20398 non-null  object        \n",
      " 10  title              45376 non-null  object        \n",
      " 11  vote_average       45376 non-null  float64       \n",
      " 12  vote_count         45376 non-null  int64         \n",
      " 13  release_year       45376 non-null  object        \n",
      " 14  return             45376 non-null  float64       \n",
      "dtypes: datetime64[ns](1), float64(4), int64(3), object(7)\n",
      "memory usage: 5.2+ MB\n"
     ]
    }
   ],
   "source": [
    "simple_data.reset_index(drop=True, \n",
    "                        inplace=True)\n",
    "\n",
    "simple_data.info()"
   ]
  },
  {
   "cell_type": "code",
   "execution_count": 14,
   "metadata": {},
   "outputs": [
    {
     "data": {
      "text/plain": [
       "budget                                                        30000000\n",
       "movie_id                                                           862\n",
       "original_language                                                   en\n",
       "overview             Led by Woody, Andy's toys live happily in his ...\n",
       "popularity                                                   21.946943\n",
       "release_date                                       1995-10-30 00:00:00\n",
       "revenue                                                      373554033\n",
       "runtime                                                           81.0\n",
       "status                                                        Released\n",
       "tagline                                                           None\n",
       "title                                                        Toy Story\n",
       "vote_average                                                       7.7\n",
       "vote_count                                                        5415\n",
       "release_year                                                      1995\n",
       "return                                                           12.45\n",
       "Name: 0, dtype: object"
      ]
     },
     "execution_count": 14,
     "metadata": {},
     "output_type": "execute_result"
    }
   ],
   "source": [
    "simple_data.rename(columns={'id': 'movie_id'}, \n",
    "                   inplace=True)\n",
    "\n",
    "simple_data.iloc[0]"
   ]
  },
  {
   "cell_type": "code",
   "execution_count": 15,
   "metadata": {},
   "outputs": [
    {
     "data": {
      "text/plain": [
       "'c:\\\\Users\\\\franc\\\\Desktop\\\\Proyecto_Peliculas\\\\notebooks\\\\ETL\\\\movies_dataset'"
      ]
     },
     "execution_count": 15,
     "metadata": {},
     "output_type": "execute_result"
    }
   ],
   "source": [
    "current_dir = os.getcwd()\n",
    "\n",
    "current_dir"
   ]
  },
  {
   "cell_type": "code",
   "execution_count": 16,
   "metadata": {},
   "outputs": [
    {
     "data": {
      "text/plain": [
       "'c:\\\\Users\\\\franc\\\\Desktop\\\\Proyecto_Peliculas'"
      ]
     },
     "execution_count": 16,
     "metadata": {},
     "output_type": "execute_result"
    }
   ],
   "source": [
    "base_dir = os.path.dirname(\n",
    "    os.path.dirname(\n",
    "        os.path.dirname(current_dir)))\n",
    "\n",
    "base_dir"
   ]
  },
  {
   "cell_type": "code",
   "execution_count": 17,
   "metadata": {},
   "outputs": [
    {
     "data": {
      "text/plain": [
       "'c:\\\\Users\\\\franc\\\\Desktop\\\\Proyecto_Peliculas\\\\data\\\\ETL_data\\\\movies_dataset\\\\simple_data.parquet'"
      ]
     },
     "execution_count": 17,
     "metadata": {},
     "output_type": "execute_result"
    }
   ],
   "source": [
    "file_path = os.path.join(base_dir, \n",
    "                         'data', \n",
    "                         'ETL_data', \n",
    "                         'movies_dataset', \n",
    "                         'simple_data.parquet')\n",
    "\n",
    "file_path"
   ]
  },
  {
   "cell_type": "code",
   "execution_count": 18,
   "metadata": {},
   "outputs": [],
   "source": [
    "simple_data.to_parquet(file_path)"
   ]
  }
 ],
 "metadata": {
  "kernelspec": {
   "display_name": "venv",
   "language": "python",
   "name": "python3"
  },
  "language_info": {
   "codemirror_mode": {
    "name": "ipython",
    "version": 3
   },
   "file_extension": ".py",
   "mimetype": "text/x-python",
   "name": "python",
   "nbconvert_exporter": "python",
   "pygments_lexer": "ipython3",
   "version": "3.11.9"
  }
 },
 "nbformat": 4,
 "nbformat_minor": 2
}
