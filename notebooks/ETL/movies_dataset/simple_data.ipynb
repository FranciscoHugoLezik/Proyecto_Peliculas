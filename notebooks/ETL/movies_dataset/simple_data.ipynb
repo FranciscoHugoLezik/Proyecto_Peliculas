{
 "cells": [
  {
   "cell_type": "markdown",
   "metadata": {},
   "source": [
    "### ETL del archivo en crudo `movies_dataset.parquet` con las columnas de datos simples. El nuevo dataset se va a llamar `movies`"
   ]
  },
  {
   "cell_type": "code",
   "execution_count": 18,
   "metadata": {},
   "outputs": [],
   "source": [
    "import pandas as pd\n",
    "import os"
   ]
  },
  {
   "cell_type": "code",
   "execution_count": 19,
   "metadata": {},
   "outputs": [
    {
     "data": {
      "text/plain": [
       "adult                                                                False\n",
       "belongs_to_collection    {'id': 10194, 'name': 'Toy Story Collection', ...\n",
       "budget                                                            30000000\n",
       "genres                   [{'id': 16, 'name': 'Animation'}, {'id': 35, '...\n",
       "homepage                              http://toystory.disney.com/toy-story\n",
       "id                                                                     862\n",
       "imdb_id                                                          tt0114709\n",
       "original_language                                                       en\n",
       "original_title                                                   Toy Story\n",
       "overview                 Led by Woody, Andy's toys live happily in his ...\n",
       "popularity                                                       21.946943\n",
       "poster_path                               /rhIRbceoE9lR4veEXuwCC2wARtG.jpg\n",
       "production_companies        [{'name': 'Pixar Animation Studios', 'id': 3}]\n",
       "production_countries     [{'iso_3166_1': 'US', 'name': 'United States o...\n",
       "release_date                                                    1995-10-30\n",
       "revenue                                                          373554033\n",
       "runtime                                                               81.0\n",
       "spoken_languages                  [{'iso_639_1': 'en', 'name': 'English'}]\n",
       "status                                                            Released\n",
       "tagline                                                               None\n",
       "title                                                            Toy Story\n",
       "video                                                                False\n",
       "vote_average                                                           7.7\n",
       "vote_count                                                            5415\n",
       "Name: 0, dtype: object"
      ]
     },
     "execution_count": 19,
     "metadata": {},
     "output_type": "execute_result"
    }
   ],
   "source": [
    "url = \"https://github.com/FranciscoHugoLezik/Movies_data/blob/main/movies_dataset.parquet?raw=true\"\n",
    "\n",
    "movies_dataset_df = pd.read_parquet(url, engine=\"fastparquet\")\n",
    "\n",
    "movies_dataset_df.iloc[0]"
   ]
  },
  {
   "cell_type": "code",
   "execution_count": 20,
   "metadata": {},
   "outputs": [
    {
     "data": {
      "text/plain": [
       "belongs_to_collection    {'id': 10194, 'name': 'Toy Story Collection', ...\n",
       "budget                                                            30000000\n",
       "genres                   [{'id': 16, 'name': 'Animation'}, {'id': 35, '...\n",
       "id                                                                     862\n",
       "original_language                                                       en\n",
       "overview                 Led by Woody, Andy's toys live happily in his ...\n",
       "popularity                                                       21.946943\n",
       "production_companies        [{'name': 'Pixar Animation Studios', 'id': 3}]\n",
       "production_countries     [{'iso_3166_1': 'US', 'name': 'United States o...\n",
       "release_date                                                    1995-10-30\n",
       "revenue                                                          373554033\n",
       "runtime                                                               81.0\n",
       "spoken_languages                  [{'iso_639_1': 'en', 'name': 'English'}]\n",
       "status                                                            Released\n",
       "tagline                                                               None\n",
       "title                                                            Toy Story\n",
       "vote_average                                                           7.7\n",
       "vote_count                                                            5415\n",
       "Name: 0, dtype: object"
      ]
     },
     "execution_count": 20,
     "metadata": {},
     "output_type": "execute_result"
    }
   ],
   "source": [
    "unnecessary = [\"video\", \n",
    "               \"imdb_id\", \n",
    "               \"adult\", \n",
    "               \"original_title\", \n",
    "               \"poster_path\", \n",
    "               \"homepage\"]\n",
    "\n",
    "movies_df = movies_dataset_df.drop(columns=unnecessary).copy()\n",
    "\n",
    "movies_df.iloc[0]"
   ]
  },
  {
   "cell_type": "code",
   "execution_count": 21,
   "metadata": {},
   "outputs": [
    {
     "data": {
      "text/plain": [
       "budget                                                        30000000\n",
       "id                                                                 862\n",
       "original_language                                                   en\n",
       "overview             Led by Woody, Andy's toys live happily in his ...\n",
       "popularity                                                   21.946943\n",
       "release_date                                                1995-10-30\n",
       "revenue                                                      373554033\n",
       "runtime                                                           81.0\n",
       "status                                                        Released\n",
       "tagline                                                           None\n",
       "title                                                        Toy Story\n",
       "vote_average                                                       7.7\n",
       "vote_count                                                        5415\n",
       "Name: 0, dtype: object"
      ]
     },
     "execution_count": 21,
     "metadata": {},
     "output_type": "execute_result"
    }
   ],
   "source": [
    "nested_tables = [\"belongs_to_collection\", \n",
    "                 \"genres\", \n",
    "                 \"production_companies\", \n",
    "                 \"production_countries\", \n",
    "                 \"spoken_languages\"]\n",
    "\n",
    "movies_df = movies_df.drop(columns=nested_tables)\n",
    "\n",
    "movies_df.iloc[0]"
   ]
  },
  {
   "cell_type": "code",
   "execution_count": 22,
   "metadata": {},
   "outputs": [
    {
     "name": "stdout",
     "output_type": "stream",
     "text": [
      "<class 'pandas.core.frame.DataFrame'>\n",
      "RangeIndex: 45466 entries, 0 to 45465\n",
      "Data columns (total 13 columns):\n",
      " #   Column             Non-Null Count  Dtype \n",
      "---  ------             --------------  ----- \n",
      " 0   budget             45466 non-null  object\n",
      " 1   id                 45466 non-null  object\n",
      " 2   original_language  45455 non-null  object\n",
      " 3   overview           44512 non-null  object\n",
      " 4   popularity         45461 non-null  object\n",
      " 5   release_date       45379 non-null  object\n",
      " 6   revenue            45460 non-null  object\n",
      " 7   runtime            45203 non-null  object\n",
      " 8   status             45379 non-null  object\n",
      " 9   tagline            20412 non-null  object\n",
      " 10  title              45460 non-null  object\n",
      " 11  vote_average       45460 non-null  object\n",
      " 12  vote_count         45460 non-null  object\n",
      "dtypes: object(13)\n",
      "memory usage: 4.5+ MB\n"
     ]
    }
   ],
   "source": [
    "movies_df.info()"
   ]
  },
  {
   "cell_type": "code",
   "execution_count": 23,
   "metadata": {},
   "outputs": [
    {
     "name": "stdout",
     "output_type": "stream",
     "text": [
      "<class 'pandas.core.frame.DataFrame'>\n",
      "Index: 45460 entries, 0 to 45465\n",
      "Data columns (total 13 columns):\n",
      " #   Column             Non-Null Count  Dtype \n",
      "---  ------             --------------  ----- \n",
      " 0   budget             45460 non-null  object\n",
      " 1   id                 45460 non-null  object\n",
      " 2   original_language  45449 non-null  object\n",
      " 3   overview           44506 non-null  object\n",
      " 4   popularity         45460 non-null  object\n",
      " 5   release_date       45376 non-null  object\n",
      " 6   revenue            45460 non-null  object\n",
      " 7   runtime            45203 non-null  object\n",
      " 8   status             45379 non-null  object\n",
      " 9   tagline            20412 non-null  object\n",
      " 10  title              45460 non-null  object\n",
      " 11  vote_average       45460 non-null  object\n",
      " 12  vote_count         45460 non-null  object\n",
      "dtypes: object(13)\n",
      "memory usage: 4.9+ MB\n"
     ]
    }
   ],
   "source": [
    "movies_df = movies_df.dropna(subset='title')\n",
    "\n",
    "movies_df.info()"
   ]
  },
  {
   "cell_type": "code",
   "execution_count": 24,
   "metadata": {},
   "outputs": [],
   "source": [
    "movies_df['budget'] = movies_df['budget'].astype('int64')\n",
    "movies_df['popularity'] = movies_df['popularity'].astype('float64')\n",
    "movies_df['release_date'] = movies_df['release_date'].astype('datetime64[ns]')\n",
    "movies_df['revenue'] = movies_df['revenue'].astype('int64')\n",
    "movies_df['runtime'] = movies_df['runtime'].astype('float64')\n",
    "movies_df['vote_average'] = movies_df['vote_average'].astype('float64')\n",
    "movies_df['vote_count'] = movies_df['vote_count'].astype('int64')"
   ]
  },
  {
   "cell_type": "code",
   "execution_count": 25,
   "metadata": {},
   "outputs": [
    {
     "name": "stdout",
     "output_type": "stream",
     "text": [
      "<class 'pandas.core.frame.DataFrame'>\n",
      "Index: 45460 entries, 0 to 45465\n",
      "Data columns (total 13 columns):\n",
      " #   Column             Non-Null Count  Dtype         \n",
      "---  ------             --------------  -----         \n",
      " 0   budget             45460 non-null  int64         \n",
      " 1   id                 45460 non-null  object        \n",
      " 2   original_language  45449 non-null  object        \n",
      " 3   overview           44506 non-null  object        \n",
      " 4   popularity         45460 non-null  float64       \n",
      " 5   release_date       45376 non-null  datetime64[ns]\n",
      " 6   revenue            45460 non-null  int64         \n",
      " 7   runtime            45203 non-null  float64       \n",
      " 8   status             45379 non-null  object        \n",
      " 9   tagline            20412 non-null  object        \n",
      " 10  title              45460 non-null  object        \n",
      " 11  vote_average       45460 non-null  float64       \n",
      " 12  vote_count         45460 non-null  int64         \n",
      "dtypes: datetime64[ns](1), float64(3), int64(3), object(6)\n",
      "memory usage: 4.9+ MB\n"
     ]
    }
   ],
   "source": [
    "movies_df.info()"
   ]
  },
  {
   "cell_type": "code",
   "execution_count": 26,
   "metadata": {},
   "outputs": [
    {
     "name": "stdout",
     "output_type": "stream",
     "text": [
      "<class 'pandas.core.frame.DataFrame'>\n",
      "Index: 45376 entries, 0 to 45465\n",
      "Data columns (total 13 columns):\n",
      " #   Column             Non-Null Count  Dtype         \n",
      "---  ------             --------------  -----         \n",
      " 0   budget             45376 non-null  int64         \n",
      " 1   id                 45376 non-null  object        \n",
      " 2   original_language  45365 non-null  object        \n",
      " 3   overview           44435 non-null  object        \n",
      " 4   popularity         45376 non-null  float64       \n",
      " 5   release_date       45376 non-null  datetime64[ns]\n",
      " 6   revenue            45376 non-null  int64         \n",
      " 7   runtime            45130 non-null  float64       \n",
      " 8   status             45296 non-null  object        \n",
      " 9   tagline            20398 non-null  object        \n",
      " 10  title              45376 non-null  object        \n",
      " 11  vote_average       45376 non-null  float64       \n",
      " 12  vote_count         45376 non-null  int64         \n",
      "dtypes: datetime64[ns](1), float64(3), int64(3), object(6)\n",
      "memory usage: 4.8+ MB\n"
     ]
    }
   ],
   "source": [
    "movies_df.dropna(subset=['release_date'], inplace=True)\n",
    "\n",
    "movies_df.info()"
   ]
  },
  {
   "cell_type": "code",
   "execution_count": 27,
   "metadata": {},
   "outputs": [
    {
     "name": "stdout",
     "output_type": "stream",
     "text": [
      "<class 'pandas.core.frame.DataFrame'>\n",
      "Index: 45376 entries, 0 to 45465\n",
      "Data columns (total 13 columns):\n",
      " #   Column             Non-Null Count  Dtype         \n",
      "---  ------             --------------  -----         \n",
      " 0   budget             45376 non-null  int64         \n",
      " 1   id                 45376 non-null  object        \n",
      " 2   original_language  45365 non-null  object        \n",
      " 3   overview           44435 non-null  object        \n",
      " 4   popularity         45376 non-null  float64       \n",
      " 5   release_date       45376 non-null  datetime64[ns]\n",
      " 6   revenue            45376 non-null  int64         \n",
      " 7   runtime            45130 non-null  float64       \n",
      " 8   status             45296 non-null  object        \n",
      " 9   tagline            20398 non-null  object        \n",
      " 10  title              45376 non-null  object        \n",
      " 11  vote_average       45376 non-null  float64       \n",
      " 12  vote_count         45376 non-null  int64         \n",
      "dtypes: datetime64[ns](1), float64(3), int64(3), object(6)\n",
      "memory usage: 4.8+ MB\n"
     ]
    }
   ],
   "source": [
    "movies_df['revenue'] = movies_df['revenue'].fillna(0)\n",
    "movies_df['budget'] = movies_df['budget'].fillna(0)\n",
    "\n",
    "movies_df.info()"
   ]
  },
  {
   "cell_type": "code",
   "execution_count": 28,
   "metadata": {},
   "outputs": [
    {
     "name": "stdout",
     "output_type": "stream",
     "text": [
      "<class 'pandas.core.frame.DataFrame'>\n",
      "Index: 45376 entries, 0 to 45465\n",
      "Data columns (total 14 columns):\n",
      " #   Column             Non-Null Count  Dtype         \n",
      "---  ------             --------------  -----         \n",
      " 0   budget             45376 non-null  int64         \n",
      " 1   id                 45376 non-null  object        \n",
      " 2   original_language  45365 non-null  object        \n",
      " 3   overview           44435 non-null  object        \n",
      " 4   popularity         45376 non-null  float64       \n",
      " 5   release_date       45376 non-null  datetime64[ns]\n",
      " 6   revenue            45376 non-null  int64         \n",
      " 7   runtime            45130 non-null  float64       \n",
      " 8   status             45296 non-null  object        \n",
      " 9   tagline            20398 non-null  object        \n",
      " 10  title              45376 non-null  object        \n",
      " 11  vote_average       45376 non-null  float64       \n",
      " 12  vote_count         45376 non-null  int64         \n",
      " 13  release_year       45376 non-null  object        \n",
      "dtypes: datetime64[ns](1), float64(3), int64(3), object(7)\n",
      "memory usage: 5.2+ MB\n"
     ]
    }
   ],
   "source": [
    "movies_df['release_year'] = movies_df['release_date'].dt.year\n",
    "movies_df['release_year'] = movies_df['release_year'].astype(str)\n",
    "\n",
    "movies_df.info()"
   ]
  },
  {
   "cell_type": "code",
   "execution_count": 29,
   "metadata": {},
   "outputs": [
    {
     "name": "stdout",
     "output_type": "stream",
     "text": [
      "<class 'pandas.core.frame.DataFrame'>\n",
      "Index: 45376 entries, 0 to 45465\n",
      "Data columns (total 15 columns):\n",
      " #   Column             Non-Null Count  Dtype         \n",
      "---  ------             --------------  -----         \n",
      " 0   budget             45376 non-null  int64         \n",
      " 1   id                 45376 non-null  object        \n",
      " 2   original_language  45365 non-null  object        \n",
      " 3   overview           44435 non-null  object        \n",
      " 4   popularity         45376 non-null  float64       \n",
      " 5   release_date       45376 non-null  datetime64[ns]\n",
      " 6   revenue            45376 non-null  int64         \n",
      " 7   runtime            45130 non-null  float64       \n",
      " 8   status             45296 non-null  object        \n",
      " 9   tagline            20398 non-null  object        \n",
      " 10  title              45376 non-null  object        \n",
      " 11  vote_average       45376 non-null  float64       \n",
      " 12  vote_count         45376 non-null  int64         \n",
      " 13  release_year       45376 non-null  object        \n",
      " 14  return             45376 non-null  float64       \n",
      "dtypes: datetime64[ns](1), float64(4), int64(3), object(7)\n",
      "memory usage: 5.5+ MB\n"
     ]
    }
   ],
   "source": [
    "return_movie = (\n",
    "    lambda row: row['revenue'] / row['budget'] \n",
    "    if row['revenue'] > 0 and row['budget'] > 0 \n",
    "    else 0\n",
    ")\n",
    "\n",
    "movies_df['return'] = movies_df.apply(return_movie, axis=1)\n",
    "movies_df['return'] = round(movies_df['return'], 2)\n",
    "\n",
    "movies_df.info()"
   ]
  },
  {
   "cell_type": "code",
   "execution_count": 30,
   "metadata": {},
   "outputs": [
    {
     "name": "stdout",
     "output_type": "stream",
     "text": [
      "<class 'pandas.core.frame.DataFrame'>\n",
      "RangeIndex: 45376 entries, 0 to 45375\n",
      "Data columns (total 15 columns):\n",
      " #   Column             Non-Null Count  Dtype         \n",
      "---  ------             --------------  -----         \n",
      " 0   budget             45376 non-null  int64         \n",
      " 1   id                 45376 non-null  object        \n",
      " 2   original_language  45365 non-null  object        \n",
      " 3   overview           44435 non-null  object        \n",
      " 4   popularity         45376 non-null  float64       \n",
      " 5   release_date       45376 non-null  datetime64[ns]\n",
      " 6   revenue            45376 non-null  int64         \n",
      " 7   runtime            45130 non-null  float64       \n",
      " 8   status             45296 non-null  object        \n",
      " 9   tagline            20398 non-null  object        \n",
      " 10  title              45376 non-null  object        \n",
      " 11  vote_average       45376 non-null  float64       \n",
      " 12  vote_count         45376 non-null  int64         \n",
      " 13  release_year       45376 non-null  object        \n",
      " 14  return             45376 non-null  float64       \n",
      "dtypes: datetime64[ns](1), float64(4), int64(3), object(7)\n",
      "memory usage: 5.2+ MB\n"
     ]
    }
   ],
   "source": [
    "movies_df.reset_index(drop=True, inplace=True)\n",
    "\n",
    "movies_df.info()"
   ]
  },
  {
   "cell_type": "code",
   "execution_count": 31,
   "metadata": {},
   "outputs": [
    {
     "data": {
      "text/plain": [
       "budget                                                        30000000\n",
       "movie_id                                                           862\n",
       "original_language                                                   en\n",
       "overview             Led by Woody, Andy's toys live happily in his ...\n",
       "popularity                                                   21.946943\n",
       "release_date                                       1995-10-30 00:00:00\n",
       "revenue                                                      373554033\n",
       "runtime                                                           81.0\n",
       "status                                                        Released\n",
       "tagline                                                           None\n",
       "title                                                        Toy Story\n",
       "vote_average                                                       7.7\n",
       "vote_count                                                        5415\n",
       "release_year                                                      1995\n",
       "return                                                           12.45\n",
       "Name: 0, dtype: object"
      ]
     },
     "execution_count": 31,
     "metadata": {},
     "output_type": "execute_result"
    }
   ],
   "source": [
    "movies_df.rename(columns={'id': 'movie_id'}, \n",
    "                 inplace=True)\n",
    "\n",
    "movies_df.iloc[0]"
   ]
  },
  {
   "cell_type": "code",
   "execution_count": 32,
   "metadata": {},
   "outputs": [
    {
     "data": {
      "text/plain": [
       "'c:\\\\Users\\\\franc\\\\Desktop\\\\Proyecto_Peliculas\\\\notebooks\\\\ETL\\\\movies_dataset'"
      ]
     },
     "execution_count": 32,
     "metadata": {},
     "output_type": "execute_result"
    }
   ],
   "source": [
    "current_dir = os.getcwd()\n",
    "\n",
    "current_dir"
   ]
  },
  {
   "cell_type": "code",
   "execution_count": 33,
   "metadata": {},
   "outputs": [
    {
     "data": {
      "text/plain": [
       "'c:\\\\Users\\\\franc\\\\Desktop\\\\Proyecto_Peliculas'"
      ]
     },
     "execution_count": 33,
     "metadata": {},
     "output_type": "execute_result"
    }
   ],
   "source": [
    "base_dir = os.path.dirname(os.path.dirname(os.path.dirname(current_dir)))\n",
    "\n",
    "base_dir"
   ]
  },
  {
   "cell_type": "code",
   "execution_count": 34,
   "metadata": {},
   "outputs": [
    {
     "data": {
      "text/plain": [
       "'c:\\\\Users\\\\franc\\\\Desktop\\\\Proyecto_Peliculas\\\\data\\\\ETL_data\\\\movies_dataset\\\\movies.parquet'"
      ]
     },
     "execution_count": 34,
     "metadata": {},
     "output_type": "execute_result"
    }
   ],
   "source": [
    "file_path = os.path.join(base_dir, 'data', 'ETL_data', 'movies_dataset', 'movies.parquet')\n",
    "\n",
    "file_path"
   ]
  },
  {
   "cell_type": "code",
   "execution_count": 35,
   "metadata": {},
   "outputs": [],
   "source": [
    "movies_df.to_parquet(file_path)"
   ]
  }
 ],
 "metadata": {
  "kernelspec": {
   "display_name": "venv",
   "language": "python",
   "name": "python3"
  },
  "language_info": {
   "codemirror_mode": {
    "name": "ipython",
    "version": 3
   },
   "file_extension": ".py",
   "mimetype": "text/x-python",
   "name": "python",
   "nbconvert_exporter": "python",
   "pygments_lexer": "ipython3",
   "version": "3.8.10"
  }
 },
 "nbformat": 4,
 "nbformat_minor": 2
}
