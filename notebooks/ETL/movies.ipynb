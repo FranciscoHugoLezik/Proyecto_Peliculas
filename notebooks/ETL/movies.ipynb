{
 "cells": [
  {
   "cell_type": "markdown",
   "metadata": {},
   "source": [
    "### ETL del archivo en crudo `movies_dataset.parquet` con las columnas de datos simples. El nuevo dataset se va a llamar `movies`"
   ]
  },
  {
   "cell_type": "code",
   "execution_count": 55,
   "metadata": {},
   "outputs": [],
   "source": [
    "import pandas as pd\n",
    "import ast\n",
    "import os\n",
    "import json"
   ]
  },
  {
   "cell_type": "code",
   "execution_count": 56,
   "metadata": {},
   "outputs": [],
   "source": [
    "url = \"https://github.com/FranciscoHugoLezik/Movies_data/blob/main/movies_dataset.parquet?raw=true\"\n",
    "\n",
    "movies_dataset = (\n",
    "    pd.read_parquet(\n",
    "        url, \n",
    "        engine=\"fastparquet\"\n",
    "        )\n",
    "    )"
   ]
  },
  {
   "cell_type": "code",
   "execution_count": 57,
   "metadata": {},
   "outputs": [
    {
     "data": {
      "text/plain": [
       "adult                                                                False\n",
       "belongs_to_collection    {'id': 10194, 'name': 'Toy Story Collection', ...\n",
       "budget                                                            30000000\n",
       "genres                   [{'id': 16, 'name': 'Animation'}, {'id': 35, '...\n",
       "homepage                              http://toystory.disney.com/toy-story\n",
       "id                                                                     862\n",
       "imdb_id                                                          tt0114709\n",
       "original_language                                                       en\n",
       "original_title                                                   Toy Story\n",
       "overview                 Led by Woody, Andy's toys live happily in his ...\n",
       "popularity                                                       21.946943\n",
       "poster_path                               /rhIRbceoE9lR4veEXuwCC2wARtG.jpg\n",
       "production_companies        [{'name': 'Pixar Animation Studios', 'id': 3}]\n",
       "production_countries     [{'iso_3166_1': 'US', 'name': 'United States o...\n",
       "release_date                                                    1995-10-30\n",
       "revenue                                                          373554033\n",
       "runtime                                                               81.0\n",
       "spoken_languages                  [{'iso_639_1': 'en', 'name': 'English'}]\n",
       "status                                                            Released\n",
       "tagline                                                               None\n",
       "title                                                            Toy Story\n",
       "video                                                                False\n",
       "vote_average                                                           7.7\n",
       "vote_count                                                            5415\n",
       "Name: 0, dtype: object"
      ]
     },
     "execution_count": 57,
     "metadata": {},
     "output_type": "execute_result"
    }
   ],
   "source": [
    "movies_dataset.iloc[0]"
   ]
  },
  {
   "cell_type": "code",
   "execution_count": 58,
   "metadata": {},
   "outputs": [],
   "source": [
    "recorte = [\n",
    "    \"video\", \n",
    "    \"imdb_id\", \n",
    "    \"adult\", \n",
    "    \"original_title\", \n",
    "    \"poster_path\", \n",
    "    \"homepage\", \n",
    "    \"belongs_to_collection\", \n",
    "    \"genres\", \n",
    "    \"production_companies\", \n",
    "    \"production_countries\", \n",
    "    \"spoken_languages\"\n",
    "    ]\n",
    "\n",
    "movies_recortado = (\n",
    "    movies_dataset\n",
    "    .drop(columns=recorte)\n",
    "    .copy()\n",
    "    )"
   ]
  },
  {
   "cell_type": "code",
   "execution_count": 59,
   "metadata": {},
   "outputs": [
    {
     "name": "stdout",
     "output_type": "stream",
     "text": [
      "budget\n",
      "id\n",
      "original_language\n",
      "overview\n",
      "popularity\n",
      "release_date\n",
      "revenue\n",
      "runtime\n",
      "status\n",
      "tagline\n",
      "title\n",
      "vote_average\n",
      "vote_count\n"
     ]
    }
   ],
   "source": [
    "for columna in movies_recortado.columns:\n",
    "    print(columna)"
   ]
  },
  {
   "cell_type": "code",
   "execution_count": 60,
   "metadata": {},
   "outputs": [],
   "source": [
    "movies_recortado.rename(\n",
    "    columns={'id': 'movie_id'}, \n",
    "    inplace=True\n",
    "    )"
   ]
  },
  {
   "cell_type": "code",
   "execution_count": 61,
   "metadata": {},
   "outputs": [
    {
     "name": "stdout",
     "output_type": "stream",
     "text": [
      "movie_id\n"
     ]
    }
   ],
   "source": [
    "for columna in movies_recortado.columns:\n",
    "    if columna == 'movie_id':\n",
    "        print(columna)\n",
    "        break"
   ]
  },
  {
   "cell_type": "code",
   "execution_count": 62,
   "metadata": {},
   "outputs": [],
   "source": [
    "nested_genres = (\n",
    "    movies_dataset\n",
    "    [['genres', \n",
    "      'id']]\n",
    "    .copy()\n",
    "    )"
   ]
  },
  {
   "cell_type": "code",
   "execution_count": 63,
   "metadata": {},
   "outputs": [],
   "source": [
    "del movies_dataset"
   ]
  },
  {
   "cell_type": "code",
   "execution_count": 64,
   "metadata": {},
   "outputs": [
    {
     "data": {
      "text/plain": [
       "genres    [{'id': 16, 'name': 'Animation'}, {'id': 35, '...\n",
       "id                                                      862\n",
       "Name: 0, dtype: object"
      ]
     },
     "execution_count": 64,
     "metadata": {},
     "output_type": "execute_result"
    }
   ],
   "source": [
    "nested_genres.iloc[0]"
   ]
  },
  {
   "cell_type": "code",
   "execution_count": 65,
   "metadata": {},
   "outputs": [
    {
     "data": {
      "text/plain": [
       "\"[{'id': 16, 'name': 'Animation'}, {'id': 35, 'name': 'Comedy'}, {'id': 10751, 'name': 'Family'}]\""
      ]
     },
     "execution_count": 65,
     "metadata": {},
     "output_type": "execute_result"
    }
   ],
   "source": [
    "nested_genres.iloc[0]['genres']"
   ]
  },
  {
   "cell_type": "code",
   "execution_count": 66,
   "metadata": {},
   "outputs": [],
   "source": [
    "nested_genres.rename(\n",
    "    columns={'id': 'movie_id'}, \n",
    "    inplace=True\n",
    "    )"
   ]
  },
  {
   "cell_type": "code",
   "execution_count": 67,
   "metadata": {},
   "outputs": [
    {
     "data": {
      "text/plain": [
       "Index(['genres', 'movie_id'], dtype='object')"
      ]
     },
     "execution_count": 67,
     "metadata": {},
     "output_type": "execute_result"
    }
   ],
   "source": [
    "nested_genres.columns"
   ]
  },
  {
   "cell_type": "code",
   "execution_count": 68,
   "metadata": {},
   "outputs": [
    {
     "name": "stdout",
     "output_type": "stream",
     "text": [
      "<class 'pandas.core.frame.DataFrame'>\n",
      "RangeIndex: 45466 entries, 0 to 45465\n",
      "Data columns (total 2 columns):\n",
      " #   Column    Non-Null Count  Dtype \n",
      "---  ------    --------------  ----- \n",
      " 0   genres    45466 non-null  object\n",
      " 1   movie_id  45466 non-null  object\n",
      "dtypes: object(2)\n",
      "memory usage: 710.5+ KB\n"
     ]
    }
   ],
   "source": [
    "nested_genres.info()"
   ]
  },
  {
   "cell_type": "code",
   "execution_count": 69,
   "metadata": {},
   "outputs": [],
   "source": [
    "generos_por_pelicula = [\n",
    "    {**generos, 'movie_id': row['movie_id']}\n",
    "    for _, row in nested_genres.iterrows()\n",
    "    for generos in ast.literal_eval(row['genres'])\n",
    "]\n",
    "\n",
    "generos = pd.DataFrame(generos_por_pelicula)"
   ]
  },
  {
   "cell_type": "code",
   "execution_count": 70,
   "metadata": {},
   "outputs": [],
   "source": [
    "del nested_genres"
   ]
  },
  {
   "cell_type": "code",
   "execution_count": 71,
   "metadata": {},
   "outputs": [
    {
     "data": {
      "text/html": [
       "<div>\n",
       "<style scoped>\n",
       "    .dataframe tbody tr th:only-of-type {\n",
       "        vertical-align: middle;\n",
       "    }\n",
       "\n",
       "    .dataframe tbody tr th {\n",
       "        vertical-align: top;\n",
       "    }\n",
       "\n",
       "    .dataframe thead th {\n",
       "        text-align: right;\n",
       "    }\n",
       "</style>\n",
       "<table border=\"1\" class=\"dataframe\">\n",
       "  <thead>\n",
       "    <tr style=\"text-align: right;\">\n",
       "      <th></th>\n",
       "      <th>id</th>\n",
       "      <th>name</th>\n",
       "      <th>movie_id</th>\n",
       "    </tr>\n",
       "  </thead>\n",
       "  <tbody>\n",
       "    <tr>\n",
       "      <th>0</th>\n",
       "      <td>16</td>\n",
       "      <td>Animation</td>\n",
       "      <td>862</td>\n",
       "    </tr>\n",
       "    <tr>\n",
       "      <th>1</th>\n",
       "      <td>35</td>\n",
       "      <td>Comedy</td>\n",
       "      <td>862</td>\n",
       "    </tr>\n",
       "    <tr>\n",
       "      <th>2</th>\n",
       "      <td>10751</td>\n",
       "      <td>Family</td>\n",
       "      <td>862</td>\n",
       "    </tr>\n",
       "    <tr>\n",
       "      <th>3</th>\n",
       "      <td>12</td>\n",
       "      <td>Adventure</td>\n",
       "      <td>8844</td>\n",
       "    </tr>\n",
       "    <tr>\n",
       "      <th>4</th>\n",
       "      <td>14</td>\n",
       "      <td>Fantasy</td>\n",
       "      <td>8844</td>\n",
       "    </tr>\n",
       "  </tbody>\n",
       "</table>\n",
       "</div>"
      ],
      "text/plain": [
       "      id       name movie_id\n",
       "0     16  Animation      862\n",
       "1     35     Comedy      862\n",
       "2  10751     Family      862\n",
       "3     12  Adventure     8844\n",
       "4     14    Fantasy     8844"
      ]
     },
     "execution_count": 71,
     "metadata": {},
     "output_type": "execute_result"
    }
   ],
   "source": [
    "generos.head()"
   ]
  },
  {
   "cell_type": "code",
   "execution_count": 72,
   "metadata": {},
   "outputs": [],
   "source": [
    "generos.drop(\n",
    "    columns='id', \n",
    "    inplace=True\n",
    "    )"
   ]
  },
  {
   "cell_type": "code",
   "execution_count": 73,
   "metadata": {},
   "outputs": [
    {
     "data": {
      "text/plain": [
       "Index(['name', 'movie_id'], dtype='object')"
      ]
     },
     "execution_count": 73,
     "metadata": {},
     "output_type": "execute_result"
    }
   ],
   "source": [
    "generos.columns"
   ]
  },
  {
   "cell_type": "code",
   "execution_count": 74,
   "metadata": {},
   "outputs": [],
   "source": [
    "generos.rename(\n",
    "    columns={'name': 'genre'}, \n",
    "    inplace=True\n",
    "    )"
   ]
  },
  {
   "cell_type": "code",
   "execution_count": 75,
   "metadata": {},
   "outputs": [
    {
     "name": "stdout",
     "output_type": "stream",
     "text": [
      "<class 'pandas.core.frame.DataFrame'>\n",
      "RangeIndex: 91106 entries, 0 to 91105\n",
      "Data columns (total 2 columns):\n",
      " #   Column    Non-Null Count  Dtype \n",
      "---  ------    --------------  ----- \n",
      " 0   genre     91106 non-null  object\n",
      " 1   movie_id  91106 non-null  object\n",
      "dtypes: object(2)\n",
      "memory usage: 1.4+ MB\n"
     ]
    }
   ],
   "source": [
    "generos.info()"
   ]
  },
  {
   "cell_type": "code",
   "execution_count": 76,
   "metadata": {},
   "outputs": [],
   "source": [
    "generos_por_pelicula = (\n",
    "    generos\n",
    "    .groupby('movie_id')\n",
    "    .agg(lambda genre: tuple(genre))\n",
    "    .reset_index()\n",
    "    )"
   ]
  },
  {
   "cell_type": "code",
   "execution_count": 77,
   "metadata": {},
   "outputs": [],
   "source": [
    "del generos"
   ]
  },
  {
   "cell_type": "code",
   "execution_count": 78,
   "metadata": {},
   "outputs": [
    {
     "data": {
      "text/html": [
       "<div>\n",
       "<style scoped>\n",
       "    .dataframe tbody tr th:only-of-type {\n",
       "        vertical-align: middle;\n",
       "    }\n",
       "\n",
       "    .dataframe tbody tr th {\n",
       "        vertical-align: top;\n",
       "    }\n",
       "\n",
       "    .dataframe thead th {\n",
       "        text-align: right;\n",
       "    }\n",
       "</style>\n",
       "<table border=\"1\" class=\"dataframe\">\n",
       "  <thead>\n",
       "    <tr style=\"text-align: right;\">\n",
       "      <th></th>\n",
       "      <th>movie_id</th>\n",
       "      <th>genre</th>\n",
       "    </tr>\n",
       "  </thead>\n",
       "  <tbody>\n",
       "    <tr>\n",
       "      <th>0</th>\n",
       "      <td>100</td>\n",
       "      <td>(Comedy, Crime)</td>\n",
       "    </tr>\n",
       "    <tr>\n",
       "      <th>1</th>\n",
       "      <td>10000</td>\n",
       "      <td>(Comedy, Drama)</td>\n",
       "    </tr>\n",
       "    <tr>\n",
       "      <th>2</th>\n",
       "      <td>10001</td>\n",
       "      <td>(Comedy, Science Fiction)</td>\n",
       "    </tr>\n",
       "    <tr>\n",
       "      <th>3</th>\n",
       "      <td>100010</td>\n",
       "      <td>(Drama, War)</td>\n",
       "    </tr>\n",
       "    <tr>\n",
       "      <th>4</th>\n",
       "      <td>100017</td>\n",
       "      <td>(Drama,)</td>\n",
       "    </tr>\n",
       "  </tbody>\n",
       "</table>\n",
       "</div>"
      ],
      "text/plain": [
       "  movie_id                      genre\n",
       "0      100            (Comedy, Crime)\n",
       "1    10000            (Comedy, Drama)\n",
       "2    10001  (Comedy, Science Fiction)\n",
       "3   100010               (Drama, War)\n",
       "4   100017                   (Drama,)"
      ]
     },
     "execution_count": 78,
     "metadata": {},
     "output_type": "execute_result"
    }
   ],
   "source": [
    "generos_por_pelicula.head()"
   ]
  },
  {
   "cell_type": "code",
   "execution_count": 79,
   "metadata": {},
   "outputs": [],
   "source": [
    "generos_por_pelicula['genre'] = (\n",
    "    generos_por_pelicula['genre']\n",
    "    .apply(lambda x: json.dumps(x)))"
   ]
  },
  {
   "cell_type": "code",
   "execution_count": 80,
   "metadata": {},
   "outputs": [
    {
     "name": "stdout",
     "output_type": "stream",
     "text": [
      "<class 'pandas.core.frame.DataFrame'>\n",
      "RangeIndex: 42994 entries, 0 to 42993\n",
      "Data columns (total 2 columns):\n",
      " #   Column    Non-Null Count  Dtype \n",
      "---  ------    --------------  ----- \n",
      " 0   movie_id  42994 non-null  object\n",
      " 1   genre     42994 non-null  object\n",
      "dtypes: object(2)\n",
      "memory usage: 671.9+ KB\n"
     ]
    }
   ],
   "source": [
    "generos_por_pelicula.info()"
   ]
  },
  {
   "cell_type": "code",
   "execution_count": 81,
   "metadata": {},
   "outputs": [],
   "source": [
    "movies = pd.merge(\n",
    "    movies_recortado, \n",
    "    generos_por_pelicula, \n",
    "    how='inner', \n",
    "    on='movie_id'\n",
    "    )"
   ]
  },
  {
   "cell_type": "code",
   "execution_count": 82,
   "metadata": {},
   "outputs": [],
   "source": [
    "del movies_recortado\n",
    "del generos_por_pelicula"
   ]
  },
  {
   "cell_type": "code",
   "execution_count": 83,
   "metadata": {},
   "outputs": [
    {
     "data": {
      "text/plain": [
       "budget                                                        30000000\n",
       "movie_id                                                           862\n",
       "original_language                                                   en\n",
       "overview             Led by Woody, Andy's toys live happily in his ...\n",
       "popularity                                                   21.946943\n",
       "release_date                                                1995-10-30\n",
       "revenue                                                      373554033\n",
       "runtime                                                           81.0\n",
       "status                                                        Released\n",
       "tagline                                                           None\n",
       "title                                                        Toy Story\n",
       "vote_average                                                       7.7\n",
       "vote_count                                                        5415\n",
       "genre                                [\"Animation\", \"Comedy\", \"Family\"]\n",
       "Name: 0, dtype: object"
      ]
     },
     "execution_count": 83,
     "metadata": {},
     "output_type": "execute_result"
    }
   ],
   "source": [
    "movies.iloc[0]"
   ]
  },
  {
   "cell_type": "code",
   "execution_count": 84,
   "metadata": {},
   "outputs": [
    {
     "name": "stdout",
     "output_type": "stream",
     "text": [
      "<class 'pandas.core.frame.DataFrame'>\n",
      "Int64Index: 43024 entries, 0 to 43023\n",
      "Data columns (total 14 columns):\n",
      " #   Column             Non-Null Count  Dtype \n",
      "---  ------             --------------  ----- \n",
      " 0   budget             43024 non-null  object\n",
      " 1   movie_id           43024 non-null  object\n",
      " 2   original_language  43014 non-null  object\n",
      " 3   overview           42327 non-null  object\n",
      " 4   popularity         43019 non-null  object\n",
      " 5   release_date       42995 non-null  object\n",
      " 6   revenue            43018 non-null  object\n",
      " 7   runtime            42839 non-null  object\n",
      " 8   status             42967 non-null  object\n",
      " 9   tagline            20146 non-null  object\n",
      " 10  title              43018 non-null  object\n",
      " 11  vote_average       43018 non-null  object\n",
      " 12  vote_count         43018 non-null  object\n",
      " 13  genre              43024 non-null  object\n",
      "dtypes: object(14)\n",
      "memory usage: 4.9+ MB\n"
     ]
    }
   ],
   "source": [
    "movies.info()"
   ]
  },
  {
   "cell_type": "code",
   "execution_count": 85,
   "metadata": {},
   "outputs": [],
   "source": [
    "movies.dropna(\n",
    "    subset='release_date', \n",
    "    inplace=True\n",
    "    )"
   ]
  },
  {
   "cell_type": "code",
   "execution_count": 86,
   "metadata": {},
   "outputs": [
    {
     "name": "stdout",
     "output_type": "stream",
     "text": [
      "<class 'pandas.core.frame.DataFrame'>\n",
      "Int64Index: 42995 entries, 0 to 43023\n",
      "Data columns (total 14 columns):\n",
      " #   Column             Non-Null Count  Dtype \n",
      "---  ------             --------------  ----- \n",
      " 0   budget             42995 non-null  object\n",
      " 1   movie_id           42995 non-null  object\n",
      " 2   original_language  42985 non-null  object\n",
      " 3   overview           42301 non-null  object\n",
      " 4   popularity         42993 non-null  object\n",
      " 5   release_date       42995 non-null  object\n",
      " 6   revenue            42992 non-null  object\n",
      " 7   runtime            42816 non-null  object\n",
      " 8   status             42942 non-null  object\n",
      " 9   tagline            20138 non-null  object\n",
      " 10  title              42992 non-null  object\n",
      " 11  vote_average       42992 non-null  object\n",
      " 12  vote_count         42992 non-null  object\n",
      " 13  genre              42995 non-null  object\n",
      "dtypes: object(14)\n",
      "memory usage: 4.9+ MB\n"
     ]
    }
   ],
   "source": [
    "movies.info()"
   ]
  },
  {
   "cell_type": "code",
   "execution_count": 87,
   "metadata": {},
   "outputs": [],
   "source": [
    "movies.dropna(\n",
    "    subset='title', \n",
    "    inplace=True\n",
    "    )"
   ]
  },
  {
   "cell_type": "code",
   "execution_count": 88,
   "metadata": {},
   "outputs": [
    {
     "name": "stdout",
     "output_type": "stream",
     "text": [
      "<class 'pandas.core.frame.DataFrame'>\n",
      "Int64Index: 42992 entries, 0 to 43023\n",
      "Data columns (total 14 columns):\n",
      " #   Column             Non-Null Count  Dtype \n",
      "---  ------             --------------  ----- \n",
      " 0   budget             42992 non-null  object\n",
      " 1   movie_id           42992 non-null  object\n",
      " 2   original_language  42982 non-null  object\n",
      " 3   overview           42298 non-null  object\n",
      " 4   popularity         42992 non-null  object\n",
      " 5   release_date       42992 non-null  object\n",
      " 6   revenue            42992 non-null  object\n",
      " 7   runtime            42816 non-null  object\n",
      " 8   status             42942 non-null  object\n",
      " 9   tagline            20138 non-null  object\n",
      " 10  title              42992 non-null  object\n",
      " 11  vote_average       42992 non-null  object\n",
      " 12  vote_count         42992 non-null  object\n",
      " 13  genre              42992 non-null  object\n",
      "dtypes: object(14)\n",
      "memory usage: 4.9+ MB\n"
     ]
    }
   ],
   "source": [
    "movies.info()"
   ]
  },
  {
   "cell_type": "code",
   "execution_count": 89,
   "metadata": {},
   "outputs": [],
   "source": [
    "movies['budget'] = (\n",
    "    movies['budget']\n",
    "    .astype('int64')\n",
    "    )\n",
    "\n",
    "movies['popularity'] = (\n",
    "    movies['popularity']\n",
    "    .astype('float64')\n",
    "    )\n",
    "\n",
    "movies['revenue'] = (\n",
    "    movies['revenue']\n",
    "    .astype('int64')\n",
    "    )\n",
    "\n",
    "movies['runtime'] = (\n",
    "    movies['runtime']\n",
    "    .astype('float64')\n",
    "    )\n",
    "\n",
    "movies['vote_average'] = (\n",
    "    movies['vote_average']\n",
    "    .astype('float64')\n",
    "    )\n",
    "\n",
    "movies['vote_count'] = (\n",
    "    movies['vote_count']\n",
    "    .astype('int64')\n",
    "    )"
   ]
  },
  {
   "cell_type": "code",
   "execution_count": 90,
   "metadata": {},
   "outputs": [
    {
     "name": "stdout",
     "output_type": "stream",
     "text": [
      "<class 'pandas.core.frame.DataFrame'>\n",
      "Int64Index: 42992 entries, 0 to 43023\n",
      "Data columns (total 14 columns):\n",
      " #   Column             Non-Null Count  Dtype  \n",
      "---  ------             --------------  -----  \n",
      " 0   budget             42992 non-null  int64  \n",
      " 1   movie_id           42992 non-null  object \n",
      " 2   original_language  42982 non-null  object \n",
      " 3   overview           42298 non-null  object \n",
      " 4   popularity         42992 non-null  float64\n",
      " 5   release_date       42992 non-null  object \n",
      " 6   revenue            42992 non-null  int64  \n",
      " 7   runtime            42816 non-null  float64\n",
      " 8   status             42942 non-null  object \n",
      " 9   tagline            20138 non-null  object \n",
      " 10  title              42992 non-null  object \n",
      " 11  vote_average       42992 non-null  float64\n",
      " 12  vote_count         42992 non-null  int64  \n",
      " 13  genre              42992 non-null  object \n",
      "dtypes: float64(3), int64(3), object(8)\n",
      "memory usage: 4.9+ MB\n"
     ]
    }
   ],
   "source": [
    "movies.info()"
   ]
  },
  {
   "cell_type": "code",
   "execution_count": 91,
   "metadata": {},
   "outputs": [],
   "source": [
    "movies.reset_index(\n",
    "    drop=True, \n",
    "    inplace=True\n",
    "    )"
   ]
  },
  {
   "cell_type": "code",
   "execution_count": 92,
   "metadata": {},
   "outputs": [
    {
     "name": "stdout",
     "output_type": "stream",
     "text": [
      "<class 'pandas.core.frame.DataFrame'>\n",
      "RangeIndex: 42992 entries, 0 to 42991\n",
      "Data columns (total 14 columns):\n",
      " #   Column             Non-Null Count  Dtype  \n",
      "---  ------             --------------  -----  \n",
      " 0   budget             42992 non-null  int64  \n",
      " 1   movie_id           42992 non-null  object \n",
      " 2   original_language  42982 non-null  object \n",
      " 3   overview           42298 non-null  object \n",
      " 4   popularity         42992 non-null  float64\n",
      " 5   release_date       42992 non-null  object \n",
      " 6   revenue            42992 non-null  int64  \n",
      " 7   runtime            42816 non-null  float64\n",
      " 8   status             42942 non-null  object \n",
      " 9   tagline            20138 non-null  object \n",
      " 10  title              42992 non-null  object \n",
      " 11  vote_average       42992 non-null  float64\n",
      " 12  vote_count         42992 non-null  int64  \n",
      " 13  genre              42992 non-null  object \n",
      "dtypes: float64(3), int64(3), object(8)\n",
      "memory usage: 4.6+ MB\n"
     ]
    }
   ],
   "source": [
    "movies.info()"
   ]
  },
  {
   "cell_type": "code",
   "execution_count": 93,
   "metadata": {},
   "outputs": [
    {
     "data": {
      "text/plain": [
       "0"
      ]
     },
     "execution_count": 93,
     "metadata": {},
     "output_type": "execute_result"
    }
   ],
   "source": [
    "movies['budget'].isnull().sum()"
   ]
  },
  {
   "cell_type": "code",
   "execution_count": 94,
   "metadata": {},
   "outputs": [
    {
     "data": {
      "text/plain": [
       "0"
      ]
     },
     "execution_count": 94,
     "metadata": {},
     "output_type": "execute_result"
    }
   ],
   "source": [
    "movies['revenue'].isnull().sum()"
   ]
  },
  {
   "cell_type": "code",
   "execution_count": 95,
   "metadata": {},
   "outputs": [],
   "source": [
    "movies['revenue'] = (\n",
    "    movies['revenue']\n",
    "    .fillna(0)\n",
    "    )\n",
    "\n",
    "movies['budget'] = (\n",
    "    movies['budget']\n",
    "    .fillna(0)\n",
    "    )"
   ]
  },
  {
   "cell_type": "code",
   "execution_count": 96,
   "metadata": {},
   "outputs": [],
   "source": [
    "movies['release_year'] = (\n",
    "    movies['release_date']\n",
    "    .astype('datetime64[ns]')\n",
    "    .dt\n",
    "    .year\n",
    "    .astype(str)\n",
    "    )"
   ]
  },
  {
   "cell_type": "code",
   "execution_count": 97,
   "metadata": {},
   "outputs": [
    {
     "data": {
      "text/plain": [
       "'1995-10-30'"
      ]
     },
     "execution_count": 97,
     "metadata": {},
     "output_type": "execute_result"
    }
   ],
   "source": [
    "movies.iloc[0]['release_date']"
   ]
  },
  {
   "cell_type": "code",
   "execution_count": 98,
   "metadata": {},
   "outputs": [
    {
     "data": {
      "text/plain": [
       "'1995'"
      ]
     },
     "execution_count": 98,
     "metadata": {},
     "output_type": "execute_result"
    }
   ],
   "source": [
    "movies.iloc[0]['release_year']"
   ]
  },
  {
   "cell_type": "code",
   "execution_count": 99,
   "metadata": {},
   "outputs": [
    {
     "name": "stdout",
     "output_type": "stream",
     "text": [
      "<class 'pandas.core.frame.DataFrame'>\n",
      "RangeIndex: 42992 entries, 0 to 42991\n",
      "Data columns (total 15 columns):\n",
      " #   Column             Non-Null Count  Dtype  \n",
      "---  ------             --------------  -----  \n",
      " 0   budget             42992 non-null  int64  \n",
      " 1   movie_id           42992 non-null  object \n",
      " 2   original_language  42982 non-null  object \n",
      " 3   overview           42298 non-null  object \n",
      " 4   popularity         42992 non-null  float64\n",
      " 5   release_date       42992 non-null  object \n",
      " 6   revenue            42992 non-null  int64  \n",
      " 7   runtime            42816 non-null  float64\n",
      " 8   status             42942 non-null  object \n",
      " 9   tagline            20138 non-null  object \n",
      " 10  title              42992 non-null  object \n",
      " 11  vote_average       42992 non-null  float64\n",
      " 12  vote_count         42992 non-null  int64  \n",
      " 13  genre              42992 non-null  object \n",
      " 14  release_year       42992 non-null  object \n",
      "dtypes: float64(3), int64(3), object(9)\n",
      "memory usage: 4.9+ MB\n"
     ]
    }
   ],
   "source": [
    "movies.info()"
   ]
  },
  {
   "cell_type": "code",
   "execution_count": 100,
   "metadata": {},
   "outputs": [],
   "source": [
    "return_movie = (\n",
    "    lambda row: \n",
    "        row['revenue'] / row['budget'] \n",
    "    if row['revenue'] > 0 \n",
    "    and row['budget'] > 0 \n",
    "    else 0\n",
    "    )\n",
    "\n",
    "movies['return'] = (\n",
    "    movies\n",
    "    .apply(return_movie, \n",
    "           axis=1)\n",
    "    .round(2)\n",
    "    )"
   ]
  },
  {
   "cell_type": "code",
   "execution_count": 101,
   "metadata": {},
   "outputs": [
    {
     "data": {
      "text/plain": [
       "5308"
      ]
     },
     "execution_count": 101,
     "metadata": {},
     "output_type": "execute_result"
    }
   ],
   "source": [
    "con_retorno = (movies['return'] != 0).sum()\n",
    "con_retorno"
   ]
  },
  {
   "cell_type": "code",
   "execution_count": 102,
   "metadata": {},
   "outputs": [
    {
     "data": {
      "text/plain": [
       "37684"
      ]
     },
     "execution_count": 102,
     "metadata": {},
     "output_type": "execute_result"
    }
   ],
   "source": [
    "sin_retorno = (movies['return'] == 0).sum()\n",
    "sin_retorno"
   ]
  },
  {
   "cell_type": "code",
   "execution_count": 103,
   "metadata": {},
   "outputs": [
    {
     "data": {
      "text/plain": [
       "42992"
      ]
     },
     "execution_count": 103,
     "metadata": {},
     "output_type": "execute_result"
    }
   ],
   "source": [
    "con_retorno + sin_retorno"
   ]
  },
  {
   "cell_type": "code",
   "execution_count": 104,
   "metadata": {},
   "outputs": [
    {
     "data": {
      "text/plain": [
       "'c:\\\\Users\\\\franc\\\\Desktop\\\\Proyecto_Peliculas\\\\notebooks\\\\ETL'"
      ]
     },
     "execution_count": 104,
     "metadata": {},
     "output_type": "execute_result"
    }
   ],
   "source": [
    "current_dir = os.getcwd()\n",
    "\n",
    "current_dir"
   ]
  },
  {
   "cell_type": "code",
   "execution_count": 105,
   "metadata": {},
   "outputs": [
    {
     "data": {
      "text/plain": [
       "'c:\\\\Users\\\\franc\\\\Desktop\\\\Proyecto_Peliculas'"
      ]
     },
     "execution_count": 105,
     "metadata": {},
     "output_type": "execute_result"
    }
   ],
   "source": [
    "base_dir = (\n",
    "    os.path.dirname(\n",
    "        os.path.dirname(\n",
    "            current_dir\n",
    "            )))\n",
    "\n",
    "base_dir"
   ]
  },
  {
   "cell_type": "code",
   "execution_count": 106,
   "metadata": {},
   "outputs": [
    {
     "data": {
      "text/plain": [
       "'c:\\\\Users\\\\franc\\\\Desktop\\\\Proyecto_Peliculas\\\\data\\\\ETL\\\\movies.parquet'"
      ]
     },
     "execution_count": 106,
     "metadata": {},
     "output_type": "execute_result"
    }
   ],
   "source": [
    "file_path = (\n",
    "    os.path.join(\n",
    "        base_dir, \n",
    "        'data', \n",
    "        'ETL', \n",
    "        'movies.parquet'\n",
    "        ))\n",
    "\n",
    "file_path"
   ]
  },
  {
   "cell_type": "code",
   "execution_count": 107,
   "metadata": {},
   "outputs": [],
   "source": [
    "movies.to_parquet(file_path)"
   ]
  },
  {
   "cell_type": "code",
   "execution_count": null,
   "metadata": {},
   "outputs": [],
   "source": [
    "del movies"
   ]
  }
 ],
 "metadata": {
  "kernelspec": {
   "display_name": "venv",
   "language": "python",
   "name": "python3"
  },
  "language_info": {
   "codemirror_mode": {
    "name": "ipython",
    "version": 3
   },
   "file_extension": ".py",
   "mimetype": "text/x-python",
   "name": "python",
   "nbconvert_exporter": "python",
   "pygments_lexer": "ipython3",
   "version": "3.11.9"
  }
 },
 "nbformat": 4,
 "nbformat_minor": 2
}
