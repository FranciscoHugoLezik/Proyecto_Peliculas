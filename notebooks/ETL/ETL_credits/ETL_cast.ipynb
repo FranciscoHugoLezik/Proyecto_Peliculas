{
 "cells": [
  {
   "cell_type": "markdown",
   "metadata": {},
   "source": [
    "Importo las librerias necesarias primero:\n",
    "\n",
    "pandas para manipular dataframes.\n",
    "\n",
    "ast para poder convertir un objeto de tipo str con forma de lista de diccionarios en un objeto de tipo de lista de diccionario.\n",
    "\n",
    "os para exportar con ruta absulota."
   ]
  },
  {
   "cell_type": "code",
   "execution_count": 1,
   "metadata": {},
   "outputs": [],
   "source": [
    "import pandas as pd\n",
    "import ast\n",
    "import os"
   ]
  },
  {
   "cell_type": "markdown",
   "metadata": {},
   "source": [
    "Importo l"
   ]
  },
  {
   "cell_type": "code",
   "execution_count": 2,
   "metadata": {},
   "outputs": [],
   "source": [
    "url = \"https://github.com/FranciscoHugoLezik/Movies_data/blob/main/credits/cast_id.parquet?raw=true\"\n",
    "cast_id_df = pd.read_parquet(url, engine='fastparquet')"
   ]
  },
  {
   "cell_type": "code",
   "execution_count": 3,
   "metadata": {},
   "outputs": [
    {
     "data": {
      "text/plain": [
       "cast    [{'cast_id': 14, 'character': 'Woody (voice)',...\n",
       "id                                                    862\n",
       "Name: 0, dtype: object"
      ]
     },
     "execution_count": 3,
     "metadata": {},
     "output_type": "execute_result"
    }
   ],
   "source": [
    "cast_id_df.iloc[0]"
   ]
  },
  {
   "cell_type": "code",
   "execution_count": 4,
   "metadata": {},
   "outputs": [],
   "source": [
    "cast_id_df = cast_id_df.rename(columns={'id': 'movie_id'})"
   ]
  },
  {
   "cell_type": "code",
   "execution_count": 5,
   "metadata": {},
   "outputs": [
    {
     "name": "stdout",
     "output_type": "stream",
     "text": [
      "<class 'pandas.core.frame.DataFrame'>\n",
      "RangeIndex: 45476 entries, 0 to 45475\n",
      "Data columns (total 2 columns):\n",
      " #   Column    Non-Null Count  Dtype \n",
      "---  ------    --------------  ----- \n",
      " 0   cast      45476 non-null  object\n",
      " 1   movie_id  45476 non-null  int64 \n",
      "dtypes: int64(1), object(1)\n",
      "memory usage: 710.7+ KB\n"
     ]
    }
   ],
   "source": [
    "cast_id_df.info()"
   ]
  },
  {
   "cell_type": "code",
   "execution_count": 6,
   "metadata": {},
   "outputs": [],
   "source": [
    "cast_id_list_dict = [\n",
    "    {**cast_member, 'movie_id': row['movie_id']}\n",
    "    for _, row in cast_id_df.iterrows()\n",
    "    for cast_member in ast.literal_eval(row['cast'])\n",
    "]\n",
    "\n",
    "cast_id_modified_df = pd.DataFrame(cast_id_list_dict)"
   ]
  },
  {
   "cell_type": "code",
   "execution_count": 7,
   "metadata": {},
   "outputs": [
    {
     "name": "stdout",
     "output_type": "stream",
     "text": [
      "<class 'pandas.core.frame.DataFrame'>\n",
      "RangeIndex: 562474 entries, 0 to 562473\n",
      "Data columns (total 9 columns):\n",
      " #   Column        Non-Null Count   Dtype \n",
      "---  ------        --------------   ----- \n",
      " 0   cast_id       562474 non-null  int64 \n",
      " 1   character     562474 non-null  object\n",
      " 2   credit_id     562474 non-null  object\n",
      " 3   gender        562474 non-null  int64 \n",
      " 4   id            562474 non-null  int64 \n",
      " 5   name          562474 non-null  object\n",
      " 6   order         562474 non-null  int64 \n",
      " 7   profile_path  388618 non-null  object\n",
      " 8   movie_id      562474 non-null  int64 \n",
      "dtypes: int64(5), object(4)\n",
      "memory usage: 38.6+ MB\n"
     ]
    }
   ],
   "source": [
    "cast_id_modified_df.info()"
   ]
  },
  {
   "cell_type": "code",
   "execution_count": 8,
   "metadata": {},
   "outputs": [],
   "source": [
    "cast_id_modified_df['cast_id'] = cast_id_modified_df['cast_id'].astype(str)\n",
    "cast_id_modified_df['gender'] = cast_id_modified_df['gender'].astype(str)\n",
    "cast_id_modified_df['id'] = cast_id_modified_df['id'].astype(str)\n",
    "cast_id_modified_df['order'] = cast_id_modified_df['order'].astype(str)\n",
    "cast_id_modified_df['movie_id'] = cast_id_modified_df['movie_id'].astype(str)"
   ]
  },
  {
   "cell_type": "code",
   "execution_count": 9,
   "metadata": {},
   "outputs": [
    {
     "name": "stdout",
     "output_type": "stream",
     "text": [
      "<class 'pandas.core.frame.DataFrame'>\n",
      "RangeIndex: 562474 entries, 0 to 562473\n",
      "Data columns (total 9 columns):\n",
      " #   Column        Non-Null Count   Dtype \n",
      "---  ------        --------------   ----- \n",
      " 0   cast_id       562474 non-null  object\n",
      " 1   character     562474 non-null  object\n",
      " 2   credit_id     562474 non-null  object\n",
      " 3   gender        562474 non-null  object\n",
      " 4   id            562474 non-null  object\n",
      " 5   name          562474 non-null  object\n",
      " 6   order         562474 non-null  object\n",
      " 7   profile_path  388618 non-null  object\n",
      " 8   movie_id      562474 non-null  object\n",
      "dtypes: object(9)\n",
      "memory usage: 38.6+ MB\n"
     ]
    }
   ],
   "source": [
    "cast_id_modified_df.info()"
   ]
  },
  {
   "cell_type": "code",
   "execution_count": 10,
   "metadata": {},
   "outputs": [],
   "source": [
    "current_dir = os.getcwd()\n",
    "base_dir = os.path.dirname(os.path.dirname(current_dir))\n",
    "file_path = os.path.join(base_dir, 'data', 'credits', 'cast_ETL.parquet')"
   ]
  },
  {
   "cell_type": "code",
   "execution_count": 11,
   "metadata": {},
   "outputs": [],
   "source": [
    "cast_id_modified_df.to_parquet(file_path)"
   ]
  }
 ],
 "metadata": {
  "kernelspec": {
   "display_name": "venv",
   "language": "python",
   "name": "python3"
  },
  "language_info": {
   "codemirror_mode": {
    "name": "ipython",
    "version": 3
   },
   "file_extension": ".py",
   "mimetype": "text/x-python",
   "name": "python",
   "nbconvert_exporter": "python",
   "pygments_lexer": "ipython3",
   "version": "3.8.10"
  }
 },
 "nbformat": 4,
 "nbformat_minor": 2
}
