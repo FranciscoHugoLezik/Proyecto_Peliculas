{
 "cells": [
  {
   "cell_type": "markdown",
   "metadata": {},
   "source": [
    "### ETL del archivo en crudo `crew.parquet`"
   ]
  },
  {
   "cell_type": "code",
   "execution_count": 1,
   "metadata": {},
   "outputs": [],
   "source": [
    "import pandas as pd\n",
    "import ast\n",
    "import os"
   ]
  },
  {
   "cell_type": "code",
   "execution_count": 2,
   "metadata": {},
   "outputs": [
    {
     "data": {
      "text/plain": [
       "crew    [{'credit_id': '52fe4284c3a36847f8024f49', 'de...\n",
       "id                                                    862\n",
       "Name: 0, dtype: object"
      ]
     },
     "execution_count": 2,
     "metadata": {},
     "output_type": "execute_result"
    }
   ],
   "source": [
    "url = \"https://github.com/FranciscoHugoLezik/Movies_data/blob/main/credits/crew.parquet?raw=true\"\n",
    "\n",
    "crew = pd.read_parquet(url, \n",
    "                       engine='fastparquet')\n",
    "\n",
    "crew.iloc[0]"
   ]
  },
  {
   "cell_type": "code",
   "execution_count": 3,
   "metadata": {},
   "outputs": [
    {
     "data": {
      "text/plain": [
       "crew        [{'credit_id': '52fe4284c3a36847f8024f49', 'de...\n",
       "movie_id                                                  862\n",
       "Name: 0, dtype: object"
      ]
     },
     "execution_count": 3,
     "metadata": {},
     "output_type": "execute_result"
    }
   ],
   "source": [
    "crew.rename(columns={'id': 'movie_id'}, \n",
    "            inplace=True)\n",
    "\n",
    "crew.iloc[0]"
   ]
  },
  {
   "cell_type": "code",
   "execution_count": 4,
   "metadata": {},
   "outputs": [
    {
     "name": "stdout",
     "output_type": "stream",
     "text": [
      "<class 'pandas.core.frame.DataFrame'>\n",
      "RangeIndex: 45476 entries, 0 to 45475\n",
      "Data columns (total 2 columns):\n",
      " #   Column    Non-Null Count  Dtype \n",
      "---  ------    --------------  ----- \n",
      " 0   crew      45476 non-null  object\n",
      " 1   movie_id  45476 non-null  int64 \n",
      "dtypes: int64(1), object(1)\n",
      "memory usage: 710.7+ KB\n"
     ]
    }
   ],
   "source": [
    "crew.info()"
   ]
  },
  {
   "cell_type": "code",
   "execution_count": 5,
   "metadata": {},
   "outputs": [],
   "source": [
    "list_dict = [\n",
    "    {**member, 'movie_id': row['movie_id']}\n",
    "    for _, row in crew.iterrows()\n",
    "    for member in ast.literal_eval(row['crew'])\n",
    "]\n",
    "\n",
    "# Crear un DataFrame a partir de la lista de diccionarios\n",
    "crew = pd.DataFrame(list_dict)"
   ]
  },
  {
   "cell_type": "code",
   "execution_count": 6,
   "metadata": {},
   "outputs": [
    {
     "data": {
      "text/plain": [
       "credit_id               52fe4284c3a36847f8024f49\n",
       "department                             Directing\n",
       "gender                                         2\n",
       "id                                          7879\n",
       "job                                     Director\n",
       "name                               John Lasseter\n",
       "profile_path    /7EdqiNbr4FRjIhKHyPPdFfEEEFG.jpg\n",
       "movie_id                                     862\n",
       "Name: 0, dtype: object"
      ]
     },
     "execution_count": 6,
     "metadata": {},
     "output_type": "execute_result"
    }
   ],
   "source": [
    "crew.iloc[0]"
   ]
  },
  {
   "cell_type": "code",
   "execution_count": 7,
   "metadata": {},
   "outputs": [
    {
     "data": {
      "text/plain": [
       "credit_id               52fe4284c3a36847f8024f49\n",
       "department                             Directing\n",
       "gender                                         2\n",
       "person_id                                   7879\n",
       "job                                     Director\n",
       "name                               John Lasseter\n",
       "profile_path    /7EdqiNbr4FRjIhKHyPPdFfEEEFG.jpg\n",
       "movie_id                                     862\n",
       "Name: 0, dtype: object"
      ]
     },
     "execution_count": 7,
     "metadata": {},
     "output_type": "execute_result"
    }
   ],
   "source": [
    "crew.rename(columns={'id': 'person_id'}, \n",
    "            inplace=True)\n",
    "\n",
    "crew.iloc[0]"
   ]
  },
  {
   "cell_type": "code",
   "execution_count": 8,
   "metadata": {},
   "outputs": [
    {
     "name": "stdout",
     "output_type": "stream",
     "text": [
      "<class 'pandas.core.frame.DataFrame'>\n",
      "RangeIndex: 464314 entries, 0 to 464313\n",
      "Data columns (total 8 columns):\n",
      " #   Column        Non-Null Count   Dtype \n",
      "---  ------        --------------   ----- \n",
      " 0   credit_id     464314 non-null  object\n",
      " 1   department    464314 non-null  object\n",
      " 2   gender        464314 non-null  int64 \n",
      " 3   person_id     464314 non-null  int64 \n",
      " 4   job           464314 non-null  object\n",
      " 5   name          464314 non-null  object\n",
      " 6   profile_path  95098 non-null   object\n",
      " 7   movie_id      464314 non-null  int64 \n",
      "dtypes: int64(3), object(5)\n",
      "memory usage: 28.3+ MB\n"
     ]
    }
   ],
   "source": [
    "crew.info()"
   ]
  },
  {
   "cell_type": "code",
   "execution_count": 9,
   "metadata": {},
   "outputs": [
    {
     "name": "stdout",
     "output_type": "stream",
     "text": [
      "<class 'pandas.core.frame.DataFrame'>\n",
      "RangeIndex: 464314 entries, 0 to 464313\n",
      "Data columns (total 8 columns):\n",
      " #   Column        Non-Null Count   Dtype \n",
      "---  ------        --------------   ----- \n",
      " 0   credit_id     464314 non-null  object\n",
      " 1   department    464314 non-null  object\n",
      " 2   gender        464314 non-null  object\n",
      " 3   person_id     464314 non-null  object\n",
      " 4   job           464314 non-null  object\n",
      " 5   name          464314 non-null  object\n",
      " 6   profile_path  95098 non-null   object\n",
      " 7   movie_id      464314 non-null  object\n",
      "dtypes: object(8)\n",
      "memory usage: 28.3+ MB\n"
     ]
    }
   ],
   "source": [
    "crew['gender'] = crew['gender'].astype(str)\n",
    "crew['person_id'] = crew['person_id'].astype(str)\n",
    "crew['movie_id'] = crew['movie_id'].astype(str)\n",
    "\n",
    "crew.info()"
   ]
  },
  {
   "cell_type": "code",
   "execution_count": 10,
   "metadata": {},
   "outputs": [
    {
     "data": {
      "text/plain": [
       "'c:\\\\Users\\\\franc\\\\Desktop\\\\Proyecto_Peliculas\\\\notebooks\\\\ETL\\\\credits'"
      ]
     },
     "execution_count": 10,
     "metadata": {},
     "output_type": "execute_result"
    }
   ],
   "source": [
    "current_dir = os.getcwd()\n",
    "current_dir"
   ]
  },
  {
   "cell_type": "code",
   "execution_count": 11,
   "metadata": {},
   "outputs": [
    {
     "data": {
      "text/plain": [
       "'c:\\\\Users\\\\franc\\\\Desktop\\\\Proyecto_Peliculas'"
      ]
     },
     "execution_count": 11,
     "metadata": {},
     "output_type": "execute_result"
    }
   ],
   "source": [
    "base_dir = (\n",
    "    os.path.dirname(\n",
    "        os.path.dirname(\n",
    "            os.path.dirname(\n",
    "                current_dir))))\n",
    "base_dir"
   ]
  },
  {
   "cell_type": "code",
   "execution_count": 12,
   "metadata": {},
   "outputs": [
    {
     "data": {
      "text/plain": [
       "'c:\\\\Users\\\\franc\\\\Desktop\\\\Proyecto_Peliculas\\\\data\\\\ETL_data\\\\credits\\\\crew.parquet'"
      ]
     },
     "execution_count": 12,
     "metadata": {},
     "output_type": "execute_result"
    }
   ],
   "source": [
    "file_path = os.path.join(base_dir, \n",
    "                         'data', \n",
    "                         'ETL_data', \n",
    "                         'credits', \n",
    "                         'crew.parquet')\n",
    "file_path"
   ]
  },
  {
   "cell_type": "code",
   "execution_count": 13,
   "metadata": {},
   "outputs": [],
   "source": [
    "crew.to_parquet(file_path)"
   ]
  }
 ],
 "metadata": {
  "kernelspec": {
   "display_name": "venv",
   "language": "python",
   "name": "python3"
  },
  "language_info": {
   "codemirror_mode": {
    "name": "ipython",
    "version": 3
   },
   "file_extension": ".py",
   "mimetype": "text/x-python",
   "name": "python",
   "nbconvert_exporter": "python",
   "pygments_lexer": "ipython3",
   "version": "3.11.9"
  }
 },
 "nbformat": 4,
 "nbformat_minor": 2
}
