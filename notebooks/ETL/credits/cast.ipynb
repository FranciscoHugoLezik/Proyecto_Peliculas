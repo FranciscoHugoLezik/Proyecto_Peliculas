{
 "cells": [
  {
   "cell_type": "markdown",
   "metadata": {},
   "source": [
    "### ETL del archivo en crudo `cast.parquet`"
   ]
  },
  {
   "cell_type": "code",
   "execution_count": 1,
   "metadata": {},
   "outputs": [],
   "source": [
    "import pandas as pd\n",
    "import ast\n",
    "import os"
   ]
  },
  {
   "cell_type": "code",
   "execution_count": 2,
   "metadata": {},
   "outputs": [
    {
     "data": {
      "text/plain": [
       "cast    [{'cast_id': 14, 'character': 'Woody (voice)',...\n",
       "id                                                    862\n",
       "Name: 0, dtype: object"
      ]
     },
     "execution_count": 2,
     "metadata": {},
     "output_type": "execute_result"
    }
   ],
   "source": [
    "url = \"https://github.com/FranciscoHugoLezik/Movies_data/blob/main/credits/cast.parquet?raw=true\"\n",
    "\n",
    "cast = pd.read_parquet(url, \n",
    "                       engine='fastparquet')\n",
    "\n",
    "cast.iloc[0]"
   ]
  },
  {
   "cell_type": "code",
   "execution_count": 3,
   "metadata": {},
   "outputs": [
    {
     "data": {
      "text/plain": [
       "cast        [{'cast_id': 14, 'character': 'Woody (voice)',...\n",
       "movie_id                                                  862\n",
       "Name: 0, dtype: object"
      ]
     },
     "execution_count": 3,
     "metadata": {},
     "output_type": "execute_result"
    }
   ],
   "source": [
    "cast.rename(columns={'id': 'movie_id'}, \n",
    "            inplace=True)\n",
    "\n",
    "cast.iloc[0]"
   ]
  },
  {
   "cell_type": "code",
   "execution_count": 4,
   "metadata": {},
   "outputs": [
    {
     "name": "stdout",
     "output_type": "stream",
     "text": [
      "<class 'pandas.core.frame.DataFrame'>\n",
      "RangeIndex: 45476 entries, 0 to 45475\n",
      "Data columns (total 2 columns):\n",
      " #   Column    Non-Null Count  Dtype \n",
      "---  ------    --------------  ----- \n",
      " 0   cast      45476 non-null  object\n",
      " 1   movie_id  45476 non-null  int64 \n",
      "dtypes: int64(1), object(1)\n",
      "memory usage: 710.7+ KB\n"
     ]
    }
   ],
   "source": [
    "cast.info()"
   ]
  },
  {
   "cell_type": "code",
   "execution_count": 5,
   "metadata": {},
   "outputs": [],
   "source": [
    "list_dict = [\n",
    "    {**member, 'movie_id': row['movie_id']}\n",
    "    for _, row in cast.iterrows()\n",
    "    for member in ast.literal_eval(row['cast'])\n",
    "]\n",
    "\n",
    "cast = pd.DataFrame(list_dict)"
   ]
  },
  {
   "cell_type": "code",
   "execution_count": 6,
   "metadata": {},
   "outputs": [
    {
     "data": {
      "text/plain": [
       "cast_id                                       14\n",
       "character                          Woody (voice)\n",
       "credit_id               52fe4284c3a36847f8024f95\n",
       "gender                                         2\n",
       "id                                            31\n",
       "name                                   Tom Hanks\n",
       "order                                          0\n",
       "profile_path    /pQFoyx7rp09CJTAb932F2g8Nlho.jpg\n",
       "movie_id                                     862\n",
       "Name: 0, dtype: object"
      ]
     },
     "execution_count": 6,
     "metadata": {},
     "output_type": "execute_result"
    }
   ],
   "source": [
    "cast.iloc[0]"
   ]
  },
  {
   "cell_type": "code",
   "execution_count": 7,
   "metadata": {},
   "outputs": [],
   "source": [
    "cast.rename(columns={'id': 'person_id'}, \n",
    "            inplace=True)"
   ]
  },
  {
   "cell_type": "code",
   "execution_count": 8,
   "metadata": {},
   "outputs": [
    {
     "data": {
      "text/plain": [
       "cast_id                                       14\n",
       "character                          Woody (voice)\n",
       "credit_id               52fe4284c3a36847f8024f95\n",
       "gender                                         2\n",
       "person_id                                     31\n",
       "name                                   Tom Hanks\n",
       "order                                          0\n",
       "profile_path    /pQFoyx7rp09CJTAb932F2g8Nlho.jpg\n",
       "movie_id                                     862\n",
       "Name: 0, dtype: object"
      ]
     },
     "execution_count": 8,
     "metadata": {},
     "output_type": "execute_result"
    }
   ],
   "source": [
    "cast.iloc[0]"
   ]
  },
  {
   "cell_type": "code",
   "execution_count": 9,
   "metadata": {},
   "outputs": [
    {
     "name": "stdout",
     "output_type": "stream",
     "text": [
      "<class 'pandas.core.frame.DataFrame'>\n",
      "RangeIndex: 562474 entries, 0 to 562473\n",
      "Data columns (total 9 columns):\n",
      " #   Column        Non-Null Count   Dtype \n",
      "---  ------        --------------   ----- \n",
      " 0   cast_id       562474 non-null  int64 \n",
      " 1   character     562474 non-null  object\n",
      " 2   credit_id     562474 non-null  object\n",
      " 3   gender        562474 non-null  int64 \n",
      " 4   person_id     562474 non-null  int64 \n",
      " 5   name          562474 non-null  object\n",
      " 6   order         562474 non-null  int64 \n",
      " 7   profile_path  388618 non-null  object\n",
      " 8   movie_id      562474 non-null  int64 \n",
      "dtypes: int64(5), object(4)\n",
      "memory usage: 38.6+ MB\n"
     ]
    }
   ],
   "source": [
    "cast.info()"
   ]
  },
  {
   "cell_type": "code",
   "execution_count": 10,
   "metadata": {},
   "outputs": [],
   "source": [
    "cast['cast_id'] = cast['cast_id'].astype(str)\n",
    "cast['gender'] = cast['gender'].astype(str)\n",
    "cast['person_id'] = cast['person_id'].astype(str)\n",
    "cast['order'] = cast['order'].astype(str)\n",
    "cast['movie_id'] = cast['movie_id'].astype(str)"
   ]
  },
  {
   "cell_type": "code",
   "execution_count": 11,
   "metadata": {},
   "outputs": [
    {
     "name": "stdout",
     "output_type": "stream",
     "text": [
      "<class 'pandas.core.frame.DataFrame'>\n",
      "RangeIndex: 562474 entries, 0 to 562473\n",
      "Data columns (total 9 columns):\n",
      " #   Column        Non-Null Count   Dtype \n",
      "---  ------        --------------   ----- \n",
      " 0   cast_id       562474 non-null  object\n",
      " 1   character     562474 non-null  object\n",
      " 2   credit_id     562474 non-null  object\n",
      " 3   gender        562474 non-null  object\n",
      " 4   person_id     562474 non-null  object\n",
      " 5   name          562474 non-null  object\n",
      " 6   order         562474 non-null  object\n",
      " 7   profile_path  388618 non-null  object\n",
      " 8   movie_id      562474 non-null  object\n",
      "dtypes: object(9)\n",
      "memory usage: 38.6+ MB\n"
     ]
    }
   ],
   "source": [
    "cast.info()"
   ]
  },
  {
   "cell_type": "code",
   "execution_count": 12,
   "metadata": {},
   "outputs": [
    {
     "data": {
      "text/plain": [
       "'c:\\\\Users\\\\franc\\\\Desktop\\\\Proyecto_Peliculas\\\\notebooks\\\\ETL\\\\credits'"
      ]
     },
     "execution_count": 12,
     "metadata": {},
     "output_type": "execute_result"
    }
   ],
   "source": [
    "current_dir = os.getcwd()\n",
    "current_dir"
   ]
  },
  {
   "cell_type": "code",
   "execution_count": 13,
   "metadata": {},
   "outputs": [
    {
     "data": {
      "text/plain": [
       "'c:\\\\Users\\\\franc\\\\Desktop\\\\Proyecto_Peliculas'"
      ]
     },
     "execution_count": 13,
     "metadata": {},
     "output_type": "execute_result"
    }
   ],
   "source": [
    "base_dir = (\n",
    "    os.path.dirname(\n",
    "        os.path.dirname(\n",
    "            os.path.dirname(\n",
    "                current_dir))))\n",
    "base_dir"
   ]
  },
  {
   "cell_type": "code",
   "execution_count": 14,
   "metadata": {},
   "outputs": [
    {
     "data": {
      "text/plain": [
       "'c:\\\\Users\\\\franc\\\\Desktop\\\\Proyecto_Peliculas\\\\data\\\\ETL_data\\\\credits\\\\cast.parquet'"
      ]
     },
     "execution_count": 14,
     "metadata": {},
     "output_type": "execute_result"
    }
   ],
   "source": [
    "file_path = os.path.join(base_dir, \n",
    "                         'data', \n",
    "                         'ETL_data', \n",
    "                         'credits', \n",
    "                         'cast.parquet')\n",
    "file_path"
   ]
  },
  {
   "cell_type": "code",
   "execution_count": 15,
   "metadata": {},
   "outputs": [],
   "source": [
    "cast.to_parquet(file_path)"
   ]
  }
 ],
 "metadata": {
  "kernelspec": {
   "display_name": "venv",
   "language": "python",
   "name": "python3"
  },
  "language_info": {
   "codemirror_mode": {
    "name": "ipython",
    "version": 3
   },
   "file_extension": ".py",
   "mimetype": "text/x-python",
   "name": "python",
   "nbconvert_exporter": "python",
   "pygments_lexer": "ipython3",
   "version": "3.11.9"
  }
 },
 "nbformat": 4,
 "nbformat_minor": 2
}
