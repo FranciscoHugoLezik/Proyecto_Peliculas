{
 "cells": [
  {
   "cell_type": "code",
   "execution_count": 1,
   "metadata": {},
   "outputs": [],
   "source": [
    "import pandas as pd\n",
    "import ast"
   ]
  },
  {
   "cell_type": "code",
   "execution_count": 2,
   "metadata": {},
   "outputs": [],
   "source": [
    "url = \"https://github.com/FranciscoHugoLezik/Movies_data/blob/main/movies_dataset.parquet?raw=true\"\n",
    "movies_dataset_df = pd.read_parquet(url, engine=\"fastparquet\")"
   ]
  },
  {
   "cell_type": "code",
   "execution_count": 3,
   "metadata": {},
   "outputs": [
    {
     "data": {
      "text/plain": [
       "adult                                                                False\n",
       "belongs_to_collection    {'id': 10194, 'name': 'Toy Story Collection', ...\n",
       "budget                                                            30000000\n",
       "genres                   [{'id': 16, 'name': 'Animation'}, {'id': 35, '...\n",
       "homepage                              http://toystory.disney.com/toy-story\n",
       "id                                                                     862\n",
       "imdb_id                                                          tt0114709\n",
       "original_language                                                       en\n",
       "original_title                                                   Toy Story\n",
       "overview                 Led by Woody, Andy's toys live happily in his ...\n",
       "popularity                                                       21.946943\n",
       "poster_path                               /rhIRbceoE9lR4veEXuwCC2wARtG.jpg\n",
       "production_companies        [{'name': 'Pixar Animation Studios', 'id': 3}]\n",
       "production_countries     [{'iso_3166_1': 'US', 'name': 'United States o...\n",
       "release_date                                                    1995-10-30\n",
       "revenue                                                          373554033\n",
       "runtime                                                               81.0\n",
       "spoken_languages                  [{'iso_639_1': 'en', 'name': 'English'}]\n",
       "status                                                            Released\n",
       "tagline                                                               None\n",
       "title                                                            Toy Story\n",
       "video                                                                False\n",
       "vote_average                                                           7.7\n",
       "vote_count                                                            5415\n",
       "Name: 0, dtype: object"
      ]
     },
     "execution_count": 3,
     "metadata": {},
     "output_type": "execute_result"
    }
   ],
   "source": [
    "movies_dataset_df.iloc[0]"
   ]
  },
  {
   "cell_type": "code",
   "execution_count": 4,
   "metadata": {},
   "outputs": [],
   "source": [
    "belongs_to_collection_df = movies_dataset_df[['belongs_to_collection','id']]"
   ]
  },
  {
   "cell_type": "code",
   "execution_count": 5,
   "metadata": {},
   "outputs": [],
   "source": [
    "belongs_to_collection_df = belongs_to_collection_df.rename(columns={'id': 'movie_id'})"
   ]
  },
  {
   "cell_type": "code",
   "execution_count": 6,
   "metadata": {},
   "outputs": [
    {
     "data": {
      "text/plain": [
       "\"{'id': 10194, 'name': 'Toy Story Collection', 'poster_path': '/7G9915LfUQ2lVfwMEEhDsn3kT4B.jpg', 'backdrop_path': '/9FBwqcd9IRruEDUrTdcaafOMKUq.jpg'}\""
      ]
     },
     "execution_count": 6,
     "metadata": {},
     "output_type": "execute_result"
    }
   ],
   "source": [
    "belongs_to_collection_df.iloc[0]['belongs_to_collection']"
   ]
  },
  {
   "cell_type": "code",
   "execution_count": 7,
   "metadata": {},
   "outputs": [
    {
     "name": "stdout",
     "output_type": "stream",
     "text": [
      "<class 'pandas.core.frame.DataFrame'>\n",
      "RangeIndex: 45466 entries, 0 to 45465\n",
      "Data columns (total 2 columns):\n",
      " #   Column                 Non-Null Count  Dtype \n",
      "---  ------                 --------------  ----- \n",
      " 0   belongs_to_collection  4494 non-null   object\n",
      " 1   movie_id               45466 non-null  object\n",
      "dtypes: object(2)\n",
      "memory usage: 710.5+ KB\n"
     ]
    }
   ],
   "source": [
    "belongs_to_collection_df.info()"
   ]
  },
  {
   "cell_type": "code",
   "execution_count": 8,
   "metadata": {},
   "outputs": [],
   "source": [
    "belongs_to_collection_df = belongs_to_collection_df.dropna(subset='belongs_to_collection')"
   ]
  },
  {
   "cell_type": "code",
   "execution_count": 9,
   "metadata": {},
   "outputs": [
    {
     "name": "stdout",
     "output_type": "stream",
     "text": [
      "<class 'pandas.core.frame.DataFrame'>\n",
      "Index: 4494 entries, 0 to 45382\n",
      "Data columns (total 2 columns):\n",
      " #   Column                 Non-Null Count  Dtype \n",
      "---  ------                 --------------  ----- \n",
      " 0   belongs_to_collection  4494 non-null   object\n",
      " 1   movie_id               4494 non-null   object\n",
      "dtypes: object(2)\n",
      "memory usage: 105.3+ KB\n"
     ]
    }
   ],
   "source": [
    "belongs_to_collection_df.info()"
   ]
  },
  {
   "cell_type": "code",
   "execution_count": 14,
   "metadata": {},
   "outputs": [],
   "source": [
    "# Convertir la columna de cadenas de texto a diccionarios\n",
    "belongs_to_collection_dict_series = belongs_to_collection_df['belongs_to_collection'].apply(ast.literal_eval)\n",
    "\n",
    "# Expandir la columna de diccionarios en columnas separadas\n",
    "only_belongs_to_collection_df = belongs_to_collection_dict_series.apply(pd.Series)\n",
    "\n",
    "# Concatenar el DataFrame expandido con la columna numérica original\n",
    "belongs_to_collection_modified_df = pd.concat([only_belongs_to_collection_df, belongs_to_collection_df['movie_id']], axis=1)\n"
   ]
  },
  {
   "cell_type": "code",
   "execution_count": 16,
   "metadata": {},
   "outputs": [
    {
     "name": "stdout",
     "output_type": "stream",
     "text": [
      "<class 'pandas.core.frame.DataFrame'>\n",
      "Index: 4494 entries, 0 to 45382\n",
      "Data columns (total 6 columns):\n",
      " #   Column         Non-Null Count  Dtype  \n",
      "---  ------         --------------  -----  \n",
      " 0   id             4491 non-null   float64\n",
      " 1   name           4491 non-null   object \n",
      " 2   poster_path    3948 non-null   object \n",
      " 3   backdrop_path  3263 non-null   object \n",
      " 4   0              3 non-null      float64\n",
      " 5   movie_id       4494 non-null   object \n",
      "dtypes: float64(2), object(4)\n",
      "memory usage: 245.8+ KB\n"
     ]
    }
   ],
   "source": [
    "belongs_to_collection_modified_df.info()"
   ]
  },
  {
   "cell_type": "code",
   "execution_count": 17,
   "metadata": {},
   "outputs": [],
   "source": [
    "belongs_to_collection_modified_df = belongs_to_collection_modified_df.drop(columns=[0, 'poster_path'])"
   ]
  },
  {
   "cell_type": "code",
   "execution_count": 18,
   "metadata": {},
   "outputs": [
    {
     "name": "stdout",
     "output_type": "stream",
     "text": [
      "<class 'pandas.core.frame.DataFrame'>\n",
      "Index: 4494 entries, 0 to 45382\n",
      "Data columns (total 4 columns):\n",
      " #   Column         Non-Null Count  Dtype  \n",
      "---  ------         --------------  -----  \n",
      " 0   id             4491 non-null   float64\n",
      " 1   name           4491 non-null   object \n",
      " 2   backdrop_path  3263 non-null   object \n",
      " 3   movie_id       4494 non-null   object \n",
      "dtypes: float64(1), object(3)\n",
      "memory usage: 175.5+ KB\n"
     ]
    }
   ],
   "source": [
    "belongs_to_collection_modified_df.info()"
   ]
  },
  {
   "cell_type": "code",
   "execution_count": 19,
   "metadata": {},
   "outputs": [],
   "source": [
    "belongs_to_collection_modified_df = belongs_to_collection_modified_df.dropna(subset='id')"
   ]
  },
  {
   "cell_type": "code",
   "execution_count": 20,
   "metadata": {},
   "outputs": [
    {
     "name": "stdout",
     "output_type": "stream",
     "text": [
      "<class 'pandas.core.frame.DataFrame'>\n",
      "Index: 4491 entries, 0 to 45382\n",
      "Data columns (total 4 columns):\n",
      " #   Column         Non-Null Count  Dtype  \n",
      "---  ------         --------------  -----  \n",
      " 0   id             4491 non-null   float64\n",
      " 1   name           4491 non-null   object \n",
      " 2   backdrop_path  3263 non-null   object \n",
      " 3   movie_id       4491 non-null   object \n",
      "dtypes: float64(1), object(3)\n",
      "memory usage: 175.4+ KB\n"
     ]
    }
   ],
   "source": [
    "belongs_to_collection_modified_df.info()"
   ]
  },
  {
   "cell_type": "code",
   "execution_count": 21,
   "metadata": {},
   "outputs": [],
   "source": [
    "belongs_to_collection_modified_df = belongs_to_collection_modified_df.reset_index(drop=True)"
   ]
  },
  {
   "cell_type": "code",
   "execution_count": 22,
   "metadata": {},
   "outputs": [
    {
     "name": "stdout",
     "output_type": "stream",
     "text": [
      "<class 'pandas.core.frame.DataFrame'>\n",
      "RangeIndex: 4491 entries, 0 to 4490\n",
      "Data columns (total 4 columns):\n",
      " #   Column         Non-Null Count  Dtype  \n",
      "---  ------         --------------  -----  \n",
      " 0   id             4491 non-null   float64\n",
      " 1   name           4491 non-null   object \n",
      " 2   backdrop_path  3263 non-null   object \n",
      " 3   movie_id       4491 non-null   object \n",
      "dtypes: float64(1), object(3)\n",
      "memory usage: 140.5+ KB\n"
     ]
    }
   ],
   "source": [
    "belongs_to_collection_modified_df.info()"
   ]
  },
  {
   "cell_type": "code",
   "execution_count": 23,
   "metadata": {},
   "outputs": [],
   "source": [
    "belongs_to_collection_modified_df['id'] = belongs_to_collection_modified_df['id'].astype('str')"
   ]
  },
  {
   "cell_type": "code",
   "execution_count": 24,
   "metadata": {},
   "outputs": [
    {
     "name": "stdout",
     "output_type": "stream",
     "text": [
      "<class 'pandas.core.frame.DataFrame'>\n",
      "RangeIndex: 4491 entries, 0 to 4490\n",
      "Data columns (total 4 columns):\n",
      " #   Column         Non-Null Count  Dtype \n",
      "---  ------         --------------  ----- \n",
      " 0   id             4491 non-null   object\n",
      " 1   name           4491 non-null   object\n",
      " 2   backdrop_path  3263 non-null   object\n",
      " 3   movie_id       4491 non-null   object\n",
      "dtypes: object(4)\n",
      "memory usage: 140.5+ KB\n"
     ]
    }
   ],
   "source": [
    "belongs_to_collection_modified_df.info()"
   ]
  },
  {
   "cell_type": "code",
   "execution_count": 25,
   "metadata": {},
   "outputs": [],
   "source": [
    "belongs_to_collection_modified_df.to_parquet('../data/belongs_to_collection_ETL.parquet')"
   ]
  }
 ],
 "metadata": {
  "kernelspec": {
   "display_name": "venv",
   "language": "python",
   "name": "python3"
  },
  "language_info": {
   "codemirror_mode": {
    "name": "ipython",
    "version": 3
   },
   "file_extension": ".py",
   "mimetype": "text/x-python",
   "name": "python",
   "nbconvert_exporter": "python",
   "pygments_lexer": "ipython3",
   "version": "3.8.10"
  }
 },
 "nbformat": 4,
 "nbformat_minor": 2
}
