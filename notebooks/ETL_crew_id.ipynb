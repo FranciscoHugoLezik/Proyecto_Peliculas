{
 "cells": [
  {
   "cell_type": "code",
   "execution_count": 1,
   "metadata": {},
   "outputs": [],
   "source": [
    "import pandas as pd\n",
    "import ast"
   ]
  },
  {
   "cell_type": "code",
   "execution_count": 2,
   "metadata": {},
   "outputs": [],
   "source": [
    "url = \"https://github.com/FranciscoHugoLezik/Movies_data/blob/main/credits/crew_id.parquet?raw=true\"\n",
    "crew_id_df = pd.read_parquet(url, engine='fastparquet')"
   ]
  },
  {
   "cell_type": "code",
   "execution_count": 3,
   "metadata": {},
   "outputs": [
    {
     "data": {
      "text/plain": [
       "crew    [{'credit_id': '52fe4284c3a36847f8024f49', 'de...\n",
       "id                                                    862\n",
       "Name: 0, dtype: object"
      ]
     },
     "execution_count": 3,
     "metadata": {},
     "output_type": "execute_result"
    }
   ],
   "source": [
    "crew_id_df.iloc[0]"
   ]
  },
  {
   "cell_type": "code",
   "execution_count": 4,
   "metadata": {},
   "outputs": [],
   "source": [
    "crew_id_df = crew_id_df.rename(columns={'id': 'movie_id'})"
   ]
  },
  {
   "cell_type": "code",
   "execution_count": 5,
   "metadata": {},
   "outputs": [
    {
     "name": "stdout",
     "output_type": "stream",
     "text": [
      "<class 'pandas.core.frame.DataFrame'>\n",
      "RangeIndex: 45476 entries, 0 to 45475\n",
      "Data columns (total 2 columns):\n",
      " #   Column    Non-Null Count  Dtype \n",
      "---  ------    --------------  ----- \n",
      " 0   crew      45476 non-null  object\n",
      " 1   movie_id  45476 non-null  int64 \n",
      "dtypes: int64(1), object(1)\n",
      "memory usage: 710.7+ KB\n"
     ]
    }
   ],
   "source": [
    "crew_id_df.info()"
   ]
  },
  {
   "cell_type": "code",
   "execution_count": 6,
   "metadata": {},
   "outputs": [],
   "source": [
    "crew_id_list_dict = [\n",
    "    {**crew_member, 'movie_id': row['movie_id']}\n",
    "    for _, row in crew_id_df.iterrows()\n",
    "    for crew_member in ast.literal_eval(row['crew'])\n",
    "]\n",
    "\n",
    "# Crear un DataFrame a partir de la lista de diccionarios\n",
    "crew_id_modified_df = pd.DataFrame(crew_id_list_dict)"
   ]
  },
  {
   "cell_type": "code",
   "execution_count": 7,
   "metadata": {},
   "outputs": [
    {
     "name": "stdout",
     "output_type": "stream",
     "text": [
      "<class 'pandas.core.frame.DataFrame'>\n",
      "RangeIndex: 464314 entries, 0 to 464313\n",
      "Data columns (total 8 columns):\n",
      " #   Column        Non-Null Count   Dtype \n",
      "---  ------        --------------   ----- \n",
      " 0   credit_id     464314 non-null  object\n",
      " 1   department    464314 non-null  object\n",
      " 2   gender        464314 non-null  int64 \n",
      " 3   id            464314 non-null  int64 \n",
      " 4   job           464314 non-null  object\n",
      " 5   name          464314 non-null  object\n",
      " 6   profile_path  95098 non-null   object\n",
      " 7   movie_id      464314 non-null  int64 \n",
      "dtypes: int64(3), object(5)\n",
      "memory usage: 28.3+ MB\n"
     ]
    }
   ],
   "source": [
    "crew_id_modified_df.info()"
   ]
  },
  {
   "cell_type": "code",
   "execution_count": 8,
   "metadata": {},
   "outputs": [],
   "source": [
    "crew_id_modified_df['gender'] = crew_id_modified_df['gender'].astype(str)\n",
    "crew_id_modified_df['id'] = crew_id_modified_df['id'].astype(str)\n",
    "crew_id_modified_df['movie_id'] = crew_id_modified_df['movie_id'].astype(str)"
   ]
  },
  {
   "cell_type": "code",
   "execution_count": 9,
   "metadata": {},
   "outputs": [
    {
     "name": "stdout",
     "output_type": "stream",
     "text": [
      "<class 'pandas.core.frame.DataFrame'>\n",
      "RangeIndex: 464314 entries, 0 to 464313\n",
      "Data columns (total 8 columns):\n",
      " #   Column        Non-Null Count   Dtype \n",
      "---  ------        --------------   ----- \n",
      " 0   credit_id     464314 non-null  object\n",
      " 1   department    464314 non-null  object\n",
      " 2   gender        464314 non-null  object\n",
      " 3   id            464314 non-null  object\n",
      " 4   job           464314 non-null  object\n",
      " 5   name          464314 non-null  object\n",
      " 6   profile_path  95098 non-null   object\n",
      " 7   movie_id      464314 non-null  object\n",
      "dtypes: object(8)\n",
      "memory usage: 28.3+ MB\n"
     ]
    }
   ],
   "source": [
    "crew_id_modified_df.info()"
   ]
  },
  {
   "cell_type": "code",
   "execution_count": 10,
   "metadata": {},
   "outputs": [],
   "source": [
    "crew_id_modified_df.to_parquet('../data/crew_ETL.parquet')"
   ]
  }
 ],
 "metadata": {
  "kernelspec": {
   "display_name": "venv",
   "language": "python",
   "name": "python3"
  },
  "language_info": {
   "codemirror_mode": {
    "name": "ipython",
    "version": 3
   },
   "file_extension": ".py",
   "mimetype": "text/x-python",
   "name": "python",
   "nbconvert_exporter": "python",
   "pygments_lexer": "ipython3",
   "version": "3.8.10"
  }
 },
 "nbformat": 4,
 "nbformat_minor": 2
}
