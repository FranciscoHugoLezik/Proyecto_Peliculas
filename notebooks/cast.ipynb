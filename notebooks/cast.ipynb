{
 "cells": [
  {
   "cell_type": "code",
   "execution_count": 2,
   "metadata": {},
   "outputs": [],
   "source": [
    "import pandas as pd\n",
    "import json\n",
    "import re\n",
    "import ast"
   ]
  },
  {
   "cell_type": "code",
   "execution_count": 15,
   "metadata": {},
   "outputs": [],
   "source": [
    "cast_df = pd.read_parquet('../data/movies_data/credits/cast.parquet', engine='fastparquet')"
   ]
  },
  {
   "cell_type": "code",
   "execution_count": 4,
   "metadata": {},
   "outputs": [
    {
     "data": {
      "text/plain": [
       "pandas.core.frame.DataFrame"
      ]
     },
     "execution_count": 4,
     "metadata": {},
     "output_type": "execute_result"
    }
   ],
   "source": [
    "type(cast_df)"
   ]
  },
  {
   "cell_type": "code",
   "execution_count": 5,
   "metadata": {},
   "outputs": [
    {
     "data": {
      "text/plain": [
       "(45476, 2)"
      ]
     },
     "execution_count": 5,
     "metadata": {},
     "output_type": "execute_result"
    }
   ],
   "source": [
    "cast_df.shape"
   ]
  },
  {
   "cell_type": "code",
   "execution_count": 18,
   "metadata": {},
   "outputs": [
    {
     "data": {
      "text/html": [
       "<div>\n",
       "<style scoped>\n",
       "    .dataframe tbody tr th:only-of-type {\n",
       "        vertical-align: middle;\n",
       "    }\n",
       "\n",
       "    .dataframe tbody tr th {\n",
       "        vertical-align: top;\n",
       "    }\n",
       "\n",
       "    .dataframe thead th {\n",
       "        text-align: right;\n",
       "    }\n",
       "</style>\n",
       "<table border=\"1\" class=\"dataframe\">\n",
       "  <thead>\n",
       "    <tr style=\"text-align: right;\">\n",
       "      <th></th>\n",
       "      <th>cast</th>\n",
       "      <th>id</th>\n",
       "    </tr>\n",
       "  </thead>\n",
       "  <tbody>\n",
       "    <tr>\n",
       "      <th>0</th>\n",
       "      <td>[{'cast_id': 14, 'character': 'Woody (voice)',...</td>\n",
       "      <td>862</td>\n",
       "    </tr>\n",
       "    <tr>\n",
       "      <th>1</th>\n",
       "      <td>[{'cast_id': 1, 'character': 'Alan Parrish', '...</td>\n",
       "      <td>8844</td>\n",
       "    </tr>\n",
       "    <tr>\n",
       "      <th>2</th>\n",
       "      <td>[{'cast_id': 2, 'character': 'Max Goldman', 'c...</td>\n",
       "      <td>15602</td>\n",
       "    </tr>\n",
       "    <tr>\n",
       "      <th>3</th>\n",
       "      <td>[{'cast_id': 1, 'character': \"Savannah 'Vannah...</td>\n",
       "      <td>31357</td>\n",
       "    </tr>\n",
       "    <tr>\n",
       "      <th>4</th>\n",
       "      <td>[{'cast_id': 1, 'character': 'George Banks', '...</td>\n",
       "      <td>11862</td>\n",
       "    </tr>\n",
       "  </tbody>\n",
       "</table>\n",
       "</div>"
      ],
      "text/plain": [
       "                                                cast     id\n",
       "0  [{'cast_id': 14, 'character': 'Woody (voice)',...    862\n",
       "1  [{'cast_id': 1, 'character': 'Alan Parrish', '...   8844\n",
       "2  [{'cast_id': 2, 'character': 'Max Goldman', 'c...  15602\n",
       "3  [{'cast_id': 1, 'character': \"Savannah 'Vannah...  31357\n",
       "4  [{'cast_id': 1, 'character': 'George Banks', '...  11862"
      ]
     },
     "execution_count": 18,
     "metadata": {},
     "output_type": "execute_result"
    }
   ],
   "source": [
    "cast_df.head()"
   ]
  },
  {
   "cell_type": "code",
   "execution_count": 19,
   "metadata": {},
   "outputs": [],
   "source": [
    "cast_df.rename(columns={'id': 'movie_id'}, inplace=True)"
   ]
  },
  {
   "cell_type": "code",
   "execution_count": 20,
   "metadata": {},
   "outputs": [
    {
     "data": {
      "text/html": [
       "<div>\n",
       "<style scoped>\n",
       "    .dataframe tbody tr th:only-of-type {\n",
       "        vertical-align: middle;\n",
       "    }\n",
       "\n",
       "    .dataframe tbody tr th {\n",
       "        vertical-align: top;\n",
       "    }\n",
       "\n",
       "    .dataframe thead th {\n",
       "        text-align: right;\n",
       "    }\n",
       "</style>\n",
       "<table border=\"1\" class=\"dataframe\">\n",
       "  <thead>\n",
       "    <tr style=\"text-align: right;\">\n",
       "      <th></th>\n",
       "      <th>cast</th>\n",
       "      <th>movie_id</th>\n",
       "    </tr>\n",
       "  </thead>\n",
       "  <tbody>\n",
       "    <tr>\n",
       "      <th>0</th>\n",
       "      <td>[{'cast_id': 14, 'character': 'Woody (voice)',...</td>\n",
       "      <td>862</td>\n",
       "    </tr>\n",
       "    <tr>\n",
       "      <th>1</th>\n",
       "      <td>[{'cast_id': 1, 'character': 'Alan Parrish', '...</td>\n",
       "      <td>8844</td>\n",
       "    </tr>\n",
       "    <tr>\n",
       "      <th>2</th>\n",
       "      <td>[{'cast_id': 2, 'character': 'Max Goldman', 'c...</td>\n",
       "      <td>15602</td>\n",
       "    </tr>\n",
       "    <tr>\n",
       "      <th>3</th>\n",
       "      <td>[{'cast_id': 1, 'character': \"Savannah 'Vannah...</td>\n",
       "      <td>31357</td>\n",
       "    </tr>\n",
       "    <tr>\n",
       "      <th>4</th>\n",
       "      <td>[{'cast_id': 1, 'character': 'George Banks', '...</td>\n",
       "      <td>11862</td>\n",
       "    </tr>\n",
       "  </tbody>\n",
       "</table>\n",
       "</div>"
      ],
      "text/plain": [
       "                                                cast  movie_id\n",
       "0  [{'cast_id': 14, 'character': 'Woody (voice)',...       862\n",
       "1  [{'cast_id': 1, 'character': 'Alan Parrish', '...      8844\n",
       "2  [{'cast_id': 2, 'character': 'Max Goldman', 'c...     15602\n",
       "3  [{'cast_id': 1, 'character': \"Savannah 'Vannah...     31357\n",
       "4  [{'cast_id': 1, 'character': 'George Banks', '...     11862"
      ]
     },
     "execution_count": 20,
     "metadata": {},
     "output_type": "execute_result"
    }
   ],
   "source": [
    "cast_df.head()"
   ]
  },
  {
   "cell_type": "code",
   "execution_count": 23,
   "metadata": {},
   "outputs": [
    {
     "data": {
      "text/html": [
       "<div>\n",
       "<style scoped>\n",
       "    .dataframe tbody tr th:only-of-type {\n",
       "        vertical-align: middle;\n",
       "    }\n",
       "\n",
       "    .dataframe tbody tr th {\n",
       "        vertical-align: top;\n",
       "    }\n",
       "\n",
       "    .dataframe thead th {\n",
       "        text-align: right;\n",
       "    }\n",
       "</style>\n",
       "<table border=\"1\" class=\"dataframe\">\n",
       "  <thead>\n",
       "    <tr style=\"text-align: right;\">\n",
       "      <th></th>\n",
       "      <th>cast_id</th>\n",
       "      <th>character</th>\n",
       "      <th>credit_id</th>\n",
       "      <th>gender</th>\n",
       "      <th>id</th>\n",
       "      <th>name</th>\n",
       "      <th>order</th>\n",
       "      <th>profile_path</th>\n",
       "      <th>movie_id</th>\n",
       "    </tr>\n",
       "  </thead>\n",
       "  <tbody>\n",
       "    <tr>\n",
       "      <th>0</th>\n",
       "      <td>14.0</td>\n",
       "      <td>Woody (voice)</td>\n",
       "      <td>52fe4284c3a36847f8024f95</td>\n",
       "      <td>2.0</td>\n",
       "      <td>31.0</td>\n",
       "      <td>Tom Hanks</td>\n",
       "      <td>0.0</td>\n",
       "      <td>/pQFoyx7rp09CJTAb932F2g8Nlho.jpg</td>\n",
       "      <td>862</td>\n",
       "    </tr>\n",
       "    <tr>\n",
       "      <th>1</th>\n",
       "      <td>15.0</td>\n",
       "      <td>Buzz Lightyear (voice)</td>\n",
       "      <td>52fe4284c3a36847f8024f99</td>\n",
       "      <td>2.0</td>\n",
       "      <td>12898.0</td>\n",
       "      <td>Tim Allen</td>\n",
       "      <td>1.0</td>\n",
       "      <td>/uX2xVf6pMmPepxnvFWyBtjexzgY.jpg</td>\n",
       "      <td>862</td>\n",
       "    </tr>\n",
       "    <tr>\n",
       "      <th>2</th>\n",
       "      <td>16.0</td>\n",
       "      <td>Mr. Potato Head (voice)</td>\n",
       "      <td>52fe4284c3a36847f8024f9d</td>\n",
       "      <td>2.0</td>\n",
       "      <td>7167.0</td>\n",
       "      <td>Don Rickles</td>\n",
       "      <td>2.0</td>\n",
       "      <td>/h5BcaDMPRVLHLDzbQavec4xfSdt.jpg</td>\n",
       "      <td>862</td>\n",
       "    </tr>\n",
       "    <tr>\n",
       "      <th>3</th>\n",
       "      <td>17.0</td>\n",
       "      <td>Slinky Dog (voice)</td>\n",
       "      <td>52fe4284c3a36847f8024fa1</td>\n",
       "      <td>2.0</td>\n",
       "      <td>12899.0</td>\n",
       "      <td>Jim Varney</td>\n",
       "      <td>3.0</td>\n",
       "      <td>/eIo2jVVXYgjDtaHoF19Ll9vtW7h.jpg</td>\n",
       "      <td>862</td>\n",
       "    </tr>\n",
       "    <tr>\n",
       "      <th>4</th>\n",
       "      <td>18.0</td>\n",
       "      <td>Rex (voice)</td>\n",
       "      <td>52fe4284c3a36847f8024fa5</td>\n",
       "      <td>2.0</td>\n",
       "      <td>12900.0</td>\n",
       "      <td>Wallace Shawn</td>\n",
       "      <td>4.0</td>\n",
       "      <td>/oGE6JqPP2xH4tNORKNqxbNPYi7u.jpg</td>\n",
       "      <td>862</td>\n",
       "    </tr>\n",
       "    <tr>\n",
       "      <th>...</th>\n",
       "      <td>...</td>\n",
       "      <td>...</td>\n",
       "      <td>...</td>\n",
       "      <td>...</td>\n",
       "      <td>...</td>\n",
       "      <td>...</td>\n",
       "      <td>...</td>\n",
       "      <td>...</td>\n",
       "      <td>...</td>\n",
       "    </tr>\n",
       "    <tr>\n",
       "      <th>562469</th>\n",
       "      <td>2.0</td>\n",
       "      <td></td>\n",
       "      <td>52fe4ea59251416c7515d7d5</td>\n",
       "      <td>2.0</td>\n",
       "      <td>544742.0</td>\n",
       "      <td>Iwan Mosschuchin</td>\n",
       "      <td>0.0</td>\n",
       "      <td>None</td>\n",
       "      <td>227506</td>\n",
       "    </tr>\n",
       "    <tr>\n",
       "      <th>562470</th>\n",
       "      <td>3.0</td>\n",
       "      <td></td>\n",
       "      <td>52fe4ea59251416c7515d7d9</td>\n",
       "      <td>1.0</td>\n",
       "      <td>1090923.0</td>\n",
       "      <td>Nathalie Lissenko</td>\n",
       "      <td>1.0</td>\n",
       "      <td>None</td>\n",
       "      <td>227506</td>\n",
       "    </tr>\n",
       "    <tr>\n",
       "      <th>562471</th>\n",
       "      <td>4.0</td>\n",
       "      <td></td>\n",
       "      <td>52fe4ea59251416c7515d7dd</td>\n",
       "      <td>2.0</td>\n",
       "      <td>1136422.0</td>\n",
       "      <td>Pavel Pavlov</td>\n",
       "      <td>2.0</td>\n",
       "      <td>None</td>\n",
       "      <td>227506</td>\n",
       "    </tr>\n",
       "    <tr>\n",
       "      <th>562472</th>\n",
       "      <td>5.0</td>\n",
       "      <td></td>\n",
       "      <td>52fe4ea59251416c7515d7e1</td>\n",
       "      <td>0.0</td>\n",
       "      <td>1261758.0</td>\n",
       "      <td>Aleksandr Chabrov</td>\n",
       "      <td>3.0</td>\n",
       "      <td>None</td>\n",
       "      <td>227506</td>\n",
       "    </tr>\n",
       "    <tr>\n",
       "      <th>562473</th>\n",
       "      <td>6.0</td>\n",
       "      <td></td>\n",
       "      <td>52fe4ea59251416c7515d7e5</td>\n",
       "      <td>1.0</td>\n",
       "      <td>29199.0</td>\n",
       "      <td>Vera Orlova</td>\n",
       "      <td>4.0</td>\n",
       "      <td>/n1NXVGNzNxtqsMWxLT1h8GO8Kpi.jpg</td>\n",
       "      <td>227506</td>\n",
       "    </tr>\n",
       "  </tbody>\n",
       "</table>\n",
       "<p>562474 rows × 9 columns</p>\n",
       "</div>"
      ],
      "text/plain": [
       "        cast_id                character                 credit_id  gender  \\\n",
       "0          14.0            Woody (voice)  52fe4284c3a36847f8024f95     2.0   \n",
       "1          15.0   Buzz Lightyear (voice)  52fe4284c3a36847f8024f99     2.0   \n",
       "2          16.0  Mr. Potato Head (voice)  52fe4284c3a36847f8024f9d     2.0   \n",
       "3          17.0       Slinky Dog (voice)  52fe4284c3a36847f8024fa1     2.0   \n",
       "4          18.0              Rex (voice)  52fe4284c3a36847f8024fa5     2.0   \n",
       "...         ...                      ...                       ...     ...   \n",
       "562469      2.0                           52fe4ea59251416c7515d7d5     2.0   \n",
       "562470      3.0                           52fe4ea59251416c7515d7d9     1.0   \n",
       "562471      4.0                           52fe4ea59251416c7515d7dd     2.0   \n",
       "562472      5.0                           52fe4ea59251416c7515d7e1     0.0   \n",
       "562473      6.0                           52fe4ea59251416c7515d7e5     1.0   \n",
       "\n",
       "               id               name  order                      profile_path  \\\n",
       "0            31.0          Tom Hanks    0.0  /pQFoyx7rp09CJTAb932F2g8Nlho.jpg   \n",
       "1         12898.0          Tim Allen    1.0  /uX2xVf6pMmPepxnvFWyBtjexzgY.jpg   \n",
       "2          7167.0        Don Rickles    2.0  /h5BcaDMPRVLHLDzbQavec4xfSdt.jpg   \n",
       "3         12899.0         Jim Varney    3.0  /eIo2jVVXYgjDtaHoF19Ll9vtW7h.jpg   \n",
       "4         12900.0      Wallace Shawn    4.0  /oGE6JqPP2xH4tNORKNqxbNPYi7u.jpg   \n",
       "...           ...                ...    ...                               ...   \n",
       "562469   544742.0   Iwan Mosschuchin    0.0                              None   \n",
       "562470  1090923.0  Nathalie Lissenko    1.0                              None   \n",
       "562471  1136422.0       Pavel Pavlov    2.0                              None   \n",
       "562472  1261758.0  Aleksandr Chabrov    3.0                              None   \n",
       "562473    29199.0        Vera Orlova    4.0  /n1NXVGNzNxtqsMWxLT1h8GO8Kpi.jpg   \n",
       "\n",
       "        movie_id  \n",
       "0            862  \n",
       "1            862  \n",
       "2            862  \n",
       "3            862  \n",
       "4            862  \n",
       "...          ...  \n",
       "562469    227506  \n",
       "562470    227506  \n",
       "562471    227506  \n",
       "562472    227506  \n",
       "562473    227506  \n",
       "\n",
       "[562474 rows x 9 columns]"
      ]
     },
     "execution_count": 23,
     "metadata": {},
     "output_type": "execute_result"
    }
   ],
   "source": [
    "dfs = []\n",
    "\n",
    "# Iterar sobre las filas del DataFrame original\n",
    "for index, row in cast_df.iterrows():\n",
    "    # Convertir la cadena a una lista de diccionarios\n",
    "    cast_list = ast.literal_eval(row['cast'])\n",
    "    # Crear un DataFrame temporal a partir de la lista de diccionarios\n",
    "    df_temp = pd.DataFrame(cast_list)\n",
    "    # Añadir la columna 'id' al DataFrame temporal\n",
    "    df_temp['movie_id'] = row['movie_id']\n",
    "    # Añadir el DataFrame temporal a la lista\n",
    "    dfs.append(df_temp)\n",
    "\n",
    "# Concatenar todos los DataFrames temporales en uno solo\n",
    "df_resultante = pd.concat(dfs, ignore_index=True)\n",
    "\n",
    "df_resultante"
   ]
  },
  {
   "cell_type": "code",
   "execution_count": null,
   "metadata": {},
   "outputs": [],
   "source": []
  },
  {
   "cell_type": "code",
   "execution_count": 12,
   "metadata": {},
   "outputs": [
    {
     "data": {
      "text/html": [
       "<div>\n",
       "<style scoped>\n",
       "    .dataframe tbody tr th:only-of-type {\n",
       "        vertical-align: middle;\n",
       "    }\n",
       "\n",
       "    .dataframe tbody tr th {\n",
       "        vertical-align: top;\n",
       "    }\n",
       "\n",
       "    .dataframe thead th {\n",
       "        text-align: right;\n",
       "    }\n",
       "</style>\n",
       "<table border=\"1\" class=\"dataframe\">\n",
       "  <thead>\n",
       "    <tr style=\"text-align: right;\">\n",
       "      <th></th>\n",
       "      <th>0</th>\n",
       "    </tr>\n",
       "  </thead>\n",
       "  <tbody>\n",
       "    <tr>\n",
       "      <th>0</th>\n",
       "      <td>[{'cast_id': 14, 'character': 'Woody (voice)',...</td>\n",
       "    </tr>\n",
       "    <tr>\n",
       "      <th>1</th>\n",
       "      <td>862</td>\n",
       "    </tr>\n",
       "    <tr>\n",
       "      <th>2</th>\n",
       "      <td>[{'cast_id': 1, 'character': 'Alan Parrish', '...</td>\n",
       "    </tr>\n",
       "    <tr>\n",
       "      <th>3</th>\n",
       "      <td>8844</td>\n",
       "    </tr>\n",
       "    <tr>\n",
       "      <th>4</th>\n",
       "      <td>[{'cast_id': 2, 'character': 'Max Goldman', 'c...</td>\n",
       "    </tr>\n",
       "  </tbody>\n",
       "</table>\n",
       "</div>"
      ],
      "text/plain": [
       "                                                   0\n",
       "0  [{'cast_id': 14, 'character': 'Woody (voice)',...\n",
       "1                                                862\n",
       "2  [{'cast_id': 1, 'character': 'Alan Parrish', '...\n",
       "3                                               8844\n",
       "4  [{'cast_id': 2, 'character': 'Max Goldman', 'c..."
      ]
     },
     "execution_count": 12,
     "metadata": {},
     "output_type": "execute_result"
    }
   ],
   "source": [
    "dfs = []\n",
    "\n",
    "for lista in lista_resultante:\n",
    "    df_temp = pd.DataFrame(lista)\n",
    "    dfs.append(df_temp)\n",
    "\n",
    "# Concatenar todos los DataFrames de una vez\n",
    "df_resultante = pd.concat(dfs, ignore_index=True)\n",
    "\n",
    "df_resultante.head()"
   ]
  },
  {
   "cell_type": "code",
   "execution_count": null,
   "metadata": {},
   "outputs": [],
   "source": [
    "lista_resultante_id = id_df['id'].apply(convertir_a_lista).dropna().tolist()\n",
    "len(lista_resultante_id)"
   ]
  },
  {
   "cell_type": "code",
   "execution_count": 14,
   "metadata": {},
   "outputs": [
    {
     "ename": "ValueError",
     "evalue": "No objects to concatenate",
     "output_type": "error",
     "traceback": [
      "\u001b[1;31m---------------------------------------------------------------------------\u001b[0m",
      "\u001b[1;31mValueError\u001b[0m                                Traceback (most recent call last)",
      "Cell \u001b[1;32mIn[14], line 20\u001b[0m\n\u001b[0;32m     18\u001b[0m elem_cast_temp_df \u001b[38;5;241m=\u001b[39m pd\u001b[38;5;241m.\u001b[39mDataFrame(elem_cast)\n\u001b[0;32m     19\u001b[0m elem_id_temp_df \u001b[38;5;241m=\u001b[39m pd\u001b[38;5;241m.\u001b[39mDataFrame([elem_id], columns\u001b[38;5;241m=\u001b[39m[\u001b[38;5;124m'\u001b[39m\u001b[38;5;124mid\u001b[39m\u001b[38;5;124m'\u001b[39m])\n\u001b[1;32m---> 20\u001b[0m elem_id_temp_df_repeat \u001b[38;5;241m=\u001b[39m \u001b[43mpd\u001b[49m\u001b[38;5;241;43m.\u001b[39;49m\u001b[43mconcat\u001b[49m\u001b[43m(\u001b[49m\u001b[43m[\u001b[49m\u001b[43melem_id_temp_df\u001b[49m\u001b[43m]\u001b[49m\u001b[43m \u001b[49m\u001b[38;5;241;43m*\u001b[39;49m\u001b[43m \u001b[49m\u001b[38;5;28;43mlen\u001b[39;49m\u001b[43m(\u001b[49m\u001b[43melem_cast_temp_df\u001b[49m\u001b[43m)\u001b[49m\u001b[43m,\u001b[49m\u001b[43m \u001b[49m\u001b[43mignore_index\u001b[49m\u001b[38;5;241;43m=\u001b[39;49m\u001b[38;5;28;43;01mTrue\u001b[39;49;00m\u001b[43m)\u001b[49m\n\u001b[0;32m     21\u001b[0m elem_cast_id_temp_df \u001b[38;5;241m=\u001b[39m pd\u001b[38;5;241m.\u001b[39mconcat([elem_cast_temp_df\u001b[38;5;241m.\u001b[39mreset_index(drop\u001b[38;5;241m=\u001b[39m\u001b[38;5;28;01mTrue\u001b[39;00m), elem_id_temp_df_repeat\u001b[38;5;241m.\u001b[39mreset_index(drop\u001b[38;5;241m=\u001b[39m\u001b[38;5;28;01mTrue\u001b[39;00m)], axis\u001b[38;5;241m=\u001b[39m\u001b[38;5;241m1\u001b[39m)\n\u001b[0;32m     22\u001b[0m lista_resultante \u001b[38;5;241m=\u001b[39m elem_cast_id_temp_df\u001b[38;5;241m.\u001b[39mapply(convertir_a_lista)\u001b[38;5;241m.\u001b[39mtolist()\n",
      "File \u001b[1;32mc:\\Users\\franc\\Desktop\\Proyecto_Peliculas\\venv\\Lib\\site-packages\\pandas\\core\\reshape\\concat.py:382\u001b[0m, in \u001b[0;36mconcat\u001b[1;34m(objs, axis, join, ignore_index, keys, levels, names, verify_integrity, sort, copy)\u001b[0m\n\u001b[0;32m    379\u001b[0m \u001b[38;5;28;01melif\u001b[39;00m copy \u001b[38;5;129;01mand\u001b[39;00m using_copy_on_write():\n\u001b[0;32m    380\u001b[0m     copy \u001b[38;5;241m=\u001b[39m \u001b[38;5;28;01mFalse\u001b[39;00m\n\u001b[1;32m--> 382\u001b[0m op \u001b[38;5;241m=\u001b[39m \u001b[43m_Concatenator\u001b[49m\u001b[43m(\u001b[49m\n\u001b[0;32m    383\u001b[0m \u001b[43m    \u001b[49m\u001b[43mobjs\u001b[49m\u001b[43m,\u001b[49m\n\u001b[0;32m    384\u001b[0m \u001b[43m    \u001b[49m\u001b[43maxis\u001b[49m\u001b[38;5;241;43m=\u001b[39;49m\u001b[43maxis\u001b[49m\u001b[43m,\u001b[49m\n\u001b[0;32m    385\u001b[0m \u001b[43m    \u001b[49m\u001b[43mignore_index\u001b[49m\u001b[38;5;241;43m=\u001b[39;49m\u001b[43mignore_index\u001b[49m\u001b[43m,\u001b[49m\n\u001b[0;32m    386\u001b[0m \u001b[43m    \u001b[49m\u001b[43mjoin\u001b[49m\u001b[38;5;241;43m=\u001b[39;49m\u001b[43mjoin\u001b[49m\u001b[43m,\u001b[49m\n\u001b[0;32m    387\u001b[0m \u001b[43m    \u001b[49m\u001b[43mkeys\u001b[49m\u001b[38;5;241;43m=\u001b[39;49m\u001b[43mkeys\u001b[49m\u001b[43m,\u001b[49m\n\u001b[0;32m    388\u001b[0m \u001b[43m    \u001b[49m\u001b[43mlevels\u001b[49m\u001b[38;5;241;43m=\u001b[39;49m\u001b[43mlevels\u001b[49m\u001b[43m,\u001b[49m\n\u001b[0;32m    389\u001b[0m \u001b[43m    \u001b[49m\u001b[43mnames\u001b[49m\u001b[38;5;241;43m=\u001b[39;49m\u001b[43mnames\u001b[49m\u001b[43m,\u001b[49m\n\u001b[0;32m    390\u001b[0m \u001b[43m    \u001b[49m\u001b[43mverify_integrity\u001b[49m\u001b[38;5;241;43m=\u001b[39;49m\u001b[43mverify_integrity\u001b[49m\u001b[43m,\u001b[49m\n\u001b[0;32m    391\u001b[0m \u001b[43m    \u001b[49m\u001b[43mcopy\u001b[49m\u001b[38;5;241;43m=\u001b[39;49m\u001b[43mcopy\u001b[49m\u001b[43m,\u001b[49m\n\u001b[0;32m    392\u001b[0m \u001b[43m    \u001b[49m\u001b[43msort\u001b[49m\u001b[38;5;241;43m=\u001b[39;49m\u001b[43msort\u001b[49m\u001b[43m,\u001b[49m\n\u001b[0;32m    393\u001b[0m \u001b[43m\u001b[49m\u001b[43m)\u001b[49m\n\u001b[0;32m    395\u001b[0m \u001b[38;5;28;01mreturn\u001b[39;00m op\u001b[38;5;241m.\u001b[39mget_result()\n",
      "File \u001b[1;32mc:\\Users\\franc\\Desktop\\Proyecto_Peliculas\\venv\\Lib\\site-packages\\pandas\\core\\reshape\\concat.py:445\u001b[0m, in \u001b[0;36m_Concatenator.__init__\u001b[1;34m(self, objs, axis, join, keys, levels, names, ignore_index, verify_integrity, copy, sort)\u001b[0m\n\u001b[0;32m    442\u001b[0m \u001b[38;5;28mself\u001b[39m\u001b[38;5;241m.\u001b[39mverify_integrity \u001b[38;5;241m=\u001b[39m verify_integrity\n\u001b[0;32m    443\u001b[0m \u001b[38;5;28mself\u001b[39m\u001b[38;5;241m.\u001b[39mcopy \u001b[38;5;241m=\u001b[39m copy\n\u001b[1;32m--> 445\u001b[0m objs, keys \u001b[38;5;241m=\u001b[39m \u001b[38;5;28;43mself\u001b[39;49m\u001b[38;5;241;43m.\u001b[39;49m\u001b[43m_clean_keys_and_objs\u001b[49m\u001b[43m(\u001b[49m\u001b[43mobjs\u001b[49m\u001b[43m,\u001b[49m\u001b[43m \u001b[49m\u001b[43mkeys\u001b[49m\u001b[43m)\u001b[49m\n\u001b[0;32m    447\u001b[0m \u001b[38;5;66;03m# figure out what our result ndim is going to be\u001b[39;00m\n\u001b[0;32m    448\u001b[0m ndims \u001b[38;5;241m=\u001b[39m \u001b[38;5;28mself\u001b[39m\u001b[38;5;241m.\u001b[39m_get_ndims(objs)\n",
      "File \u001b[1;32mc:\\Users\\franc\\Desktop\\Proyecto_Peliculas\\venv\\Lib\\site-packages\\pandas\\core\\reshape\\concat.py:507\u001b[0m, in \u001b[0;36m_Concatenator._clean_keys_and_objs\u001b[1;34m(self, objs, keys)\u001b[0m\n\u001b[0;32m    504\u001b[0m     objs_list \u001b[38;5;241m=\u001b[39m \u001b[38;5;28mlist\u001b[39m(objs)\n\u001b[0;32m    506\u001b[0m \u001b[38;5;28;01mif\u001b[39;00m \u001b[38;5;28mlen\u001b[39m(objs_list) \u001b[38;5;241m==\u001b[39m \u001b[38;5;241m0\u001b[39m:\n\u001b[1;32m--> 507\u001b[0m     \u001b[38;5;28;01mraise\u001b[39;00m \u001b[38;5;167;01mValueError\u001b[39;00m(\u001b[38;5;124m\"\u001b[39m\u001b[38;5;124mNo objects to concatenate\u001b[39m\u001b[38;5;124m\"\u001b[39m)\n\u001b[0;32m    509\u001b[0m \u001b[38;5;28;01mif\u001b[39;00m keys \u001b[38;5;129;01mis\u001b[39;00m \u001b[38;5;28;01mNone\u001b[39;00m:\n\u001b[0;32m    510\u001b[0m     objs_list \u001b[38;5;241m=\u001b[39m \u001b[38;5;28mlist\u001b[39m(com\u001b[38;5;241m.\u001b[39mnot_none(\u001b[38;5;241m*\u001b[39mobjs_list))\n",
      "\u001b[1;31mValueError\u001b[0m: No objects to concatenate"
     ]
    }
   ],
   "source": [
    "def convertir_a_lista(elemento):\n",
    "    try:\n",
    "        return ast.literal_eval(elemento)\n",
    "    except (ValueError, SyntaxError):\n",
    "        return None\n",
    "    \n",
    "    \n",
    "lista_resultante_cast = cast_df['cast'].apply(convertir_a_lista).tolist()\n",
    "len(lista_resultante_cast)\n",
    "\n",
    "lista_resultante_id = id_df['id'].apply(convertir_a_lista).tolist()\n",
    "len(lista_resultante_id)\n",
    "\n",
    "\n",
    "dfs = []\n",
    "\n",
    "for elem_cast, elem_id in zip(lista_resultante_cast, lista_resultante_id):\n",
    "    elem_cast_temp_df = pd.DataFrame(elem_cast)\n",
    "    elem_id_temp_df = pd.DataFrame([elem_id], columns=['id'])\n",
    "    elem_id_temp_df_repeat = pd.concat([elem_id_temp_df] * len(elem_cast_temp_df), ignore_index=True)\n",
    "    elem_cast_id_temp_df = pd.concat([elem_cast_temp_df.reset_index(drop=True), elem_id_temp_df_repeat.reset_index(drop=True)], axis=1)\n",
    "    lista_resultante = elem_cast_id_temp_df.apply(convertir_a_lista).tolist()\n",
    "    dfs.append(elem_cast_id_temp_df)\n",
    "\n",
    "# Concatenar todos los DataFrames de una vez\n",
    "df_resultante = pd.concat(dfs, ignore_index=True)\n",
    "\n",
    "\n",
    "\n",
    "df_resultante"
   ]
  },
  {
   "cell_type": "markdown",
   "metadata": {},
   "source": []
  },
  {
   "cell_type": "code",
   "execution_count": null,
   "metadata": {},
   "outputs": [],
   "source": [
    "for index_cast, row_cast in cast_df.iterrows():\n",
    "    \n",
    "    row_cast_str = row_cast[\"cast\"]\n",
    "    row_cast_str = row_cast_str.replace(\"'\",'\"')\n",
    "    row_cast_str = row_cast_str.replace(\"None\", \"null\")\n",
    "    row_cast_list = json.loads(row_cast_str)\n",
    "    row_cast_df = pd.DataFrame(row_cast_list)\n",
    "    \n",
    "    for index_id, row_id in id_df.iterrows():\n",
    "        row_id_int = row_id['id']\n",
    "        row_id_df = pd.DataFrame([row_id_int], columns=['id'])\n",
    "        row_id_df_repeat = pd.concat([row_id_df] * len(row_cast_df), ignore_index=True)\n",
    "        row_cast_id_df = pd.concat([row_cast_df.reset_index(drop=True), row_id_df_repeat.reset_index(drop=True)], axis=1)\n",
    "    \n",
    "    cast_id_df = pd.concat([cast_id_df, row_cast_id_df], axis=0, ignore_index=True)\n",
    "\n",
    "cast_id_df.head()    "
   ]
  },
  {
   "cell_type": "code",
   "execution_count": 7,
   "metadata": {},
   "outputs": [],
   "source": [
    "df_resultante = pd.DataFrame()"
   ]
  },
  {
   "cell_type": "code",
   "execution_count": 8,
   "metadata": {},
   "outputs": [
    {
     "ename": "KeyboardInterrupt",
     "evalue": "",
     "output_type": "error",
     "traceback": [
      "\u001b[1;31m---------------------------------------------------------------------------\u001b[0m",
      "\u001b[1;31mKeyboardInterrupt\u001b[0m                         Traceback (most recent call last)",
      "Cell \u001b[1;32mIn[8], line 3\u001b[0m\n\u001b[0;32m      1\u001b[0m \u001b[38;5;28;01mfor\u001b[39;00m lista \u001b[38;5;129;01min\u001b[39;00m lista_resultante:\n\u001b[0;32m      2\u001b[0m     df_temp \u001b[38;5;241m=\u001b[39m pd\u001b[38;5;241m.\u001b[39mDataFrame(lista)\n\u001b[1;32m----> 3\u001b[0m     df_resultante \u001b[38;5;241m=\u001b[39m \u001b[43mpd\u001b[49m\u001b[38;5;241;43m.\u001b[39;49m\u001b[43mconcat\u001b[49m\u001b[43m(\u001b[49m\u001b[43m[\u001b[49m\u001b[43mdf_resultante\u001b[49m\u001b[43m,\u001b[49m\u001b[43m \u001b[49m\u001b[43mdf_temp\u001b[49m\u001b[43m]\u001b[49m\u001b[43m,\u001b[49m\u001b[43m \u001b[49m\u001b[43mignore_index\u001b[49m\u001b[38;5;241;43m=\u001b[39;49m\u001b[38;5;28;43;01mTrue\u001b[39;49;00m\u001b[43m)\u001b[49m\n\u001b[0;32m      5\u001b[0m \u001b[38;5;28mprint\u001b[39m(df_resultante)\n",
      "File \u001b[1;32mc:\\Users\\franc\\Desktop\\Proyecto_Peliculas\\venv\\Lib\\site-packages\\pandas\\core\\reshape\\concat.py:395\u001b[0m, in \u001b[0;36mconcat\u001b[1;34m(objs, axis, join, ignore_index, keys, levels, names, verify_integrity, sort, copy)\u001b[0m\n\u001b[0;32m    380\u001b[0m     copy \u001b[38;5;241m=\u001b[39m \u001b[38;5;28;01mFalse\u001b[39;00m\n\u001b[0;32m    382\u001b[0m op \u001b[38;5;241m=\u001b[39m _Concatenator(\n\u001b[0;32m    383\u001b[0m     objs,\n\u001b[0;32m    384\u001b[0m     axis\u001b[38;5;241m=\u001b[39maxis,\n\u001b[1;32m   (...)\u001b[0m\n\u001b[0;32m    392\u001b[0m     sort\u001b[38;5;241m=\u001b[39msort,\n\u001b[0;32m    393\u001b[0m )\n\u001b[1;32m--> 395\u001b[0m \u001b[38;5;28;01mreturn\u001b[39;00m \u001b[43mop\u001b[49m\u001b[38;5;241;43m.\u001b[39;49m\u001b[43mget_result\u001b[49m\u001b[43m(\u001b[49m\u001b[43m)\u001b[49m\n",
      "File \u001b[1;32mc:\\Users\\franc\\Desktop\\Proyecto_Peliculas\\venv\\Lib\\site-packages\\pandas\\core\\reshape\\concat.py:684\u001b[0m, in \u001b[0;36m_Concatenator.get_result\u001b[1;34m(self)\u001b[0m\n\u001b[0;32m    680\u001b[0m             indexers[ax] \u001b[38;5;241m=\u001b[39m obj_labels\u001b[38;5;241m.\u001b[39mget_indexer(new_labels)\n\u001b[0;32m    682\u001b[0m     mgrs_indexers\u001b[38;5;241m.\u001b[39mappend((obj\u001b[38;5;241m.\u001b[39m_mgr, indexers))\n\u001b[1;32m--> 684\u001b[0m new_data \u001b[38;5;241m=\u001b[39m \u001b[43mconcatenate_managers\u001b[49m\u001b[43m(\u001b[49m\n\u001b[0;32m    685\u001b[0m \u001b[43m    \u001b[49m\u001b[43mmgrs_indexers\u001b[49m\u001b[43m,\u001b[49m\u001b[43m \u001b[49m\u001b[38;5;28;43mself\u001b[39;49m\u001b[38;5;241;43m.\u001b[39;49m\u001b[43mnew_axes\u001b[49m\u001b[43m,\u001b[49m\u001b[43m \u001b[49m\u001b[43mconcat_axis\u001b[49m\u001b[38;5;241;43m=\u001b[39;49m\u001b[38;5;28;43mself\u001b[39;49m\u001b[38;5;241;43m.\u001b[39;49m\u001b[43mbm_axis\u001b[49m\u001b[43m,\u001b[49m\u001b[43m \u001b[49m\u001b[43mcopy\u001b[49m\u001b[38;5;241;43m=\u001b[39;49m\u001b[38;5;28;43mself\u001b[39;49m\u001b[38;5;241;43m.\u001b[39;49m\u001b[43mcopy\u001b[49m\n\u001b[0;32m    686\u001b[0m \u001b[43m\u001b[49m\u001b[43m)\u001b[49m\n\u001b[0;32m    687\u001b[0m \u001b[38;5;28;01mif\u001b[39;00m \u001b[38;5;129;01mnot\u001b[39;00m \u001b[38;5;28mself\u001b[39m\u001b[38;5;241m.\u001b[39mcopy \u001b[38;5;129;01mand\u001b[39;00m \u001b[38;5;129;01mnot\u001b[39;00m using_copy_on_write():\n\u001b[0;32m    688\u001b[0m     new_data\u001b[38;5;241m.\u001b[39m_consolidate_inplace()\n",
      "File \u001b[1;32mc:\\Users\\franc\\Desktop\\Proyecto_Peliculas\\venv\\Lib\\site-packages\\pandas\\core\\internals\\concat.py:177\u001b[0m, in \u001b[0;36mconcatenate_managers\u001b[1;34m(mgrs_indexers, axes, concat_axis, copy)\u001b[0m\n\u001b[0;32m    167\u001b[0m vals \u001b[38;5;241m=\u001b[39m [ju\u001b[38;5;241m.\u001b[39mblock\u001b[38;5;241m.\u001b[39mvalues \u001b[38;5;28;01mfor\u001b[39;00m ju \u001b[38;5;129;01min\u001b[39;00m join_units]\n\u001b[0;32m    169\u001b[0m \u001b[38;5;28;01mif\u001b[39;00m \u001b[38;5;129;01mnot\u001b[39;00m blk\u001b[38;5;241m.\u001b[39mis_extension:\n\u001b[0;32m    170\u001b[0m     \u001b[38;5;66;03m# _is_uniform_join_units ensures a single dtype, so\u001b[39;00m\n\u001b[0;32m    171\u001b[0m     \u001b[38;5;66;03m#  we can use np.concatenate, which is more performant\u001b[39;00m\n\u001b[1;32m   (...)\u001b[0m\n\u001b[0;32m    175\u001b[0m     \u001b[38;5;66;03m# expected \"Union[_SupportsArray[dtype[Any]],\u001b[39;00m\n\u001b[0;32m    176\u001b[0m     \u001b[38;5;66;03m# _NestedSequence[_SupportsArray[dtype[Any]]]]\"\u001b[39;00m\n\u001b[1;32m--> 177\u001b[0m     values \u001b[38;5;241m=\u001b[39m \u001b[43mnp\u001b[49m\u001b[38;5;241;43m.\u001b[39;49m\u001b[43mconcatenate\u001b[49m\u001b[43m(\u001b[49m\u001b[43mvals\u001b[49m\u001b[43m,\u001b[49m\u001b[43m \u001b[49m\u001b[43maxis\u001b[49m\u001b[38;5;241;43m=\u001b[39;49m\u001b[38;5;241;43m1\u001b[39;49m\u001b[43m)\u001b[49m  \u001b[38;5;66;03m# type: ignore[arg-type]\u001b[39;00m\n\u001b[0;32m    178\u001b[0m \u001b[38;5;28;01melif\u001b[39;00m is_1d_only_ea_dtype(blk\u001b[38;5;241m.\u001b[39mdtype):\n\u001b[0;32m    179\u001b[0m     \u001b[38;5;66;03m# TODO(EA2D): special-casing not needed with 2D EAs\u001b[39;00m\n\u001b[0;32m    180\u001b[0m     values \u001b[38;5;241m=\u001b[39m concat_compat(vals, axis\u001b[38;5;241m=\u001b[39m\u001b[38;5;241m0\u001b[39m, ea_compat_axis\u001b[38;5;241m=\u001b[39m\u001b[38;5;28;01mTrue\u001b[39;00m)\n",
      "\u001b[1;31mKeyboardInterrupt\u001b[0m: "
     ]
    }
   ],
   "source": [
    "for lista in lista_resultante:\n",
    "    df_temp = pd.DataFrame(lista)\n",
    "    df_resultante = pd.concat([df_resultante, df_temp], ignore_index=True)\n",
    "\n",
    "print(df_resultante)"
   ]
  },
  {
   "cell_type": "code",
   "execution_count": 5,
   "metadata": {},
   "outputs": [],
   "source": [
    "def eliminar_caracteres(texto, caracter_a_eliminar, inicio, fin):\n",
    "    # Expresión regular para encontrar el patrón entre los caracteres de inicio y fin\n",
    "    patron = f'{inicio}.*?{fin}'\n",
    "    \n",
    "    def reemplazo(match):\n",
    "        # Reemplazar el carácter específico dentro del patrón encontrado\n",
    "        return match.group(0).replace(caracter_a_eliminar, '')\n",
    "    \n",
    "    # Usar sub para reemplazar los caracteres en el texto\n",
    "    return re.sub(patron, reemplazo, texto)\n"
   ]
  },
  {
   "cell_type": "code",
   "execution_count": 6,
   "metadata": {},
   "outputs": [],
   "source": [
    "def reemplazar_caracteres(texto, caracter_a_reemplazar, nuevo_caracter, inicio, fin):\n",
    "    # Expresión regular para encontrar el patrón entre los caracteres de inicio y fin\n",
    "    patron = f'{inicio}.*?{fin}'\n",
    "    \n",
    "    def reemplazo(match):\n",
    "        # Reemplazar el carácter específico dentro del patrón encontrado\n",
    "        return match.group(0).replace(caracter_a_reemplazar, nuevo_caracter)\n",
    "    \n",
    "    # Usar sub para reemplazar los caracteres en el texto\n",
    "    return re.sub(patron, reemplazo, texto)"
   ]
  },
  {
   "cell_type": "code",
   "execution_count": 163,
   "metadata": {},
   "outputs": [
    {
     "data": {
      "text/plain": [
       "\"asMn'as'kdbhM\""
      ]
     },
     "execution_count": 163,
     "metadata": {},
     "output_type": "execute_result"
    }
   ],
   "source": [
    "cadena = 'asMn\"as\"kdbhM'\n",
    "cadena\n",
    "reemplazar_caracteres(cadena, '\"', \"'\", 'M','h')"
   ]
  },
  {
   "cell_type": "code",
   "execution_count": 7,
   "metadata": {},
   "outputs": [
    {
     "data": {
      "text/html": [
       "<div>\n",
       "<style scoped>\n",
       "    .dataframe tbody tr th:only-of-type {\n",
       "        vertical-align: middle;\n",
       "    }\n",
       "\n",
       "    .dataframe tbody tr th {\n",
       "        vertical-align: top;\n",
       "    }\n",
       "\n",
       "    .dataframe thead th {\n",
       "        text-align: right;\n",
       "    }\n",
       "</style>\n",
       "<table border=\"1\" class=\"dataframe\">\n",
       "  <thead>\n",
       "    <tr style=\"text-align: right;\">\n",
       "      <th></th>\n",
       "    </tr>\n",
       "  </thead>\n",
       "  <tbody>\n",
       "  </tbody>\n",
       "</table>\n",
       "</div>"
      ],
      "text/plain": [
       "Empty DataFrame\n",
       "Columns: []\n",
       "Index: []"
      ]
     },
     "execution_count": 7,
     "metadata": {},
     "output_type": "execute_result"
    }
   ],
   "source": [
    "cast_df_clear = pd.DataFrame()\n",
    "cast_df_clear"
   ]
  },
  {
   "cell_type": "code",
   "execution_count": 113,
   "metadata": {},
   "outputs": [
    {
     "name": "stdout",
     "output_type": "stream",
     "text": [
      "Error en la cadena: Expecting ',' delimiter: line 1 column 1898 (char 1897)\n",
      "9b0f\", \"gender\": 1, \n",
      "49\n"
     ]
    }
   ],
   "source": [
    "for index_cast, row_cast in cast_df.iloc[:999].iterrows():\n",
    "    \n",
    "    row_cast_str = row_cast['cast']\n",
    "    \n",
    "    row_cast_str = row_cast_str.replace('\"', '##')\n",
    "    row_cast_str = row_cast_str.replace(\"'\", '\"')\n",
    "    row_cast_str = reemplazar_caracteres(row_cast_str, '\"', '\\\\\"', '##', '##')\n",
    "    row_cast_str = row_cast_str.replace('##', '\"')\n",
    "    row_cast_str = row_cast_str.replace('\"\"', '\"')\n",
    "    row_cast_str = row_cast_str.replace(\"None\", \"null\")\n",
    "    \n",
    "    try:\n",
    "        row_cast_list = json.loads(row_cast_str)\n",
    "    except json.JSONDecodeError as e:\n",
    "        print('Error en la cadena:', e)\n",
    "        print(row_cast_str[1898:2530])\n",
    "        print(index_cast)\n",
    "        break\n",
    "\n",
    "    row_cast_df = pd.DataFrame(row_cast_list)\n",
    "    \n",
    "    cast_df_clear = pd.concat([cast_df_clear, row_cast_df], axis=0, ignore_index=True)"
   ]
  },
  {
   "cell_type": "code",
   "execution_count": 123,
   "metadata": {},
   "outputs": [
    {
     "name": "stdout",
     "output_type": "stream",
     "text": [
      "'Sgt. Jeffrey \"Jeff\" Rabin', 'credit_id'\n",
      ": 'Sgt. Jeffrey ##Jeff## Rabin', 'credit\n",
      "r\": \"Sgt. Jeffrey ##Jeff## Rabin\", \"cred\n",
      ": \"Sgt. Jeffrey \"Jeff\" Rabin\", \"credit_i\n"
     ]
    },
    {
     "ename": "JSONDecodeError",
     "evalue": "Expecting ',' delimiter: line 1 column 1898 (char 1897)",
     "output_type": "error",
     "traceback": [
      "\u001b[1;31m---------------------------------------------------------------------------\u001b[0m",
      "\u001b[1;31mJSONDecodeError\u001b[0m                           Traceback (most recent call last)",
      "Cell \u001b[1;32mIn[123], line 14\u001b[0m\n\u001b[0;32m     10\u001b[0m row_cast_str \u001b[38;5;241m=\u001b[39m row_cast_str\u001b[38;5;241m.\u001b[39mreplace(\u001b[38;5;124m\"\u001b[39m\u001b[38;5;124mNone\u001b[39m\u001b[38;5;124m\"\u001b[39m, \u001b[38;5;124m\"\u001b[39m\u001b[38;5;124mnull\u001b[39m\u001b[38;5;124m\"\u001b[39m)\n\u001b[0;32m     12\u001b[0m \u001b[38;5;28mprint\u001b[39m(row_cast_str[\u001b[38;5;241m1880\u001b[39m:\u001b[38;5;241m1920\u001b[39m])\n\u001b[1;32m---> 14\u001b[0m row_cast_list \u001b[38;5;241m=\u001b[39m \u001b[43mjson\u001b[49m\u001b[38;5;241;43m.\u001b[39;49m\u001b[43mloads\u001b[49m\u001b[43m(\u001b[49m\u001b[43mrow_cast_str\u001b[49m\u001b[43m)\u001b[49m\n\u001b[0;32m     16\u001b[0m row_cast_df \u001b[38;5;241m=\u001b[39m pd\u001b[38;5;241m.\u001b[39mDataFrame(row_cast_list)\n\u001b[0;32m     18\u001b[0m row_cast_df\n",
      "File \u001b[1;32m~\\AppData\\Local\\Programs\\Python\\Python311\\Lib\\json\\__init__.py:346\u001b[0m, in \u001b[0;36mloads\u001b[1;34m(s, cls, object_hook, parse_float, parse_int, parse_constant, object_pairs_hook, **kw)\u001b[0m\n\u001b[0;32m    341\u001b[0m     s \u001b[38;5;241m=\u001b[39m s\u001b[38;5;241m.\u001b[39mdecode(detect_encoding(s), \u001b[38;5;124m'\u001b[39m\u001b[38;5;124msurrogatepass\u001b[39m\u001b[38;5;124m'\u001b[39m)\n\u001b[0;32m    343\u001b[0m \u001b[38;5;28;01mif\u001b[39;00m (\u001b[38;5;28mcls\u001b[39m \u001b[38;5;129;01mis\u001b[39;00m \u001b[38;5;28;01mNone\u001b[39;00m \u001b[38;5;129;01mand\u001b[39;00m object_hook \u001b[38;5;129;01mis\u001b[39;00m \u001b[38;5;28;01mNone\u001b[39;00m \u001b[38;5;129;01mand\u001b[39;00m\n\u001b[0;32m    344\u001b[0m         parse_int \u001b[38;5;129;01mis\u001b[39;00m \u001b[38;5;28;01mNone\u001b[39;00m \u001b[38;5;129;01mand\u001b[39;00m parse_float \u001b[38;5;129;01mis\u001b[39;00m \u001b[38;5;28;01mNone\u001b[39;00m \u001b[38;5;129;01mand\u001b[39;00m\n\u001b[0;32m    345\u001b[0m         parse_constant \u001b[38;5;129;01mis\u001b[39;00m \u001b[38;5;28;01mNone\u001b[39;00m \u001b[38;5;129;01mand\u001b[39;00m object_pairs_hook \u001b[38;5;129;01mis\u001b[39;00m \u001b[38;5;28;01mNone\u001b[39;00m \u001b[38;5;129;01mand\u001b[39;00m \u001b[38;5;129;01mnot\u001b[39;00m kw):\n\u001b[1;32m--> 346\u001b[0m     \u001b[38;5;28;01mreturn\u001b[39;00m \u001b[43m_default_decoder\u001b[49m\u001b[38;5;241;43m.\u001b[39;49m\u001b[43mdecode\u001b[49m\u001b[43m(\u001b[49m\u001b[43ms\u001b[49m\u001b[43m)\u001b[49m\n\u001b[0;32m    347\u001b[0m \u001b[38;5;28;01mif\u001b[39;00m \u001b[38;5;28mcls\u001b[39m \u001b[38;5;129;01mis\u001b[39;00m \u001b[38;5;28;01mNone\u001b[39;00m:\n\u001b[0;32m    348\u001b[0m     \u001b[38;5;28mcls\u001b[39m \u001b[38;5;241m=\u001b[39m JSONDecoder\n",
      "File \u001b[1;32m~\\AppData\\Local\\Programs\\Python\\Python311\\Lib\\json\\decoder.py:337\u001b[0m, in \u001b[0;36mJSONDecoder.decode\u001b[1;34m(self, s, _w)\u001b[0m\n\u001b[0;32m    332\u001b[0m \u001b[38;5;28;01mdef\u001b[39;00m \u001b[38;5;21mdecode\u001b[39m(\u001b[38;5;28mself\u001b[39m, s, _w\u001b[38;5;241m=\u001b[39mWHITESPACE\u001b[38;5;241m.\u001b[39mmatch):\n\u001b[0;32m    333\u001b[0m \u001b[38;5;250m    \u001b[39m\u001b[38;5;124;03m\"\"\"Return the Python representation of ``s`` (a ``str`` instance\u001b[39;00m\n\u001b[0;32m    334\u001b[0m \u001b[38;5;124;03m    containing a JSON document).\u001b[39;00m\n\u001b[0;32m    335\u001b[0m \n\u001b[0;32m    336\u001b[0m \u001b[38;5;124;03m    \"\"\"\u001b[39;00m\n\u001b[1;32m--> 337\u001b[0m     obj, end \u001b[38;5;241m=\u001b[39m \u001b[38;5;28;43mself\u001b[39;49m\u001b[38;5;241;43m.\u001b[39;49m\u001b[43mraw_decode\u001b[49m\u001b[43m(\u001b[49m\u001b[43ms\u001b[49m\u001b[43m,\u001b[49m\u001b[43m \u001b[49m\u001b[43midx\u001b[49m\u001b[38;5;241;43m=\u001b[39;49m\u001b[43m_w\u001b[49m\u001b[43m(\u001b[49m\u001b[43ms\u001b[49m\u001b[43m,\u001b[49m\u001b[43m \u001b[49m\u001b[38;5;241;43m0\u001b[39;49m\u001b[43m)\u001b[49m\u001b[38;5;241;43m.\u001b[39;49m\u001b[43mend\u001b[49m\u001b[43m(\u001b[49m\u001b[43m)\u001b[49m\u001b[43m)\u001b[49m\n\u001b[0;32m    338\u001b[0m     end \u001b[38;5;241m=\u001b[39m _w(s, end)\u001b[38;5;241m.\u001b[39mend()\n\u001b[0;32m    339\u001b[0m     \u001b[38;5;28;01mif\u001b[39;00m end \u001b[38;5;241m!=\u001b[39m \u001b[38;5;28mlen\u001b[39m(s):\n",
      "File \u001b[1;32m~\\AppData\\Local\\Programs\\Python\\Python311\\Lib\\json\\decoder.py:353\u001b[0m, in \u001b[0;36mJSONDecoder.raw_decode\u001b[1;34m(self, s, idx)\u001b[0m\n\u001b[0;32m    344\u001b[0m \u001b[38;5;250m\u001b[39m\u001b[38;5;124;03m\"\"\"Decode a JSON document from ``s`` (a ``str`` beginning with\u001b[39;00m\n\u001b[0;32m    345\u001b[0m \u001b[38;5;124;03ma JSON document) and return a 2-tuple of the Python\u001b[39;00m\n\u001b[0;32m    346\u001b[0m \u001b[38;5;124;03mrepresentation and the index in ``s`` where the document ended.\u001b[39;00m\n\u001b[1;32m   (...)\u001b[0m\n\u001b[0;32m    350\u001b[0m \n\u001b[0;32m    351\u001b[0m \u001b[38;5;124;03m\"\"\"\u001b[39;00m\n\u001b[0;32m    352\u001b[0m \u001b[38;5;28;01mtry\u001b[39;00m:\n\u001b[1;32m--> 353\u001b[0m     obj, end \u001b[38;5;241m=\u001b[39m \u001b[38;5;28;43mself\u001b[39;49m\u001b[38;5;241;43m.\u001b[39;49m\u001b[43mscan_once\u001b[49m\u001b[43m(\u001b[49m\u001b[43ms\u001b[49m\u001b[43m,\u001b[49m\u001b[43m \u001b[49m\u001b[43midx\u001b[49m\u001b[43m)\u001b[49m\n\u001b[0;32m    354\u001b[0m \u001b[38;5;28;01mexcept\u001b[39;00m \u001b[38;5;167;01mStopIteration\u001b[39;00m \u001b[38;5;28;01mas\u001b[39;00m err:\n\u001b[0;32m    355\u001b[0m     \u001b[38;5;28;01mraise\u001b[39;00m JSONDecodeError(\u001b[38;5;124m\"\u001b[39m\u001b[38;5;124mExpecting value\u001b[39m\u001b[38;5;124m\"\u001b[39m, s, err\u001b[38;5;241m.\u001b[39mvalue) \u001b[38;5;28;01mfrom\u001b[39;00m \u001b[38;5;28;01mNone\u001b[39;00m\n",
      "\u001b[1;31mJSONDecodeError\u001b[0m: Expecting ',' delimiter: line 1 column 1898 (char 1897)"
     ]
    }
   ],
   "source": [
    "row_cast_str = cast_df['cast'][49]\n",
    "print(row_cast_str[1880:1920])\n",
    "row_cast_str = row_cast_str.replace('\"', '##')\n",
    "print(row_cast_str[1880:1920])\n",
    "row_cast_str = row_cast_str.replace(\"'\", '\"')\n",
    "row_cast_str = reemplazar_caracteres(row_cast_str, '\"', '\\\\\"', '##', '##')\n",
    "print(row_cast_str[1880:1920])\n",
    "row_cast_str = row_cast_str.replace('##', '\"')\n",
    "row_cast_str = row_cast_str.replace('\"\"', '\"')\n",
    "row_cast_str = row_cast_str.replace(\"None\", \"null\")\n",
    "\n",
    "print(row_cast_str[1880:1920])\n",
    "\n",
    "row_cast_list = json.loads(row_cast_str)\n",
    "\n",
    "row_cast_df = pd.DataFrame(row_cast_list)\n",
    "\n",
    "row_cast_df"
   ]
  },
  {
   "cell_type": "code",
   "execution_count": null,
   "metadata": {},
   "outputs": [],
   "source": []
  },
  {
   "cell_type": "code",
   "execution_count": 24,
   "metadata": {},
   "outputs": [
    {
     "name": "stdout",
     "output_type": "stream",
     "text": [
      "Error en la cadena: Expecting value: line 1 column 2 (char 1)\n",
      "[\n"
     ]
    }
   ],
   "source": [
    "for index_cast, row_cast in cast_df.iterrows():\n",
    "    \n",
    "    row_cast_str = row_cast[\"cast\"]\n",
    "    \n",
    "    row_cast_str = re.sub(r\"'(.*)': '(.*)',\", r'\"\\1\": \"\\2\",', row_cast_str)\n",
    "    row_cast_str = re.sub(r\"'(.*)': (.*),\", r'\"\\1\": \\2,', row_cast_str)\n",
    "    \n",
    "    #row_cast_str = row_cast_str.replace(\"': '\",'\": \"')\n",
    "    #row_cast_str = row_cast_str.replace(\"', '\", '\", \"')\n",
    "    #row_cast_str = row_cast_str.replace(\"': \", '\": ')\n",
    "    #row_cast_str = row_cast_str.replace(\", '\", ', \"')\n",
    "    \n",
    "    #row_cast_str = row_cast_str.replace(\"{'\", '{\"')\n",
    "    #row_cast_str = row_cast_str.replace(\"'}\", '\"}')\n",
    "    \n",
    "    #row_cast_str = row_cast_str.replace('\"\"','\"')\n",
    "    \n",
    "    #row_cast_str = reemplazar_caracteres(row_cast_str, '\"', \"\\'\", '\": \"', '\", \"')\n",
    "    row_cast_str = row_cast_str.replace(\"None\", \"null\")\n",
    "    \n",
    "    try:\n",
    "        row_cast_list = json.loads(row_cast_str)\n",
    "    except json.JSONDecodeError as e:\n",
    "        print('Error en la cadena:', e)\n",
    "        #print(row_cast_str)\n",
    "        print(row_cast_str[0:10])\n",
    "        #print(index_cast)\n",
    "        break\n",
    "    \n",
    "    #row_cast_list = json.loads(row_cast_str)\n",
    "        \n",
    "    row_cast_df = pd.DataFrame(row_cast_list)\n",
    "    \n",
    "    cast_df_clear = pd.concat([cast_df_clear, row_cast_df], axis=0, ignore_index=True)"
   ]
  },
  {
   "cell_type": "code",
   "execution_count": 10,
   "metadata": {},
   "outputs": [
    {
     "name": "stdout",
     "output_type": "stream",
     "text": [
      "0\n",
      "1\n",
      "2\n",
      "3\n",
      "4\n",
      "5\n",
      "6\n"
     ]
    },
    {
     "ename": "KeyboardInterrupt",
     "evalue": "",
     "output_type": "error",
     "traceback": [
      "\u001b[1;31m---------------------------------------------------------------------------\u001b[0m",
      "\u001b[1;31mKeyboardInterrupt\u001b[0m                         Traceback (most recent call last)",
      "Cell \u001b[1;32mIn[10], line 19\u001b[0m\n\u001b[0;32m     15\u001b[0m row_cast_list \u001b[38;5;241m=\u001b[39m json\u001b[38;5;241m.\u001b[39mloads(row_cast_str)\n\u001b[0;32m     17\u001b[0m row_cast_df \u001b[38;5;241m=\u001b[39m pd\u001b[38;5;241m.\u001b[39mDataFrame(row_cast_list)\n\u001b[1;32m---> 19\u001b[0m cast_df_clear \u001b[38;5;241m=\u001b[39m \u001b[43mpd\u001b[49m\u001b[38;5;241;43m.\u001b[39;49m\u001b[43mconcat\u001b[49m\u001b[43m(\u001b[49m\u001b[43m[\u001b[49m\u001b[43mcast_df_clear\u001b[49m\u001b[43m,\u001b[49m\u001b[43m \u001b[49m\u001b[43mrow_cast_df\u001b[49m\u001b[43m]\u001b[49m\u001b[43m,\u001b[49m\u001b[43m \u001b[49m\u001b[43maxis\u001b[49m\u001b[38;5;241;43m=\u001b[39;49m\u001b[38;5;241;43m0\u001b[39;49m\u001b[43m,\u001b[49m\u001b[43m \u001b[49m\u001b[43mignore_index\u001b[49m\u001b[38;5;241;43m=\u001b[39;49m\u001b[38;5;28;43;01mTrue\u001b[39;49;00m\u001b[43m)\u001b[49m\n",
      "File \u001b[1;32mc:\\Users\\franc\\Desktop\\Proyecto_Peliculas\\venv\\Lib\\site-packages\\pandas\\core\\reshape\\concat.py:395\u001b[0m, in \u001b[0;36mconcat\u001b[1;34m(objs, axis, join, ignore_index, keys, levels, names, verify_integrity, sort, copy)\u001b[0m\n\u001b[0;32m    380\u001b[0m     copy \u001b[38;5;241m=\u001b[39m \u001b[38;5;28;01mFalse\u001b[39;00m\n\u001b[0;32m    382\u001b[0m op \u001b[38;5;241m=\u001b[39m _Concatenator(\n\u001b[0;32m    383\u001b[0m     objs,\n\u001b[0;32m    384\u001b[0m     axis\u001b[38;5;241m=\u001b[39maxis,\n\u001b[1;32m   (...)\u001b[0m\n\u001b[0;32m    392\u001b[0m     sort\u001b[38;5;241m=\u001b[39msort,\n\u001b[0;32m    393\u001b[0m )\n\u001b[1;32m--> 395\u001b[0m \u001b[38;5;28;01mreturn\u001b[39;00m \u001b[43mop\u001b[49m\u001b[38;5;241;43m.\u001b[39;49m\u001b[43mget_result\u001b[49m\u001b[43m(\u001b[49m\u001b[43m)\u001b[49m\n",
      "File \u001b[1;32mc:\\Users\\franc\\Desktop\\Proyecto_Peliculas\\venv\\Lib\\site-packages\\pandas\\core\\reshape\\concat.py:684\u001b[0m, in \u001b[0;36m_Concatenator.get_result\u001b[1;34m(self)\u001b[0m\n\u001b[0;32m    680\u001b[0m             indexers[ax] \u001b[38;5;241m=\u001b[39m obj_labels\u001b[38;5;241m.\u001b[39mget_indexer(new_labels)\n\u001b[0;32m    682\u001b[0m     mgrs_indexers\u001b[38;5;241m.\u001b[39mappend((obj\u001b[38;5;241m.\u001b[39m_mgr, indexers))\n\u001b[1;32m--> 684\u001b[0m new_data \u001b[38;5;241m=\u001b[39m \u001b[43mconcatenate_managers\u001b[49m\u001b[43m(\u001b[49m\n\u001b[0;32m    685\u001b[0m \u001b[43m    \u001b[49m\u001b[43mmgrs_indexers\u001b[49m\u001b[43m,\u001b[49m\u001b[43m \u001b[49m\u001b[38;5;28;43mself\u001b[39;49m\u001b[38;5;241;43m.\u001b[39;49m\u001b[43mnew_axes\u001b[49m\u001b[43m,\u001b[49m\u001b[43m \u001b[49m\u001b[43mconcat_axis\u001b[49m\u001b[38;5;241;43m=\u001b[39;49m\u001b[38;5;28;43mself\u001b[39;49m\u001b[38;5;241;43m.\u001b[39;49m\u001b[43mbm_axis\u001b[49m\u001b[43m,\u001b[49m\u001b[43m \u001b[49m\u001b[43mcopy\u001b[49m\u001b[38;5;241;43m=\u001b[39;49m\u001b[38;5;28;43mself\u001b[39;49m\u001b[38;5;241;43m.\u001b[39;49m\u001b[43mcopy\u001b[49m\n\u001b[0;32m    686\u001b[0m \u001b[43m\u001b[49m\u001b[43m)\u001b[49m\n\u001b[0;32m    687\u001b[0m \u001b[38;5;28;01mif\u001b[39;00m \u001b[38;5;129;01mnot\u001b[39;00m \u001b[38;5;28mself\u001b[39m\u001b[38;5;241m.\u001b[39mcopy \u001b[38;5;129;01mand\u001b[39;00m \u001b[38;5;129;01mnot\u001b[39;00m using_copy_on_write():\n\u001b[0;32m    688\u001b[0m     new_data\u001b[38;5;241m.\u001b[39m_consolidate_inplace()\n",
      "File \u001b[1;32mc:\\Users\\franc\\Desktop\\Proyecto_Peliculas\\venv\\Lib\\site-packages\\pandas\\core\\internals\\concat.py:189\u001b[0m, in \u001b[0;36mconcatenate_managers\u001b[1;34m(mgrs_indexers, axes, concat_axis, copy)\u001b[0m\n\u001b[0;32m    187\u001b[0m     fastpath \u001b[38;5;241m=\u001b[39m blk\u001b[38;5;241m.\u001b[39mvalues\u001b[38;5;241m.\u001b[39mdtype \u001b[38;5;241m==\u001b[39m values\u001b[38;5;241m.\u001b[39mdtype\n\u001b[0;32m    188\u001b[0m \u001b[38;5;28;01melse\u001b[39;00m:\n\u001b[1;32m--> 189\u001b[0m     values \u001b[38;5;241m=\u001b[39m \u001b[43m_concatenate_join_units\u001b[49m\u001b[43m(\u001b[49m\u001b[43mjoin_units\u001b[49m\u001b[43m,\u001b[49m\u001b[43m \u001b[49m\u001b[43mcopy\u001b[49m\u001b[38;5;241;43m=\u001b[39;49m\u001b[43mcopy\u001b[49m\u001b[43m)\u001b[49m\n\u001b[0;32m    190\u001b[0m     fastpath \u001b[38;5;241m=\u001b[39m \u001b[38;5;28;01mFalse\u001b[39;00m\n\u001b[0;32m    192\u001b[0m \u001b[38;5;28;01mif\u001b[39;00m fastpath:\n",
      "File \u001b[1;32mc:\\Users\\franc\\Desktop\\Proyecto_Peliculas\\venv\\Lib\\site-packages\\pandas\\core\\internals\\concat.py:461\u001b[0m, in \u001b[0;36m_concatenate_join_units\u001b[1;34m(join_units, copy)\u001b[0m\n\u001b[0;32m    457\u001b[0m \u001b[38;5;28;01mdef\u001b[39;00m \u001b[38;5;21m_concatenate_join_units\u001b[39m(join_units: \u001b[38;5;28mlist\u001b[39m[JoinUnit], copy: \u001b[38;5;28mbool\u001b[39m) \u001b[38;5;241m-\u001b[39m\u001b[38;5;241m>\u001b[39m ArrayLike:\n\u001b[0;32m    458\u001b[0m \u001b[38;5;250m    \u001b[39m\u001b[38;5;124;03m\"\"\"\u001b[39;00m\n\u001b[0;32m    459\u001b[0m \u001b[38;5;124;03m    Concatenate values from several join units along axis=1.\u001b[39;00m\n\u001b[0;32m    460\u001b[0m \u001b[38;5;124;03m    \"\"\"\u001b[39;00m\n\u001b[1;32m--> 461\u001b[0m     empty_dtype, empty_dtype_future \u001b[38;5;241m=\u001b[39m \u001b[43m_get_empty_dtype\u001b[49m\u001b[43m(\u001b[49m\u001b[43mjoin_units\u001b[49m\u001b[43m)\u001b[49m\n\u001b[0;32m    463\u001b[0m     has_none_blocks \u001b[38;5;241m=\u001b[39m \u001b[38;5;28many\u001b[39m(unit\u001b[38;5;241m.\u001b[39mblock\u001b[38;5;241m.\u001b[39mdtype\u001b[38;5;241m.\u001b[39mkind \u001b[38;5;241m==\u001b[39m \u001b[38;5;124m\"\u001b[39m\u001b[38;5;124mV\u001b[39m\u001b[38;5;124m\"\u001b[39m \u001b[38;5;28;01mfor\u001b[39;00m unit \u001b[38;5;129;01min\u001b[39;00m join_units)\n\u001b[0;32m    464\u001b[0m     upcasted_na \u001b[38;5;241m=\u001b[39m _dtype_to_na_value(empty_dtype, has_none_blocks)\n",
      "File \u001b[1;32mc:\\Users\\franc\\Desktop\\Proyecto_Peliculas\\venv\\Lib\\site-packages\\pandas\\core\\internals\\concat.py:542\u001b[0m, in \u001b[0;36m_get_empty_dtype\u001b[1;34m(join_units)\u001b[0m\n\u001b[0;32m    538\u001b[0m     \u001b[38;5;28;01mreturn\u001b[39;00m empty_dtype, empty_dtype\n\u001b[0;32m    540\u001b[0m has_none_blocks \u001b[38;5;241m=\u001b[39m \u001b[38;5;28many\u001b[39m(unit\u001b[38;5;241m.\u001b[39mblock\u001b[38;5;241m.\u001b[39mdtype\u001b[38;5;241m.\u001b[39mkind \u001b[38;5;241m==\u001b[39m \u001b[38;5;124m\"\u001b[39m\u001b[38;5;124mV\u001b[39m\u001b[38;5;124m\"\u001b[39m \u001b[38;5;28;01mfor\u001b[39;00m unit \u001b[38;5;129;01min\u001b[39;00m join_units)\n\u001b[1;32m--> 542\u001b[0m dtypes \u001b[38;5;241m=\u001b[39m \u001b[43m[\u001b[49m\u001b[43munit\u001b[49m\u001b[38;5;241;43m.\u001b[39;49m\u001b[43mblock\u001b[49m\u001b[38;5;241;43m.\u001b[39;49m\u001b[43mdtype\u001b[49m\u001b[43m \u001b[49m\u001b[38;5;28;43;01mfor\u001b[39;49;00m\u001b[43m \u001b[49m\u001b[43munit\u001b[49m\u001b[43m \u001b[49m\u001b[38;5;129;43;01min\u001b[39;49;00m\u001b[43m \u001b[49m\u001b[43mjoin_units\u001b[49m\u001b[43m \u001b[49m\u001b[38;5;28;43;01mif\u001b[39;49;00m\u001b[43m \u001b[49m\u001b[38;5;129;43;01mnot\u001b[39;49;00m\u001b[43m \u001b[49m\u001b[43munit\u001b[49m\u001b[38;5;241;43m.\u001b[39;49m\u001b[43mis_na\u001b[49m\u001b[43m]\u001b[49m\n\u001b[0;32m    543\u001b[0m \u001b[38;5;28;01mif\u001b[39;00m \u001b[38;5;129;01mnot\u001b[39;00m \u001b[38;5;28mlen\u001b[39m(dtypes):\n\u001b[0;32m    544\u001b[0m     dtypes \u001b[38;5;241m=\u001b[39m [\n\u001b[0;32m    545\u001b[0m         unit\u001b[38;5;241m.\u001b[39mblock\u001b[38;5;241m.\u001b[39mdtype \u001b[38;5;28;01mfor\u001b[39;00m unit \u001b[38;5;129;01min\u001b[39;00m join_units \u001b[38;5;28;01mif\u001b[39;00m unit\u001b[38;5;241m.\u001b[39mblock\u001b[38;5;241m.\u001b[39mdtype\u001b[38;5;241m.\u001b[39mkind \u001b[38;5;241m!=\u001b[39m \u001b[38;5;124m\"\u001b[39m\u001b[38;5;124mV\u001b[39m\u001b[38;5;124m\"\u001b[39m\n\u001b[0;32m    546\u001b[0m     ]\n",
      "File \u001b[1;32mc:\\Users\\franc\\Desktop\\Proyecto_Peliculas\\venv\\Lib\\site-packages\\pandas\\core\\internals\\concat.py:542\u001b[0m, in \u001b[0;36m<listcomp>\u001b[1;34m(.0)\u001b[0m\n\u001b[0;32m    538\u001b[0m     \u001b[38;5;28;01mreturn\u001b[39;00m empty_dtype, empty_dtype\n\u001b[0;32m    540\u001b[0m has_none_blocks \u001b[38;5;241m=\u001b[39m \u001b[38;5;28many\u001b[39m(unit\u001b[38;5;241m.\u001b[39mblock\u001b[38;5;241m.\u001b[39mdtype\u001b[38;5;241m.\u001b[39mkind \u001b[38;5;241m==\u001b[39m \u001b[38;5;124m\"\u001b[39m\u001b[38;5;124mV\u001b[39m\u001b[38;5;124m\"\u001b[39m \u001b[38;5;28;01mfor\u001b[39;00m unit \u001b[38;5;129;01min\u001b[39;00m join_units)\n\u001b[1;32m--> 542\u001b[0m dtypes \u001b[38;5;241m=\u001b[39m [unit\u001b[38;5;241m.\u001b[39mblock\u001b[38;5;241m.\u001b[39mdtype \u001b[38;5;28;01mfor\u001b[39;00m unit \u001b[38;5;129;01min\u001b[39;00m join_units \u001b[38;5;28;01mif\u001b[39;00m \u001b[38;5;129;01mnot\u001b[39;00m \u001b[43munit\u001b[49m\u001b[38;5;241;43m.\u001b[39;49m\u001b[43mis_na\u001b[49m]\n\u001b[0;32m    543\u001b[0m \u001b[38;5;28;01mif\u001b[39;00m \u001b[38;5;129;01mnot\u001b[39;00m \u001b[38;5;28mlen\u001b[39m(dtypes):\n\u001b[0;32m    544\u001b[0m     dtypes \u001b[38;5;241m=\u001b[39m [\n\u001b[0;32m    545\u001b[0m         unit\u001b[38;5;241m.\u001b[39mblock\u001b[38;5;241m.\u001b[39mdtype \u001b[38;5;28;01mfor\u001b[39;00m unit \u001b[38;5;129;01min\u001b[39;00m join_units \u001b[38;5;28;01mif\u001b[39;00m unit\u001b[38;5;241m.\u001b[39mblock\u001b[38;5;241m.\u001b[39mdtype\u001b[38;5;241m.\u001b[39mkind \u001b[38;5;241m!=\u001b[39m \u001b[38;5;124m\"\u001b[39m\u001b[38;5;124mV\u001b[39m\u001b[38;5;124m\"\u001b[39m\n\u001b[0;32m    546\u001b[0m     ]\n",
      "File \u001b[1;32mproperties.pyx:36\u001b[0m, in \u001b[0;36mpandas._libs.properties.CachedProperty.__get__\u001b[1;34m()\u001b[0m\n",
      "File \u001b[1;32mc:\\Users\\franc\\Desktop\\Proyecto_Peliculas\\venv\\Lib\\site-packages\\pandas\\core\\internals\\concat.py:418\u001b[0m, in \u001b[0;36mJoinUnit.is_na\u001b[1;34m(self)\u001b[0m\n\u001b[0;32m    415\u001b[0m \u001b[38;5;28;01mif\u001b[39;00m \u001b[38;5;129;01mnot\u001b[39;00m is_scalar(val) \u001b[38;5;129;01mor\u001b[39;00m \u001b[38;5;129;01mnot\u001b[39;00m isna(val):\n\u001b[0;32m    416\u001b[0m     \u001b[38;5;66;03m# ideally isna_all would do this short-circuiting\u001b[39;00m\n\u001b[0;32m    417\u001b[0m     \u001b[38;5;28;01mreturn\u001b[39;00m \u001b[38;5;28;01mFalse\u001b[39;00m\n\u001b[1;32m--> 418\u001b[0m \u001b[38;5;28;01mreturn\u001b[39;00m \u001b[38;5;28mall\u001b[39m(isna_all(row) \u001b[38;5;28;01mfor\u001b[39;00m row \u001b[38;5;129;01min\u001b[39;00m values)\n",
      "File \u001b[1;32mc:\\Users\\franc\\Desktop\\Proyecto_Peliculas\\venv\\Lib\\site-packages\\pandas\\core\\internals\\concat.py:418\u001b[0m, in \u001b[0;36m<genexpr>\u001b[1;34m(.0)\u001b[0m\n\u001b[0;32m    415\u001b[0m \u001b[38;5;28;01mif\u001b[39;00m \u001b[38;5;129;01mnot\u001b[39;00m is_scalar(val) \u001b[38;5;129;01mor\u001b[39;00m \u001b[38;5;129;01mnot\u001b[39;00m isna(val):\n\u001b[0;32m    416\u001b[0m     \u001b[38;5;66;03m# ideally isna_all would do this short-circuiting\u001b[39;00m\n\u001b[0;32m    417\u001b[0m     \u001b[38;5;28;01mreturn\u001b[39;00m \u001b[38;5;28;01mFalse\u001b[39;00m\n\u001b[1;32m--> 418\u001b[0m \u001b[38;5;28;01mreturn\u001b[39;00m \u001b[38;5;28mall\u001b[39m(\u001b[43misna_all\u001b[49m\u001b[43m(\u001b[49m\u001b[43mrow\u001b[49m\u001b[43m)\u001b[49m \u001b[38;5;28;01mfor\u001b[39;00m row \u001b[38;5;129;01min\u001b[39;00m values)\n",
      "File \u001b[1;32mc:\\Users\\franc\\Desktop\\Proyecto_Peliculas\\venv\\Lib\\site-packages\\pandas\\core\\dtypes\\missing.py:808\u001b[0m, in \u001b[0;36misna_all\u001b[1;34m(arr)\u001b[0m\n\u001b[0;32m    801\u001b[0m \u001b[38;5;28;01melse\u001b[39;00m:\n\u001b[0;32m    802\u001b[0m     \u001b[38;5;66;03m# error: Incompatible types in assignment (expression has type \"Callable[[Any],\u001b[39;00m\n\u001b[0;32m    803\u001b[0m     \u001b[38;5;66;03m# Any]\", variable has type \"ufunc\")\u001b[39;00m\n\u001b[0;32m    804\u001b[0m     checker \u001b[38;5;241m=\u001b[39m \u001b[38;5;28;01mlambda\u001b[39;00m x: _isna_array(  \u001b[38;5;66;03m# type: ignore[assignment]\u001b[39;00m\n\u001b[0;32m    805\u001b[0m         x, inf_as_na\u001b[38;5;241m=\u001b[39mINF_AS_NA\n\u001b[0;32m    806\u001b[0m     )\n\u001b[1;32m--> 808\u001b[0m \u001b[38;5;28;01mreturn\u001b[39;00m \u001b[38;5;28mall\u001b[39m(\n\u001b[0;32m    809\u001b[0m     checker(arr[i : i \u001b[38;5;241m+\u001b[39m chunk_len])\u001b[38;5;241m.\u001b[39mall() \u001b[38;5;28;01mfor\u001b[39;00m i \u001b[38;5;129;01min\u001b[39;00m \u001b[38;5;28mrange\u001b[39m(\u001b[38;5;241m0\u001b[39m, total_len, chunk_len)\n\u001b[0;32m    810\u001b[0m )\n",
      "File \u001b[1;32mc:\\Users\\franc\\Desktop\\Proyecto_Peliculas\\venv\\Lib\\site-packages\\pandas\\core\\dtypes\\missing.py:809\u001b[0m, in \u001b[0;36m<genexpr>\u001b[1;34m(.0)\u001b[0m\n\u001b[0;32m    801\u001b[0m \u001b[38;5;28;01melse\u001b[39;00m:\n\u001b[0;32m    802\u001b[0m     \u001b[38;5;66;03m# error: Incompatible types in assignment (expression has type \"Callable[[Any],\u001b[39;00m\n\u001b[0;32m    803\u001b[0m     \u001b[38;5;66;03m# Any]\", variable has type \"ufunc\")\u001b[39;00m\n\u001b[0;32m    804\u001b[0m     checker \u001b[38;5;241m=\u001b[39m \u001b[38;5;28;01mlambda\u001b[39;00m x: _isna_array(  \u001b[38;5;66;03m# type: ignore[assignment]\u001b[39;00m\n\u001b[0;32m    805\u001b[0m         x, inf_as_na\u001b[38;5;241m=\u001b[39mINF_AS_NA\n\u001b[0;32m    806\u001b[0m     )\n\u001b[0;32m    808\u001b[0m \u001b[38;5;28;01mreturn\u001b[39;00m \u001b[38;5;28mall\u001b[39m(\n\u001b[1;32m--> 809\u001b[0m     \u001b[43mchecker\u001b[49m\u001b[43m(\u001b[49m\u001b[43marr\u001b[49m\u001b[43m[\u001b[49m\u001b[43mi\u001b[49m\u001b[43m \u001b[49m\u001b[43m:\u001b[49m\u001b[43m \u001b[49m\u001b[43mi\u001b[49m\u001b[43m \u001b[49m\u001b[38;5;241;43m+\u001b[39;49m\u001b[43m \u001b[49m\u001b[43mchunk_len\u001b[49m\u001b[43m]\u001b[49m\u001b[43m)\u001b[49m\u001b[38;5;241m.\u001b[39mall() \u001b[38;5;28;01mfor\u001b[39;00m i \u001b[38;5;129;01min\u001b[39;00m \u001b[38;5;28mrange\u001b[39m(\u001b[38;5;241m0\u001b[39m, total_len, chunk_len)\n\u001b[0;32m    810\u001b[0m )\n",
      "\u001b[1;31mKeyboardInterrupt\u001b[0m: "
     ]
    }
   ],
   "source": [
    "for index_cast, row_cast in cast_df.iterrows():\n",
    "    \n",
    "    row_cast_str = row_cast[\"cast\"]\n",
    "    row_cast_str = row_cast_str.replace(\"': '\",'\": \"')\n",
    "    row_cast_str = row_cast_str.replace(\"', '\", '\", \"')\n",
    "    row_cast_str = row_cast_str.replace(\"': \", '\": ')\n",
    "    row_cast_str = row_cast_str.replace(\", '\", ', \"')\n",
    "    row_cast_str = row_cast_str.replace(\"{'\", '{\"')\n",
    "    row_cast_str = row_cast_str.replace(\"'}\", '\"}')\n",
    "    row_cast_str = row_cast_str.replace('\"\"','\"')\n",
    "    row_cast_str = reemplazar_caracteres(row_cast_str, '\"', \"\\'\", '\": \"', '\", \"')\n",
    "    \n",
    "    row_cast_str = row_cast_str.replace(\"None\", \"null\")\n",
    "    print(index_cast)\n",
    "    row_cast_list = json.loads(row_cast_str)\n",
    "        \n",
    "    row_cast_df = pd.DataFrame(row_cast_list)\n",
    "    \n",
    "    cast_df_clear = pd.concat([cast_df_clear, row_cast_df], axis=0, ignore_index=True)"
   ]
  },
  {
   "cell_type": "markdown",
   "metadata": {},
   "source": [
    "    #row_cast_str = reemplazar_caracteres(row_cast_str, \"'\", '\\\\\"', '\\': \\\\\"', '\\\\\", \\'')\n",
    "    #row_cast_str = reemplazar_caracteres(row_cast_str, '\"', '\\\\\"', '\\': \\\\\"', '\\\\\", \\'')\n",
    "    #row_cast_str = row_cast_str.replace(\"\\\\\\'\", \"/\")\n",
    "    #row_cast_str = eliminar_caracteres(row_cast_str, \"\\\\\\'\", \": '\", \"',\")\n",
    "    #row_cast_str = eliminar_caracteres(row_cast_str, \"'\", ': \"', '\",')\n",
    "    #row_cast_str = row_cast_str.replace(\"\\\\\", \"/\")\n",
    "    #row_cast_str = eliminar_caracteres(row_cast_str, \"'\", '\"', '\"')\n",
    "    #row_cast_str = eliminar_caracteres(row_cast_str, '\"', \"'\", \"'\")\n",
    "\n",
    "    #row_cast_str = eliminar_caracteres(row_cast_str, '\"', ': \"', '\",')"
   ]
  },
  {
   "cell_type": "markdown",
   "metadata": {},
   "source": [
    " try:\n",
    "        row_cast_list = json.loads(row_cast_str)\n",
    "    except json.JSONDecodeError as e:\n",
    "        print('Error en la cadena:', e)\n",
    "        print(row_cast_str[1870:1910])\n",
    "        print(index_cast)\n",
    "        break"
   ]
  },
  {
   "cell_type": "code",
   "execution_count": 193,
   "metadata": {},
   "outputs": [
    {
     "name": "stdout",
     "output_type": "stream",
     "text": [
      " 'character': \"Savannah 'Vannah' Jackson\", 'credit\n"
     ]
    }
   ],
   "source": [
    "for index_cast, row_cast in cast_df.iterrows():\n",
    "    row_cast_str = row_cast[\"cast\"]\n",
    "    \n",
    "    if index_cast == 3:\n",
    "        print(row_cast_str[15:65])\n",
    "        break"
   ]
  },
  {
   "cell_type": "code",
   "execution_count": 134,
   "metadata": {},
   "outputs": [
    {
     "name": "stdout",
     "output_type": "stream",
     "text": [
      "': 'Mark Dags DAgastino', 'cre\n"
     ]
    }
   ],
   "source": [
    "for index_cast, row_cast in cast_df.iterrows():\n",
    "    row_cast_str = row_cast[\"cast\"]\n",
    "    row_cast_str = eliminar_caracteres(row_cast_str, \"\\\\\\'\", \": '\", \"',\")\n",
    "    #row_cast_str = row_cast_str.replace(\"\\\\\\'\", \"/\")\n",
    "    #row_cast_str = row_cast_str.replace(\"\\\\\", \"/\")\n",
    "    #row_cast_str = eliminar_caracteres(row_cast_str, \"'\", '\"', '\"')\n",
    "    row_cast_str = eliminar_caracteres(row_cast_str, '\"', \"'\", \"'\")\n",
    "    #row_cast_str = row_cast_str.replace(\"'\",'\"')\n",
    "    if index_cast == 320:\n",
    "        print(row_cast_str[840:870])\n",
    "        #row_cast_str = eliminar_caracteres(row_cast_str, '\"', \"'\", \"'\")\n",
    "        #print(row_cast_str[850:870])\n",
    "        break"
   ]
  },
  {
   "cell_type": "code",
   "execution_count": 80,
   "metadata": {},
   "outputs": [
    {
     "name": "stdout",
     "output_type": "stream",
     "text": [
      "g'}, {'cast_id': 8, 'character': 'Mark \\'Dags\" D\\'Agastino', 'credit_id': '52fe4572c3a368484e05b66f', 'gender': 2, 'id': 17604, 'name': 'Jeremy Renner', 'order': 4, 'profile_path': '/g8gheNEdPSXWH5Snj\n"
     ]
    }
   ],
   "source": [
    "for index_cast, row_cast in cast_df.iterrows():\n",
    "    row_cast_str = row_cast[\"cast\"]\n",
    "    if index_cast == 320:\n",
    "        print(row_cast_str[810:1010])\n",
    "        #row_cast_str = eliminar_caracteres(row_cast_str, '\"', \"'\", \"'\")\n",
    "        #print(row_cast_str[850:870])\n",
    "        break"
   ]
  },
  {
   "cell_type": "code",
   "execution_count": 67,
   "metadata": {},
   "outputs": [
    {
     "ename": "SyntaxError",
     "evalue": "invalid syntax. Perhaps you forgot a comma? (1284798691.py, line 1)",
     "output_type": "error",
     "traceback": [
      "\u001b[1;36m  Cell \u001b[1;32mIn[67], line 1\u001b[1;36m\u001b[0m\n\u001b[1;33m    cadena = eliminar_caracteres(\"\"asbabxas\"\", '\"', '\"', '\"')\u001b[0m\n\u001b[1;37m                                 ^\u001b[0m\n\u001b[1;31mSyntaxError\u001b[0m\u001b[1;31m:\u001b[0m invalid syntax. Perhaps you forgot a comma?\n"
     ]
    }
   ],
   "source": [
    "cadena = eliminar_caracteres(\"\"asbabxas\"\", '\"', '\"', '\"')\n",
    "cadena"
   ]
  },
  {
   "cell_type": "code",
   "execution_count": 63,
   "metadata": {},
   "outputs": [
    {
     "name": "stdout",
     "output_type": "stream",
     "text": [
      "[{'cast_id': 1, 'character': \"Savannah 'Vannah' Jackson\", 'credit_id': '52fe44779251416c91011aad', 'gender': 1, 'id': 8851, 'name': 'Whitney Houston', 'order': 0, 'profile_path': '/69ouDnXnmklYPr4sMJXWKYz81AL.jpg'}, {'cast_id': 2, 'character': \"Bernadine 'Bernie' Harris\", 'credit_id': '52fe44779251416c91011ab1', 'gender': 1, 'id': 9780, 'name': 'Angela Bassett', 'order': 1, 'profile_path': '/tHkgSzhEuJKp5hqp0DZLad8HNZ9.jpg'}, {'cast_id': 3, 'character': \"Gloria 'Glo' Matthews\", 'credit_id': '52fe44779251416c91011ab5', 'gender': 1, 'id': 18284, 'name': 'Loretta Devine', 'order': 2, 'profile_path': '/zLQFwQTFtHkb8sbFdkPNamFI7jv.jpg'}, {'cast_id': 4, 'character': 'Robin Stokes', 'credit_id': '52fe44779251416c91011ab9', 'gender': 1, 'id': 51359, 'name': 'Lela Rochon', 'order': 3, 'profile_path': '/9DBu3r5O4fBosSS4FnSzFCVpm0O.jpg'}, {'cast_id': 5, 'character': 'Marvin King', 'credit_id': '52fe44779251416c91011abd', 'gender': 2, 'id': 66804, 'name': 'Gregory Hines', 'order': 4, 'profile_path': '/rvvQWFQGeGR14WFVNe0Qg1J7uVY.jpg'}, {'cast_id': 6, 'character': 'Kenneth Dawkins', 'credit_id': '52fe44779251416c91011ac1', 'gender': 2, 'id': 352, 'name': 'Dennis Haysbert', 'order': 5, 'profile_path': '/mn5Nc5Q31GslpVVWs8p41W4TBma.jpg'}, {'cast_id': 8, 'character': 'John Harris, Sr.', 'credit_id': '52fe44779251416c91011ac5', 'gender': 2, 'id': 87118, 'name': 'Michael Beach', 'order': 6, 'profile_path': '/lOlWhURNKyZHn71dvq7qC7fiwN6.jpg'}, {'cast_id': 10, 'character': 'Troy', 'credit_id': '52fe44779251416c91011acf', 'gender': 2, 'id': 34, 'name': 'Mykelti Williamson', 'order': 7, 'profile_path': '/8TTxzpuvvpw2tB8xZBCDslYupNU.jpg'}, {'cast_id': 20, 'character': 'Joseph', 'credit_id': '56d1b15fc3a3681e4a008b6b', 'gender': 2, 'id': 1276777, 'name': 'Lamont Johnson', 'order': 8, 'profile_path': '/wfZzRPJBdsx62GbkUimc1PShxyC.jpg'}, {'cast_id': 21, 'character': 'James Wheeler', 'credit_id': '56f8a929c3a36816e80084f3', 'gender': 2, 'id': 10814, 'name': 'Wesley Snipes', 'order': 9, 'profile_path': '/hQ6EBa6vgu7HoZpzms8Y10VL5Iw.jpg'}]\n",
      "[{'cast_id': 1, 'character': \"Savannah Vannah Jackson\", 'credit_id': '52fe44779251416c91011aad', 'gender': 1, 'id': 8851, 'name': 'Whitney Houston', 'order': 0, 'profile_path': '/69ouDnXnmklYPr4sMJXWKYz81AL.jpg'}, {'cast_id': 2, 'character': \"Bernadine Bernie Harris\", 'credit_id': '52fe44779251416c91011ab1', 'gender': 1, 'id': 9780, 'name': 'Angela Bassett', 'order': 1, 'profile_path': '/tHkgSzhEuJKp5hqp0DZLad8HNZ9.jpg'}, {'cast_id': 3, 'character': \"Gloria Glo Matthews\", 'credit_id': '52fe44779251416c91011ab5', 'gender': 1, 'id': 18284, 'name': 'Loretta Devine', 'order': 2, 'profile_path': '/zLQFwQTFtHkb8sbFdkPNamFI7jv.jpg'}, {'cast_id': 4, 'character': 'Robin Stokes', 'credit_id': '52fe44779251416c91011ab9', 'gender': 1, 'id': 51359, 'name': 'Lela Rochon', 'order': 3, 'profile_path': '/9DBu3r5O4fBosSS4FnSzFCVpm0O.jpg'}, {'cast_id': 5, 'character': 'Marvin King', 'credit_id': '52fe44779251416c91011abd', 'gender': 2, 'id': 66804, 'name': 'Gregory Hines', 'order': 4, 'profile_path': '/rvvQWFQGeGR14WFVNe0Qg1J7uVY.jpg'}, {'cast_id': 6, 'character': 'Kenneth Dawkins', 'credit_id': '52fe44779251416c91011ac1', 'gender': 2, 'id': 352, 'name': 'Dennis Haysbert', 'order': 5, 'profile_path': '/mn5Nc5Q31GslpVVWs8p41W4TBma.jpg'}, {'cast_id': 8, 'character': 'John Harris, Sr.', 'credit_id': '52fe44779251416c91011ac5', 'gender': 2, 'id': 87118, 'name': 'Michael Beach', 'order': 6, 'profile_path': '/lOlWhURNKyZHn71dvq7qC7fiwN6.jpg'}, {'cast_id': 10, 'character': 'Troy', 'credit_id': '52fe44779251416c91011acf', 'gender': 2, 'id': 34, 'name': 'Mykelti Williamson', 'order': 7, 'profile_path': '/8TTxzpuvvpw2tB8xZBCDslYupNU.jpg'}, {'cast_id': 20, 'character': 'Joseph', 'credit_id': '56d1b15fc3a3681e4a008b6b', 'gender': 2, 'id': 1276777, 'name': 'Lamont Johnson', 'order': 8, 'profile_path': '/wfZzRPJBdsx62GbkUimc1PShxyC.jpg'}, {'cast_id': 21, 'character': 'James Wheeler', 'credit_id': '56f8a929c3a36816e80084f3', 'gender': 2, 'id': 10814, 'name': 'Wesley Snipes', 'order': 9, 'profile_path': '/hQ6EBa6vgu7HoZpzms8Y10VL5Iw.jpg'}]\n"
     ]
    }
   ],
   "source": [
    "for index_cast, row_cast in cast_df.iterrows():\n",
    "    row_cast_str = row_cast[\"cast\"]\n",
    "    if index_cast == 3:\n",
    "        print(row_cast_str)\n",
    "        row_cast_str = eliminar_caracteres(row_cast_str, \"'\", '\"', '\"')\n",
    "        print(row_cast_str)\n",
    "        "
   ]
  },
  {
   "cell_type": "code",
   "execution_count": 72,
   "metadata": {},
   "outputs": [
    {
     "name": "stdout",
     "output_type": "stream",
     "text": [
      "acter': '\"Jack Jones\"', 'credit_id': '52\n",
      "acter': 'Jack Jones', 'credit_id': '52fe\n"
     ]
    }
   ],
   "source": [
    "for index_cast, row_cast in cast_df.iterrows():\n",
    "    row_cast_str = row_cast[\"cast\"]\n",
    "    if index_cast == 13:\n",
    "        print(row_cast_str[3260:3300])\n",
    "        row_cast_str = eliminar_caracteres(row_cast_str, '\"', \"'\", \"'\")\n",
    "        print(row_cast_str[3260:3300])\n",
    "        break"
   ]
  },
  {
   "cell_type": "markdown",
   "metadata": {},
   "source": [
    "          row_cast_str = row_cast_str.replace(\"None\", \"null\")\n",
    "        row_cast_str = row_cast_str.replace(\"'\",\"\\\"\")\n",
    "\n",
    "    try:\n",
    "        row_cast_list = json.loads(row_cast_str)\n",
    "    except json.JSONDecodeError as e:\n",
    "        print('Error en la cadena:', e)\n",
    "        print(row_cast_str)\n",
    "        break\n",
    "        "
   ]
  },
  {
   "cell_type": "code",
   "execution_count": 34,
   "metadata": {},
   "outputs": [
    {
     "ename": "SyntaxError",
     "evalue": "invalid syntax. Perhaps you forgot a comma? (135386876.py, line 1)",
     "output_type": "error",
     "traceback": [
      "\u001b[1;36m  Cell \u001b[1;32mIn[34], line 1\u001b[1;36m\u001b[0m\n\u001b[1;33m    cadena_defectuosa = str([{\"cast_id\": 1, \"character\": \"Savannah \"Vannah\" Jackson\", \"credit_id\": \"52fe44779251416c91011aad\", \"gender\": 1, \"id\": 8851, \"name\": \"Whitney Houston\", \"order\": 0, \"profile_path\": \"/69ouDnXnmklYPr4sMJXWKYz81AL.jpg\"}, {\"cast_id\": 2, \"character\": \"Bernadine \"Bernie\" Harris\", \"credit_id\": \"52fe44779251416c91011ab1\", \"gender\": 1, \"id\": 9780, \"name\": \"Angela Bassett\", \"order\": 1, \"profile_path\": \"/tHkgSzhEuJKp5hqp0DZLad8HNZ9.jpg\"}, {\"cast_id\": 3, \"character\": \"Gloria \"Glo\" Matthews\", \"credit_id\": \"52fe44779251416c91011ab5\", \"gender\": 1, \"id\": 18284, \"name\": \"Loretta Devine\", \"order\": 2, \"profile_path\": \"/zLQFwQTFtHkb8sbFdkPNamFI7jv.jpg\"}, {\"cast_id\": 4, \"character\": \"Robin Stokes\", \"credit_id\": \"52fe44779251416c91011ab9\", \"gender\": 1, \"id\": 51359, \"name\": \"Lela Rochon\", \"order\": 3, \"profile_path\": \"/9DBu3r5O4fBosSS4FnSzFCVpm0O.jpg\"}, {\"cast_id\": 5, \"character\": \"Marvin King\", \"credit_id\": \"52fe44779251416c91011abd\", \"gender\": 2, \"id\": 66804, \"name\": \"Gregory Hines\", \"order\": 4, \"profile_path\": \"/rvvQWFQGeGR14WFVNe0Qg1J7uVY.jpg\"}, {\"cast_id\": 6, \"character\": \"Kenneth Dawkins\", \"credit_id\": \"52fe44779251416c91011ac1\", \"gender\": 2, \"id\": 352, \"name\": \"Dennis Haysbert\", \"order\": 5, \"profile_path\": \"/mn5Nc5Q31GslpVVWs8p41W4TBma.jpg\"}, {\"cast_id\": 8, \"character\": \"John Harris, Sr.\", \"credit_id\": \"52fe44779251416c91011ac5\", \"gender\": 2, \"id\": 87118, \"name\": \"Michael Beach\", \"order\": 6, \"profile_path\": \"/lOlWhURNKyZHn71dvq7qC7fiwN6.jpg\"}, {\"cast_id\": 10, \"character\": \"Troy\", \"credit_id\": \"52fe44779251416c91011acf\", \"gender\": 2, \"id\": 34, \"name\": \"Mykelti Williamson\", \"order\": 7, \"profile_path\": \"/8TTxzpuvvpw2tB8xZBCDslYupNU.jpg\"}, {\"cast_id\": 20, \"character\": \"Joseph\", \"credit_id\": \"56d1b15fc3a3681e4a008b6b\", \"gender\": 2, \"id\": 1276777, \"name\": \"Lamont Johnson\", \"order\": 8, \"profile_path\": \"/wfZzRPJBdsx62GbkUimc1PShxyC.jpg\"}, {\"cast_id\": 21, \"character\": \"James Wheeler\", \"credit_id\": \"56f8a929c3a36816e80084f3\", \"gender\": 2, \"id\": 10814, \"name\": \"Wesley Snipes\", \"order\": 9, \"profile_path\": \"/hQ6EBa6vgu7HoZpzms8Y10VL5Iw.jpg\"}])\u001b[0m\n\u001b[1;37m                                                         ^\u001b[0m\n\u001b[1;31mSyntaxError\u001b[0m\u001b[1;31m:\u001b[0m invalid syntax. Perhaps you forgot a comma?\n"
     ]
    }
   ],
   "source": [
    "cadena_defectuosa = str([{\"cast_id\": 1, \"character\": \"Savannah \"Vannah\" Jackson\", \"credit_id\": \"52fe44779251416c91011aad\", \"gender\": 1, \"id\": 8851, \"name\": \"Whitney Houston\", \"order\": 0, \"profile_path\": \"/69ouDnXnmklYPr4sMJXWKYz81AL.jpg\"}, {\"cast_id\": 2, \"character\": \"Bernadine \"Bernie\" Harris\", \"credit_id\": \"52fe44779251416c91011ab1\", \"gender\": 1, \"id\": 9780, \"name\": \"Angela Bassett\", \"order\": 1, \"profile_path\": \"/tHkgSzhEuJKp5hqp0DZLad8HNZ9.jpg\"}, {\"cast_id\": 3, \"character\": \"Gloria \"Glo\" Matthews\", \"credit_id\": \"52fe44779251416c91011ab5\", \"gender\": 1, \"id\": 18284, \"name\": \"Loretta Devine\", \"order\": 2, \"profile_path\": \"/zLQFwQTFtHkb8sbFdkPNamFI7jv.jpg\"}, {\"cast_id\": 4, \"character\": \"Robin Stokes\", \"credit_id\": \"52fe44779251416c91011ab9\", \"gender\": 1, \"id\": 51359, \"name\": \"Lela Rochon\", \"order\": 3, \"profile_path\": \"/9DBu3r5O4fBosSS4FnSzFCVpm0O.jpg\"}, {\"cast_id\": 5, \"character\": \"Marvin King\", \"credit_id\": \"52fe44779251416c91011abd\", \"gender\": 2, \"id\": 66804, \"name\": \"Gregory Hines\", \"order\": 4, \"profile_path\": \"/rvvQWFQGeGR14WFVNe0Qg1J7uVY.jpg\"}, {\"cast_id\": 6, \"character\": \"Kenneth Dawkins\", \"credit_id\": \"52fe44779251416c91011ac1\", \"gender\": 2, \"id\": 352, \"name\": \"Dennis Haysbert\", \"order\": 5, \"profile_path\": \"/mn5Nc5Q31GslpVVWs8p41W4TBma.jpg\"}, {\"cast_id\": 8, \"character\": \"John Harris, Sr.\", \"credit_id\": \"52fe44779251416c91011ac5\", \"gender\": 2, \"id\": 87118, \"name\": \"Michael Beach\", \"order\": 6, \"profile_path\": \"/lOlWhURNKyZHn71dvq7qC7fiwN6.jpg\"}, {\"cast_id\": 10, \"character\": \"Troy\", \"credit_id\": \"52fe44779251416c91011acf\", \"gender\": 2, \"id\": 34, \"name\": \"Mykelti Williamson\", \"order\": 7, \"profile_path\": \"/8TTxzpuvvpw2tB8xZBCDslYupNU.jpg\"}, {\"cast_id\": 20, \"character\": \"Joseph\", \"credit_id\": \"56d1b15fc3a3681e4a008b6b\", \"gender\": 2, \"id\": 1276777, \"name\": \"Lamont Johnson\", \"order\": 8, \"profile_path\": \"/wfZzRPJBdsx62GbkUimc1PShxyC.jpg\"}, {\"cast_id\": 21, \"character\": \"James Wheeler\", \"credit_id\": \"56f8a929c3a36816e80084f3\", \"gender\": 2, \"id\": 10814, \"name\": \"Wesley Snipes\", \"order\": 9, \"profile_path\": \"/hQ6EBa6vgu7HoZpzms8Y10VL5Iw.jpg\"}])"
   ]
  },
  {
   "cell_type": "code",
   "execution_count": null,
   "metadata": {},
   "outputs": [],
   "source": [
    "cast_df_clear.head()"
   ]
  },
  {
   "cell_type": "code",
   "execution_count": 24,
   "metadata": {},
   "outputs": [
    {
     "data": {
      "text/html": [
       "<div>\n",
       "<style scoped>\n",
       "    .dataframe tbody tr th:only-of-type {\n",
       "        vertical-align: middle;\n",
       "    }\n",
       "\n",
       "    .dataframe tbody tr th {\n",
       "        vertical-align: top;\n",
       "    }\n",
       "\n",
       "    .dataframe thead th {\n",
       "        text-align: right;\n",
       "    }\n",
       "</style>\n",
       "<table border=\"1\" class=\"dataframe\">\n",
       "  <thead>\n",
       "    <tr style=\"text-align: right;\">\n",
       "      <th></th>\n",
       "    </tr>\n",
       "  </thead>\n",
       "  <tbody>\n",
       "  </tbody>\n",
       "</table>\n",
       "</div>"
      ],
      "text/plain": [
       "Empty DataFrame\n",
       "Columns: []\n",
       "Index: []"
      ]
     },
     "execution_count": 24,
     "metadata": {},
     "output_type": "execute_result"
    }
   ],
   "source": [
    "cast_id_df = pd.DataFrame()\n",
    "cast_id_df"
   ]
  },
  {
   "cell_type": "code",
   "execution_count": 22,
   "metadata": {},
   "outputs": [
    {
     "ename": "JSONDecodeError",
     "evalue": "Expecting ',' delimiter: line 1 column 41 (char 40)",
     "output_type": "error",
     "traceback": [
      "\u001b[1;31m---------------------------------------------------------------------------\u001b[0m",
      "\u001b[1;31mJSONDecodeError\u001b[0m                           Traceback (most recent call last)",
      "Cell \u001b[1;32mIn[22], line 6\u001b[0m\n\u001b[0;32m      4\u001b[0m row_cast_str \u001b[38;5;241m=\u001b[39m row_cast_str\u001b[38;5;241m.\u001b[39mreplace(\u001b[38;5;124m\"\u001b[39m\u001b[38;5;124m'\u001b[39m\u001b[38;5;124m\"\u001b[39m,\u001b[38;5;124m'\u001b[39m\u001b[38;5;124m\"\u001b[39m\u001b[38;5;124m'\u001b[39m)\n\u001b[0;32m      5\u001b[0m row_cast_str \u001b[38;5;241m=\u001b[39m row_cast_str\u001b[38;5;241m.\u001b[39mreplace(\u001b[38;5;124m\"\u001b[39m\u001b[38;5;124mNone\u001b[39m\u001b[38;5;124m\"\u001b[39m, \u001b[38;5;124m\"\u001b[39m\u001b[38;5;124mnull\u001b[39m\u001b[38;5;124m\"\u001b[39m)\n\u001b[1;32m----> 6\u001b[0m row_cast_list \u001b[38;5;241m=\u001b[39m \u001b[43mjson\u001b[49m\u001b[38;5;241;43m.\u001b[39;49m\u001b[43mloads\u001b[49m\u001b[43m(\u001b[49m\u001b[43mrow_cast_str\u001b[49m\u001b[43m)\u001b[49m\n\u001b[0;32m      7\u001b[0m row_cast_df \u001b[38;5;241m=\u001b[39m pd\u001b[38;5;241m.\u001b[39mDataFrame(row_cast_list)\n\u001b[0;32m      9\u001b[0m \u001b[38;5;28;01mfor\u001b[39;00m index_id, row_id \u001b[38;5;129;01min\u001b[39;00m id_df\u001b[38;5;241m.\u001b[39miterrows():\n",
      "File \u001b[1;32m~\\AppData\\Local\\Programs\\Python\\Python311\\Lib\\json\\__init__.py:346\u001b[0m, in \u001b[0;36mloads\u001b[1;34m(s, cls, object_hook, parse_float, parse_int, parse_constant, object_pairs_hook, **kw)\u001b[0m\n\u001b[0;32m    341\u001b[0m     s \u001b[38;5;241m=\u001b[39m s\u001b[38;5;241m.\u001b[39mdecode(detect_encoding(s), \u001b[38;5;124m'\u001b[39m\u001b[38;5;124msurrogatepass\u001b[39m\u001b[38;5;124m'\u001b[39m)\n\u001b[0;32m    343\u001b[0m \u001b[38;5;28;01mif\u001b[39;00m (\u001b[38;5;28mcls\u001b[39m \u001b[38;5;129;01mis\u001b[39;00m \u001b[38;5;28;01mNone\u001b[39;00m \u001b[38;5;129;01mand\u001b[39;00m object_hook \u001b[38;5;129;01mis\u001b[39;00m \u001b[38;5;28;01mNone\u001b[39;00m \u001b[38;5;129;01mand\u001b[39;00m\n\u001b[0;32m    344\u001b[0m         parse_int \u001b[38;5;129;01mis\u001b[39;00m \u001b[38;5;28;01mNone\u001b[39;00m \u001b[38;5;129;01mand\u001b[39;00m parse_float \u001b[38;5;129;01mis\u001b[39;00m \u001b[38;5;28;01mNone\u001b[39;00m \u001b[38;5;129;01mand\u001b[39;00m\n\u001b[0;32m    345\u001b[0m         parse_constant \u001b[38;5;129;01mis\u001b[39;00m \u001b[38;5;28;01mNone\u001b[39;00m \u001b[38;5;129;01mand\u001b[39;00m object_pairs_hook \u001b[38;5;129;01mis\u001b[39;00m \u001b[38;5;28;01mNone\u001b[39;00m \u001b[38;5;129;01mand\u001b[39;00m \u001b[38;5;129;01mnot\u001b[39;00m kw):\n\u001b[1;32m--> 346\u001b[0m     \u001b[38;5;28;01mreturn\u001b[39;00m \u001b[43m_default_decoder\u001b[49m\u001b[38;5;241;43m.\u001b[39;49m\u001b[43mdecode\u001b[49m\u001b[43m(\u001b[49m\u001b[43ms\u001b[49m\u001b[43m)\u001b[49m\n\u001b[0;32m    347\u001b[0m \u001b[38;5;28;01mif\u001b[39;00m \u001b[38;5;28mcls\u001b[39m \u001b[38;5;129;01mis\u001b[39;00m \u001b[38;5;28;01mNone\u001b[39;00m:\n\u001b[0;32m    348\u001b[0m     \u001b[38;5;28mcls\u001b[39m \u001b[38;5;241m=\u001b[39m JSONDecoder\n",
      "File \u001b[1;32m~\\AppData\\Local\\Programs\\Python\\Python311\\Lib\\json\\decoder.py:337\u001b[0m, in \u001b[0;36mJSONDecoder.decode\u001b[1;34m(self, s, _w)\u001b[0m\n\u001b[0;32m    332\u001b[0m \u001b[38;5;28;01mdef\u001b[39;00m \u001b[38;5;21mdecode\u001b[39m(\u001b[38;5;28mself\u001b[39m, s, _w\u001b[38;5;241m=\u001b[39mWHITESPACE\u001b[38;5;241m.\u001b[39mmatch):\n\u001b[0;32m    333\u001b[0m \u001b[38;5;250m    \u001b[39m\u001b[38;5;124;03m\"\"\"Return the Python representation of ``s`` (a ``str`` instance\u001b[39;00m\n\u001b[0;32m    334\u001b[0m \u001b[38;5;124;03m    containing a JSON document).\u001b[39;00m\n\u001b[0;32m    335\u001b[0m \n\u001b[0;32m    336\u001b[0m \u001b[38;5;124;03m    \"\"\"\u001b[39;00m\n\u001b[1;32m--> 337\u001b[0m     obj, end \u001b[38;5;241m=\u001b[39m \u001b[38;5;28;43mself\u001b[39;49m\u001b[38;5;241;43m.\u001b[39;49m\u001b[43mraw_decode\u001b[49m\u001b[43m(\u001b[49m\u001b[43ms\u001b[49m\u001b[43m,\u001b[49m\u001b[43m \u001b[49m\u001b[43midx\u001b[49m\u001b[38;5;241;43m=\u001b[39;49m\u001b[43m_w\u001b[49m\u001b[43m(\u001b[49m\u001b[43ms\u001b[49m\u001b[43m,\u001b[49m\u001b[43m \u001b[49m\u001b[38;5;241;43m0\u001b[39;49m\u001b[43m)\u001b[49m\u001b[38;5;241;43m.\u001b[39;49m\u001b[43mend\u001b[49m\u001b[43m(\u001b[49m\u001b[43m)\u001b[49m\u001b[43m)\u001b[49m\n\u001b[0;32m    338\u001b[0m     end \u001b[38;5;241m=\u001b[39m _w(s, end)\u001b[38;5;241m.\u001b[39mend()\n\u001b[0;32m    339\u001b[0m     \u001b[38;5;28;01mif\u001b[39;00m end \u001b[38;5;241m!=\u001b[39m \u001b[38;5;28mlen\u001b[39m(s):\n",
      "File \u001b[1;32m~\\AppData\\Local\\Programs\\Python\\Python311\\Lib\\json\\decoder.py:353\u001b[0m, in \u001b[0;36mJSONDecoder.raw_decode\u001b[1;34m(self, s, idx)\u001b[0m\n\u001b[0;32m    344\u001b[0m \u001b[38;5;250m\u001b[39m\u001b[38;5;124;03m\"\"\"Decode a JSON document from ``s`` (a ``str`` beginning with\u001b[39;00m\n\u001b[0;32m    345\u001b[0m \u001b[38;5;124;03ma JSON document) and return a 2-tuple of the Python\u001b[39;00m\n\u001b[0;32m    346\u001b[0m \u001b[38;5;124;03mrepresentation and the index in ``s`` where the document ended.\u001b[39;00m\n\u001b[1;32m   (...)\u001b[0m\n\u001b[0;32m    350\u001b[0m \n\u001b[0;32m    351\u001b[0m \u001b[38;5;124;03m\"\"\"\u001b[39;00m\n\u001b[0;32m    352\u001b[0m \u001b[38;5;28;01mtry\u001b[39;00m:\n\u001b[1;32m--> 353\u001b[0m     obj, end \u001b[38;5;241m=\u001b[39m \u001b[38;5;28;43mself\u001b[39;49m\u001b[38;5;241;43m.\u001b[39;49m\u001b[43mscan_once\u001b[49m\u001b[43m(\u001b[49m\u001b[43ms\u001b[49m\u001b[43m,\u001b[49m\u001b[43m \u001b[49m\u001b[43midx\u001b[49m\u001b[43m)\u001b[49m\n\u001b[0;32m    354\u001b[0m \u001b[38;5;28;01mexcept\u001b[39;00m \u001b[38;5;167;01mStopIteration\u001b[39;00m \u001b[38;5;28;01mas\u001b[39;00m err:\n\u001b[0;32m    355\u001b[0m     \u001b[38;5;28;01mraise\u001b[39;00m JSONDecodeError(\u001b[38;5;124m\"\u001b[39m\u001b[38;5;124mExpecting value\u001b[39m\u001b[38;5;124m\"\u001b[39m, s, err\u001b[38;5;241m.\u001b[39mvalue) \u001b[38;5;28;01mfrom\u001b[39;00m \u001b[38;5;28;01mNone\u001b[39;00m\n",
      "\u001b[1;31mJSONDecodeError\u001b[0m: Expecting ',' delimiter: line 1 column 41 (char 40)"
     ]
    }
   ],
   "source": [
    "for index_cast, row_cast in cast_df.iterrows():\n",
    "    \n",
    "    row_cast_str = row_cast[\"cast\"]\n",
    "    row_cast_str = row_cast_str.replace(\"'\",'\"')\n",
    "    row_cast_str = row_cast_str.replace(\"None\", \"null\")\n",
    "    row_cast_list = json.loads(row_cast_str)\n",
    "    row_cast_df = pd.DataFrame(row_cast_list)\n",
    "    \n",
    "    for index_id, row_id in id_df.iterrows():\n",
    "        row_id_int = row_id['id']\n",
    "        row_id_df = pd.DataFrame([row_id_int], columns=['id'])\n",
    "        row_id_df_repeat = pd.concat([row_id_df] * len(row_cast_df), ignore_index=True)\n",
    "        row_cast_id_df = pd.concat([row_cast_df.reset_index(drop=True), row_id_df_repeat.reset_index(drop=True)], axis=1)\n",
    "    \n",
    "    cast_id_df = pd.concat([cast_id_df, row_cast_id_df], axis=0, ignore_index=True)\n",
    "\n",
    "cast_id_df.head()    "
   ]
  },
  {
   "cell_type": "code",
   "execution_count": null,
   "metadata": {},
   "outputs": [],
   "source": []
  }
 ],
 "metadata": {
  "kernelspec": {
   "display_name": "venv",
   "language": "python",
   "name": "python3"
  },
  "language_info": {
   "codemirror_mode": {
    "name": "ipython",
    "version": 3
   },
   "file_extension": ".py",
   "mimetype": "text/x-python",
   "name": "python",
   "nbconvert_exporter": "python",
   "pygments_lexer": "ipython3",
   "version": "3.11.9"
  }
 },
 "nbformat": 4,
 "nbformat_minor": 2
}
