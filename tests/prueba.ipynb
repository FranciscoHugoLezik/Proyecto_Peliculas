{
 "cells": [
  {
   "cell_type": "code",
   "execution_count": 3,
   "metadata": {},
   "outputs": [],
   "source": [
    "import os\n",
    "import pandas as pd"
   ]
  },
  {
   "cell_type": "code",
   "execution_count": 5,
   "metadata": {},
   "outputs": [],
   "source": [
    "def importar_archivo(*args):\n",
    "    current_dir = os.getcwd()\n",
    "    base_dir = os.path.dirname(current_dir)\n",
    "    file_path = os.path.join(base_dir, *args)\n",
    "    archivo = pd.read_parquet(file_path, \n",
    "                              engine='fastparquet')\n",
    "    return(archivo)\n",
    "\n",
    "\n",
    "movies = importar_archivo('data', \n",
    "                          'ETL_data', \n",
    "                          'movies_dataset', \n",
    "                          'movies.parquet')\n",
    "movies.set_index('title', \n",
    "                 inplace=True)"
   ]
  },
  {
   "cell_type": "code",
   "execution_count": 7,
   "metadata": {},
   "outputs": [],
   "source": [
    "cast = importar_archivo('data', \n",
    "                        'ETL_data', \n",
    "                        'credits', \n",
    "                        'cast.parquet')"
   ]
  },
  {
   "cell_type": "code",
   "execution_count": 8,
   "metadata": {},
   "outputs": [
    {
     "name": "stdout",
     "output_type": "stream",
     "text": [
      "<class 'pandas.core.frame.DataFrame'>\n",
      "Index: 72 entries, 0 to 542087\n",
      "Data columns (total 9 columns):\n",
      " #   Column        Non-Null Count  Dtype \n",
      "---  ------        --------------  ----- \n",
      " 0   cast_id       72 non-null     object\n",
      " 1   character     72 non-null     object\n",
      " 2   credit_id     72 non-null     object\n",
      " 3   gender        72 non-null     object\n",
      " 4   person_id     72 non-null     object\n",
      " 5   name          72 non-null     object\n",
      " 6   order         72 non-null     object\n",
      " 7   profile_path  72 non-null     object\n",
      " 8   movie_id      72 non-null     object\n",
      "dtypes: object(9)\n",
      "memory usage: 5.6+ KB\n"
     ]
    }
   ],
   "source": [
    "actor = cast[cast['name'] == 'Tom Hanks']\n",
    "actor.info()"
   ]
  },
  {
   "cell_type": "code",
   "execution_count": 9,
   "metadata": {},
   "outputs": [
    {
     "data": {
      "text/html": [
       "<div>\n",
       "<style scoped>\n",
       "    .dataframe tbody tr th:only-of-type {\n",
       "        vertical-align: middle;\n",
       "    }\n",
       "\n",
       "    .dataframe tbody tr th {\n",
       "        vertical-align: top;\n",
       "    }\n",
       "\n",
       "    .dataframe thead th {\n",
       "        text-align: right;\n",
       "    }\n",
       "</style>\n",
       "<table border=\"1\" class=\"dataframe\">\n",
       "  <thead>\n",
       "    <tr style=\"text-align: right;\">\n",
       "      <th></th>\n",
       "      <th>name</th>\n",
       "      <th>movie_id</th>\n",
       "    </tr>\n",
       "  </thead>\n",
       "  <tbody>\n",
       "    <tr>\n",
       "      <th>0</th>\n",
       "      <td>Tom Hanks</td>\n",
       "      <td>862</td>\n",
       "    </tr>\n",
       "    <tr>\n",
       "      <th>2393</th>\n",
       "      <td>Tom Hanks</td>\n",
       "      <td>568</td>\n",
       "    </tr>\n",
       "    <tr>\n",
       "      <th>5859</th>\n",
       "      <td>Tom Hanks</td>\n",
       "      <td>13</td>\n",
       "    </tr>\n",
       "    <tr>\n",
       "      <th>8489</th>\n",
       "      <td>Tom Hanks</td>\n",
       "      <td>9800</td>\n",
       "    </tr>\n",
       "    <tr>\n",
       "      <th>9083</th>\n",
       "      <td>Tom Hanks</td>\n",
       "      <td>858</td>\n",
       "    </tr>\n",
       "    <tr>\n",
       "      <th>...</th>\n",
       "      <td>...</td>\n",
       "      <td>...</td>\n",
       "    </tr>\n",
       "    <tr>\n",
       "      <th>504992</th>\n",
       "      <td>Tom Hanks</td>\n",
       "      <td>363676</td>\n",
       "    </tr>\n",
       "    <tr>\n",
       "      <th>520042</th>\n",
       "      <td>Tom Hanks</td>\n",
       "      <td>207932</td>\n",
       "    </tr>\n",
       "    <tr>\n",
       "      <th>538742</th>\n",
       "      <td>Tom Hanks</td>\n",
       "      <td>140465</td>\n",
       "    </tr>\n",
       "    <tr>\n",
       "      <th>541857</th>\n",
       "      <td>Tom Hanks</td>\n",
       "      <td>305642</td>\n",
       "    </tr>\n",
       "    <tr>\n",
       "      <th>542087</th>\n",
       "      <td>Tom Hanks</td>\n",
       "      <td>331214</td>\n",
       "    </tr>\n",
       "  </tbody>\n",
       "</table>\n",
       "<p>72 rows × 2 columns</p>\n",
       "</div>"
      ],
      "text/plain": [
       "             name movie_id\n",
       "0       Tom Hanks      862\n",
       "2393    Tom Hanks      568\n",
       "5859    Tom Hanks       13\n",
       "8489    Tom Hanks     9800\n",
       "9083    Tom Hanks      858\n",
       "...           ...      ...\n",
       "504992  Tom Hanks   363676\n",
       "520042  Tom Hanks   207932\n",
       "538742  Tom Hanks   140465\n",
       "541857  Tom Hanks   305642\n",
       "542087  Tom Hanks   331214\n",
       "\n",
       "[72 rows x 2 columns]"
      ]
     },
     "execution_count": 9,
     "metadata": {},
     "output_type": "execute_result"
    }
   ],
   "source": [
    "actor = actor[['name', 'movie_id']].copy()\n",
    "actor"
   ]
  },
  {
   "cell_type": "code",
   "execution_count": 10,
   "metadata": {},
   "outputs": [
    {
     "name": "stdout",
     "output_type": "stream",
     "text": [
      "<class 'pandas.core.frame.DataFrame'>\n",
      "Index: 71 entries, 0 to 542087\n",
      "Data columns (total 2 columns):\n",
      " #   Column    Non-Null Count  Dtype \n",
      "---  ------    --------------  ----- \n",
      " 0   name      71 non-null     object\n",
      " 1   movie_id  71 non-null     object\n",
      "dtypes: object(2)\n",
      "memory usage: 1.7+ KB\n"
     ]
    }
   ],
   "source": [
    "actor.drop_duplicates(subset=['movie_id'], inplace=True)\n",
    "actor.info()"
   ]
  },
  {
   "cell_type": "code",
   "execution_count": 11,
   "metadata": {},
   "outputs": [],
   "source": [
    "peliculas = movies[['id', 'return']].copy()\n",
    "peliculas.rename(columns={'id': 'movie_id'}, inplace=True)\n",
    "peliculas = pd.merge(actor, peliculas, on='movie_id')"
   ]
  },
  {
   "cell_type": "code",
   "execution_count": 12,
   "metadata": {},
   "outputs": [
    {
     "name": "stdout",
     "output_type": "stream",
     "text": [
      "<class 'pandas.core.frame.DataFrame'>\n",
      "RangeIndex: 71 entries, 0 to 70\n",
      "Data columns (total 3 columns):\n",
      " #   Column    Non-Null Count  Dtype  \n",
      "---  ------    --------------  -----  \n",
      " 0   name      71 non-null     object \n",
      " 1   movie_id  71 non-null     object \n",
      " 2   return    71 non-null     float64\n",
      "dtypes: float64(1), object(2)\n",
      "memory usage: 1.8+ KB\n"
     ]
    }
   ],
   "source": [
    "peliculas.info()"
   ]
  },
  {
   "cell_type": "code",
   "execution_count": 13,
   "metadata": {},
   "outputs": [
    {
     "name": "stdout",
     "output_type": "stream",
     "text": [
      "<class 'pandas.core.frame.DataFrame'>\n",
      "Index: 41 entries, 0 to 67\n",
      "Data columns (total 3 columns):\n",
      " #   Column    Non-Null Count  Dtype  \n",
      "---  ------    --------------  -----  \n",
      " 0   name      41 non-null     object \n",
      " 1   movie_id  41 non-null     object \n",
      " 2   return    41 non-null     float64\n",
      "dtypes: float64(1), object(2)\n",
      "memory usage: 1.3+ KB\n"
     ]
    }
   ],
   "source": [
    "peliculas_con_retorno = peliculas[peliculas['return'] != 0]\n",
    "peliculas_con_retorno.info()"
   ]
  }
 ],
 "metadata": {
  "kernelspec": {
   "display_name": "venv",
   "language": "python",
   "name": "python3"
  },
  "language_info": {
   "codemirror_mode": {
    "name": "ipython",
    "version": 3
   },
   "file_extension": ".py",
   "mimetype": "text/x-python",
   "name": "python",
   "nbconvert_exporter": "python",
   "pygments_lexer": "ipython3",
   "version": "3.8.10"
  }
 },
 "nbformat": 4,
 "nbformat_minor": 2
}
